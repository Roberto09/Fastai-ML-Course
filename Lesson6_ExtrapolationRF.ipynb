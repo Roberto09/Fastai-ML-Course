{
  "nbformat": 4,
  "nbformat_minor": 0,
  "metadata": {
    "colab": {
      "name": "Lesson6_ExtrapolationRF.ipynb",
      "provenance": []
    },
    "kernelspec": {
      "name": "python3",
      "display_name": "Python 3"
    }
  },
  "cells": [
    {
      "cell_type": "markdown",
      "metadata": {
        "id": "Cv3ndOTLWxZc",
        "colab_type": "text"
      },
      "source": [
        "#**Lesson 6: Extrapolation**"
      ]
    },
    {
      "cell_type": "markdown",
      "metadata": {
        "id": "t7rESUM64mae",
        "colab_type": "text"
      },
      "source": [
        "##**An insight to the industry**"
      ]
    },
    {
      "cell_type": "markdown",
      "metadata": {
        "id": "ILChVygX47pM",
        "colab_type": "text"
      },
      "source": [
        "###**Groups of applications**"
      ]
    },
    {
      "cell_type": "markdown",
      "metadata": {
        "id": "h6V_hTdW5I4a",
        "colab_type": "text"
      },
      "source": [
        "* **Horizontal**: In business, horizontal means something that you do across different kinds of business. i.e. everything involving marketing.\n",
        "\n",
        "* **Vertical**: Something you do within a business or within a supply chain or a process."
      ]
    },
    {
      "cell_type": "markdown",
      "metadata": {
        "id": "2aiwZ99q5THp",
        "colab_type": "text"
      },
      "source": [
        "###**Designing great data products**\n",
        "Book from Jeremy Howard that teaches us how to turn machine learning models into stuff that makes money.\n",
        "</br> </br>\n",
        "The basic trick is the **Drivetrain Approach** which is these four steps:\n",
        "\n",
        "* **Defined Objective:** We first of all have to define the real industry objective which is exactly what our client wants. Examples of objectives are:\n",
        "I’m trying to sell more books or I’m trying to reduce the number of customers that leave next month or I’m trying to detect lung cancer earlier. \n",
        "\n",
        "* **Levers:** What is a lever an organization can pull to achive their objective? So let’s take the example of churn modeling. What is a lever that an organization could use to reduce the number of customers that are leaving? They could call someone and say “Are you happy? Anything we could do?” They could give them a free pen or something if they buy $20 worth of product next month. You could give them specials, etc. Working on this levers is thinking: how we are trying to achieve it being what are the actual things we can do to make that objective happen.So building a model is never ever a lever, but it could help you with the lever.\n",
        "\n",
        "* **Data:** What data does the organization have that could possibly help them to set that lever to achieve that objective. So this is not only what data did they give you when you started the project but is what data you thinkg they could have that might help you achive the objective better. This is about letting your client know which data will be useful and if they have it, if not then how they can start collecting it.\n",
        "\n",
        "* **Models:** We now have to put together our model, but this is not a model in the sense of a predictive model but it’s a model in the sense of a simulation model. So generally your simulation model contains a number of predictive models. So I had, for example, a predictive model called an elasticity model that said for a specific customer, if we charge them a specific price for a specific product, what’s the probability that they would say yes both when it’s new business and then a year later what’s the probability that they’ll renew. Then there’s another predictive model which is what’s the probability that they are going to make a claim and how much is that claim going to be. You can then combine these models together then to say all right, if we changed our pricing by reducing it by 10% for everybody between 18 and 25 and we can run it through these models that combined together into a simulation then the overall impact on our market share in 10 years time is X and our cost is Y and our profit is Z and so forth.\n",
        "</br>\n",
        "In practice, most of the time, you really are going to care more about the results of that simulation than you do about the predictive model directly.\n",
        "So what if instead of creating a predictive model, Amazon had built an optimization model that could simulate and said if we show Jeremy this ad, how likely is he then to go on to buy this book and if I don’t show him this ad, how likely is he to go on to buy this book. So that’s the counterfactual. The counter factual is what would have happened otherwise, and then you can take the difference and say what should we recommend him that is going to maximally change his behavior. So maximally result in more books and so you’d probably say oh he’s never bought any Terry Pratchett book, he probably doesn’t know about Terry Pratchett but lots of people that liked Douglas Adams did turn out to like Terry Pratchett so let’s introduce him to a new author.\n",
        "So it’s the difference between a predictive model on the one hand versus an optimization model on the other hand. So the two tend to go hand in hand.</br></br>First of all we have a simulation model. The simulation model is saying in the world where we put Terry Pratchett’s book on the front page of Amazon for Jeremy Howard, this is what would have happened. He would have bought it with a 94% probability. That then tells us with this lever of what do I put on my homepage for Jeremy today, we say okay the different settings of that lever that put Terry Pratchett on the homepage has the highest simulated outcome. Then that’s the thing which maximizes our profit from Jeremy’s visit to amazon.com today.\n",
        "</br></br>So if we take the intersection between on the one hand, here are all the levers that we could pull (here are all the things we can do) and then here are all of the features from our random forest feature importance that turn out to be strong drivers of the outcome. So then the intersection of those is here are the levers we could pull that actually matter. Because if you can’t change the thing, that is not very interesting. And if it’s not actually a significant driver, it’s not very interesting. </br></br>So we can actually use our random forest feature importance to tell us what can we actually do to make a difference. Then we can use the partial dependence to actually build this kind of simulation model to say okay if we did change that, what would happen."
      ]
    },
    {
      "cell_type": "markdown",
      "metadata": {
        "id": "GztauTTAW4Qi",
        "colab_type": "text"
      },
      "source": [
        "##**Experimentation**"
      ]
    },
    {
      "cell_type": "markdown",
      "metadata": {
        "id": "DWveOdP2W9of",
        "colab_type": "text"
      },
      "source": [
        "For experimentation it's always good to use synthetic data sets, for instance forcing a linear change or some relation between our variables. For instance we could use something such as y = x1 + x2 + x1*x2, something where we know which variable interactions exists and which don't and you got to make sure that the feature importance you get a t the end is what you expected.\n",
        "</br> </br>\n",
        "A good way to do feature importance here besides the one we've already used would be to use our **tree interpreter** technique for all our rows and add up the delta they produce on the average for that to be our feature importance."
      ]
    },
    {
      "cell_type": "code",
      "metadata": {
        "id": "Npq9AA1UUWBw",
        "colab_type": "code",
        "colab": {}
      },
      "source": [
        "#You can edit source code from modules and they will update accordingly\n",
        "%load_ext autoreload\n",
        "%autoreload 2\n",
        "\n",
        "%matplotlib inline"
      ],
      "execution_count": 0,
      "outputs": []
    },
    {
      "cell_type": "code",
      "metadata": {
        "id": "OJJKGqkjUYih",
        "colab_type": "code",
        "colab": {}
      },
      "source": [
        "from google.colab import drive\n",
        "drive.mount('/content/gdrive')"
      ],
      "execution_count": 0,
      "outputs": []
    },
    {
      "cell_type": "code",
      "metadata": {
        "id": "JDBoypbXUkXK",
        "colab_type": "code",
        "colab": {}
      },
      "source": [
        "#Needed imports\n",
        "import sys\n",
        "from fastai.imports import *\n",
        "from fastai.tabular import *\n",
        "\n",
        "sys.path.insert(0, '/content/gdrive/My Drive/Colab Notebooks/L1RF')\n",
        "from structured import *\n",
        "\n",
        "# pandas???\n",
        "from sklearn.ensemble import RandomForestRegressor\n",
        "from IPython.display import display\n",
        "\n",
        "from sklearn import metrics"
      ],
      "execution_count": 0,
      "outputs": []
    },
    {
      "cell_type": "markdown",
      "metadata": {
        "id": "C8x7KNBZYYrj",
        "colab_type": "text"
      },
      "source": [
        "Lets create our x's using linspace which creates some eavenly space data between start and stop (by default 50 observations) and for the y variable we would use our x's but we will add some small randomness to it to preserve the linear relation."
      ]
    },
    {
      "cell_type": "code",
      "metadata": {
        "id": "pxxU0MZMUqhK",
        "colab_type": "code",
        "colab": {}
      },
      "source": [
        "x = np.linspace(0, 1)\n",
        "y = x + np.random.uniform(-0.2, 0.2, x.shape)"
      ],
      "execution_count": 0,
      "outputs": []
    },
    {
      "cell_type": "code",
      "metadata": {
        "id": "yBAnJbJHVSgk",
        "colab_type": "code",
        "outputId": "b9939893-6bae-4c02-cc31-1bf5d08712b8",
        "colab": {
          "base_uri": "https://localhost:8080/",
          "height": 34
        }
      },
      "source": [
        "x.shape"
      ],
      "execution_count": 0,
      "outputs": [
        {
          "output_type": "execute_result",
          "data": {
            "text/plain": [
              "(50,)"
            ]
          },
          "metadata": {
            "tags": []
          },
          "execution_count": 5
        }
      ]
    },
    {
      "cell_type": "code",
      "metadata": {
        "id": "IYCFzdGDVTuK",
        "colab_type": "code",
        "outputId": "ef48bca8-2a6b-43f0-b8a4-1f1eae3365b5",
        "colab": {
          "base_uri": "https://localhost:8080/",
          "height": 282
        }
      },
      "source": [
        "plt.scatter(x, y)"
      ],
      "execution_count": 0,
      "outputs": [
        {
          "output_type": "execute_result",
          "data": {
            "text/plain": [
              "<matplotlib.collections.PathCollection at 0x7f6522b2dba8>"
            ]
          },
          "metadata": {
            "tags": []
          },
          "execution_count": 6
        },
        {
          "output_type": "display_data",
          "data": {
            "image/png": "[encoded data removed]",
            "text/plain": [
              "<Figure size 432x288 with 1 Axes>"
            ]
          },
          "metadata": {
            "tags": []
          }
        }
      ]
    },
    {
      "cell_type": "markdown",
      "metadata": {
        "id": "ig0cjApnabM5",
        "colab_type": "text"
      },
      "source": [
        "An important thing is that x is a 1d array (which means it only has 1 axis, it's from rank 1) and our model should be trained with a 2d array (or a df) where every column has a value. this means we should end up with this:\n",
        "\n",
        "```\n",
        "x=[\n",
        "    [x0],  \n",
        "    [x1]\n",
        "    ...\n",
        "    [xn]\n",
        "  ]\n",
        "```\n",
        "\n",
        "The way we can turn this into a 2 dimensional array and what we can do for it is to simply slice it."
      ]
    },
    {
      "cell_type": "code",
      "metadata": {
        "id": "u2jcPTPubXZq",
        "colab_type": "code",
        "outputId": "016e2103-7133-49e2-c8dc-48d4472d04a9",
        "colab": {
          "base_uri": "https://localhost:8080/",
          "height": 34
        }
      },
      "source": [
        "#rank = dimensions of tensor\n",
        "print('rank: ', len(x1.shape))"
      ],
      "execution_count": 0,
      "outputs": [
        {
          "output_type": "stream",
          "text": [
            "rank:  2\n"
          ],
          "name": "stdout"
        }
      ]
    },
    {
      "cell_type": "code",
      "metadata": {
        "id": "e8BO67PmV4px",
        "colab_type": "code",
        "colab": {}
      },
      "source": [
        "#slicing our array\n",
        "x1 = x[..., None]"
      ],
      "execution_count": 0,
      "outputs": []
    },
    {
      "cell_type": "markdown",
      "metadata": {
        "id": "60vt0Q5EZpqA",
        "colab_type": "text"
      },
      "source": [
        "Now we will take the first 40 elements of our data and use those as our traing set and the last 10 as our validation set for our Random Forest."
      ]
    },
    {
      "cell_type": "code",
      "metadata": {
        "id": "_uWN6pkLVYK9",
        "colab_type": "code",
        "colab": {}
      },
      "source": [
        "x_trn, x_val = x1[:40], x1[40:]\n",
        "y_trn, y_val = y[:40], y[40:]"
      ],
      "execution_count": 0,
      "outputs": []
    },
    {
      "cell_type": "code",
      "metadata": {
        "id": "qqHVQYTnWZhw",
        "colab_type": "code",
        "outputId": "f2cc41d3-5dc1-45d6-abf7-414cd8a84bc6",
        "colab": {
          "base_uri": "https://localhost:8080/",
          "height": 50
        }
      },
      "source": [
        "model = RandomForestRegressor().fit(x_trn, y_trn)"
      ],
      "execution_count": 0,
      "outputs": [
        {
          "output_type": "stream",
          "text": [
            "/usr/local/lib/python3.6/dist-packages/sklearn/ensemble/forest.py:245: FutureWarning: The default value of n_estimators will change from 10 in version 0.20 to 100 in 0.22.\n",
            "  \"10 in version 0.20 to 100 in 0.22.\", FutureWarning)\n"
          ],
          "name": "stderr"
        }
      ]
    },
    {
      "cell_type": "markdown",
      "metadata": {
        "id": "OuB0CcvqZ5rQ",
        "colab_type": "text"
      },
      "source": [
        "Now we will plot the relation of our actual values and our predictions for our training set. This must look as a linear relation."
      ]
    },
    {
      "cell_type": "code",
      "metadata": {
        "id": "gq0OlN2wWlkV",
        "colab_type": "code",
        "outputId": "89a9a824-6979-467c-a638-b01ea96e7b23",
        "colab": {
          "base_uri": "https://localhost:8080/",
          "height": 282
        }
      },
      "source": [
        "plt.scatter(y_trn, model.predict(x_trn))"
      ],
      "execution_count": 0,
      "outputs": [
        {
          "output_type": "execute_result",
          "data": {
            "text/plain": [
              "<matplotlib.collections.PathCollection at 0x7f651fdbc978>"
            ]
          },
          "metadata": {
            "tags": []
          },
          "execution_count": 10
        },
        {
          "output_type": "display_data",
          "data": {
            "image/png": "[encoded data removed]",
            "text/plain": [
              "<Figure size 432x288 with 1 Axes>"
            ]
          },
          "metadata": {
            "tags": []
          }
        }
      ]
    },
    {
      "cell_type": "markdown",
      "metadata": {
        "id": "wzr3xfqDct_C",
        "colab_type": "text"
      },
      "source": [
        "This one will get more interesting. How will the same thing look but now with our validation set? It will look as a constant line over the actual values axis."
      ]
    },
    {
      "cell_type": "markdown",
      "metadata": {
        "id": "_71PF4j-dzbY",
        "colab_type": "text"
      },
      "source": [
        "This random forest is uncapable of extrapolating to any kind of data outside the time period of our trainin set. There are various ways to deal with this problem:\n",
        "\n",
        "* Trying to avoid unnecessary time dependent variables when we can. (Done in the last lesson).\n",
        "\n",
        "* If we really hava a time series that looks like this we actually have to deal with the problem using probably:\n",
        " * Use a neuronal net\n",
        " * Detrend the data\n",
        " * Use a some sort of logistic regression"
      ]
    },
    {
      "cell_type": "code",
      "metadata": {
        "id": "Ivw1FSSRWyuy",
        "colab_type": "code",
        "outputId": "2dbf0586-1606-4837-8bf1-3b2cecb45aea",
        "colab": {
          "base_uri": "https://localhost:8080/",
          "height": 282
        }
      },
      "source": [
        "plt.scatter(y_val, model.predict(x_val))\n",
        "print(model.predict(x_val))"
      ],
      "execution_count": 0,
      "outputs": [
        {
          "output_type": "stream",
          "text": [
            "[0.904576 0.904576 0.904576 0.904576 0.904576 0.904576 0.904576 0.904576 0.904576 0.904576]\n"
          ],
          "name": "stdout"
        },
        {
          "output_type": "display_data",
          "data": {
            "image/png": "[encoded data removed]",
            "text/plain": [
              "<Figure size 432x288 with 1 Axes>"
            ]
          },
          "metadata": {
            "tags": []
          }
        }
      ]
    }
  ]
}