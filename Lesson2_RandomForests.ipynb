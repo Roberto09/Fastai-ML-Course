{
  "nbformat": 4,
  "nbformat_minor": 0,
  "metadata": {
    "colab": {
      "name": "Lesson2_RandomForests.ipynb",
      "provenance": [],
      "collapsed_sections": [
        "rxMwJ36ERwYJ",
        "gsKZTrGNCwcA",
        "AQYQlf_kDFGI",
        "3MeM2xNjfSyG",
        "rSunoLQ0hhkI",
        "F13u-B5dx767",
        "S8rNBHcgvdFz",
        "w8oNO2xVnTyd"
      ],
      "toc_visible": true
    },
    "kernelspec": {
      "name": "python3",
      "display_name": "Python 3"
    }
  },
  "cells": [
    {
      "cell_type": "markdown",
      "metadata": {
        "id": "oFp7Eg0xmwxO",
        "colab_type": "text"
      },
      "source": [
        "# **Lesson 2, Random Forests Hyperparameters and tunning**\n",
        "http://course18.fast.ai/lessonsml1/lesson2.html"
      ]
    },
    {
      "cell_type": "markdown",
      "metadata": {
        "id": "rxMwJ36ERwYJ",
        "colab_type": "text"
      },
      "source": [
        "## **Code from lesson 1 from Intrto Machine Learning from Fast AI:**"
      ]
    },
    {
      "cell_type": "code",
      "metadata": {
        "id": "-Yh6yw5hR7Dx",
        "colab_type": "code",
        "colab": {}
      },
      "source": [
        "#You can edit source code from modules and they will update accordingly\n",
        "%load_ext autoreload\n",
        "%autoreload 2\n",
        "\n",
        "%matplotlib inline"
      ],
      "execution_count": 0,
      "outputs": []
    },
    {
      "cell_type": "code",
      "metadata": {
        "id": "Iai64FgenZUt",
        "colab_type": "code",
        "colab": {}
      },
      "source": [
        "from google.colab import drive\n",
        "drive.mount('/content/gdrive')"
      ],
      "execution_count": 0,
      "outputs": []
    },
    {
      "cell_type": "code",
      "metadata": {
        "id": "kDAK4Q55SlHT",
        "colab_type": "code",
        "colab": {}
      },
      "source": [
        "#Needed imports\n",
        "import sys\n",
        "from fastai.imports import *\n",
        "from fastai.tabular import *\n",
        "\n",
        "sys.path.insert(0, '/content/gdrive/My Drive/Colab Notebooks/L1RF')\n",
        "from structured import *\n",
        "\n",
        "# pandas???\n",
        "from sklearn.ensemble import RandomForestRegressor\n",
        "from IPython.display import display\n",
        "\n",
        "from sklearn import metrics"
      ],
      "execution_count": 0,
      "outputs": []
    },
    {
      "cell_type": "code",
      "metadata": {
        "id": "STu_2HZlUT_Z",
        "colab_type": "code",
        "colab": {}
      },
      "source": [
        "PATH = 'gdrive/My\\ Drive/Colab\\ Notebooks/L1RF/data/'"
      ],
      "execution_count": 0,
      "outputs": []
    },
    {
      "cell_type": "code",
      "metadata": {
        "id": "tm-IC1vGWBrH",
        "colab_type": "code",
        "colab": {}
      },
      "source": [
        "# Parse and store the data using a panda funtion, passing the path and a list of all the date columns\n",
        "PATH = PATH.replace(\"\\\\\", \"\")\n",
        "data_raw = pd.read_csv(f'{PATH}Train.csv', low_memory=False, parse_dates=[\"saledate\"])"
      ],
      "execution_count": 0,
      "outputs": []
    },
    {
      "cell_type": "code",
      "metadata": {
        "id": "RIiutwutWerX",
        "colab_type": "code",
        "colab": {}
      },
      "source": [
        "#Simple display function\n",
        "def display_all(df):\n",
        "  with pd.option_context(\"display.max_rows\", 1000):\n",
        "    with pd.option_context(\"display.max_columns\", 1000):\n",
        "      display(df)"
      ],
      "execution_count": 0,
      "outputs": []
    },
    {
      "cell_type": "code",
      "metadata": {
        "id": "NZ8jgpDfXaI6",
        "colab_type": "code",
        "outputId": "70eed083-0f47-4548-e603-3e6e5013b7b6",
        "colab": {
          "base_uri": "https://localhost:8080/"
        }
      },
      "source": [
        "display_all(data_raw.tail()) #displays the last few items from our table"
      ],
      "execution_count": 0,
      "outputs": [
        {
          "output_type": "display_data",
          "data": {
            "text/html": [
              "<div>\n",
              "<style scoped>\n",
              "    .dataframe tbody tr th:only-of-type {\n",
              "        vertical-align: middle;\n",
              "    }\n",
              "\n",
              "    .dataframe tbody tr th {\n",
              "        vertical-align: top;\n",
              "    }\n",
              "\n",
              "    .dataframe thead th {\n",
              "        text-align: right;\n",
              "    }\n",
              "</style>\n",
              "<table border=\"1\" class=\"dataframe\">\n",
              "  <thead>\n",
              "    <tr style=\"text-align: right;\">\n",
              "      <th></th>\n",
              "      <th>SalesID</th>\n",
              "      <th>SalePrice</th>\n",
              "      <th>MachineID</th>\n",
              "      <th>ModelID</th>\n",
              "      <th>datasource</th>\n",
              "      <th>auctioneerID</th>\n",
              "      <th>YearMade</th>\n",
              "      <th>MachineHoursCurrentMeter</th>\n",
              "      <th>UsageBand</th>\n",
              "      <th>saledate</th>\n",
              "      <th>fiModelDesc</th>\n",
              "      <th>fiBaseModel</th>\n",
              "      <th>fiSecondaryDesc</th>\n",
              "      <th>fiModelSeries</th>\n",
              "      <th>fiModelDescriptor</th>\n",
              "      <th>ProductSize</th>\n",
              "      <th>fiProductClassDesc</th>\n",
              "      <th>state</th>\n",
              "      <th>ProductGroup</th>\n",
              "      <th>ProductGroupDesc</th>\n",
              "      <th>Drive_System</th>\n",
              "      <th>Enclosure</th>\n",
              "      <th>Forks</th>\n",
              "      <th>Pad_Type</th>\n",
              "      <th>Ride_Control</th>\n",
              "      <th>Stick</th>\n",
              "      <th>Transmission</th>\n",
              "      <th>Turbocharged</th>\n",
              "      <th>Blade_Extension</th>\n",
              "      <th>Blade_Width</th>\n",
              "      <th>Enclosure_Type</th>\n",
              "      <th>Engine_Horsepower</th>\n",
              "      <th>Hydraulics</th>\n",
              "      <th>Pushblock</th>\n",
              "      <th>Ripper</th>\n",
              "      <th>Scarifier</th>\n",
              "      <th>Tip_Control</th>\n",
              "      <th>Tire_Size</th>\n",
              "      <th>Coupler</th>\n",
              "      <th>Coupler_System</th>\n",
              "      <th>Grouser_Tracks</th>\n",
              "      <th>Hydraulics_Flow</th>\n",
              "      <th>Track_Type</th>\n",
              "      <th>Undercarriage_Pad_Width</th>\n",
              "      <th>Stick_Length</th>\n",
              "      <th>Thumb</th>\n",
              "      <th>Pattern_Changer</th>\n",
              "      <th>Grouser_Type</th>\n",
              "      <th>Backhoe_Mounting</th>\n",
              "      <th>Blade_Type</th>\n",
              "      <th>Travel_Controls</th>\n",
              "      <th>Differential_Type</th>\n",
              "      <th>Steering_Controls</th>\n",
              "    </tr>\n",
              "  </thead>\n",
              "  <tbody>\n",
              "    <tr>\n",
              "      <th>401120</th>\n",
              "      <td>6333336</td>\n",
              "      <td>10500</td>\n",
              "      <td>1840702</td>\n",
              "      <td>21439</td>\n",
              "      <td>149</td>\n",
              "      <td>1.0</td>\n",
              "      <td>2005</td>\n",
              "      <td>NaN</td>\n",
              "      <td>NaN</td>\n",
              "      <td>2011-11-02</td>\n",
              "      <td>35NX2</td>\n",
              "      <td>35</td>\n",
              "      <td>NX</td>\n",
              "      <td>2</td>\n",
              "      <td>NaN</td>\n",
              "      <td>Mini</td>\n",
              "      <td>Hydraulic Excavator, Track - 3.0 to 4.0 Metric...</td>\n",
              "      <td>Maryland</td>\n",
              "      <td>TEX</td>\n",
              "      <td>Track Excavators</td>\n",
              "      <td>NaN</td>\n",
              "      <td>EROPS</td>\n",
              "      <td>NaN</td>\n",
              "      <td>NaN</td>\n",
              "      <td>NaN</td>\n",
              "      <td>NaN</td>\n",
              "      <td>NaN</td>\n",
              "      <td>NaN</td>\n",
              "      <td>NaN</td>\n",
              "      <td>NaN</td>\n",
              "      <td>NaN</td>\n",
              "      <td>NaN</td>\n",
              "      <td>Auxiliary</td>\n",
              "      <td>NaN</td>\n",
              "      <td>NaN</td>\n",
              "      <td>NaN</td>\n",
              "      <td>NaN</td>\n",
              "      <td>NaN</td>\n",
              "      <td>None or Unspecified</td>\n",
              "      <td>NaN</td>\n",
              "      <td>NaN</td>\n",
              "      <td>NaN</td>\n",
              "      <td>Steel</td>\n",
              "      <td>None or Unspecified</td>\n",
              "      <td>None or Unspecified</td>\n",
              "      <td>None or Unspecified</td>\n",
              "      <td>None or Unspecified</td>\n",
              "      <td>Double</td>\n",
              "      <td>NaN</td>\n",
              "      <td>NaN</td>\n",
              "      <td>NaN</td>\n",
              "      <td>NaN</td>\n",
              "      <td>NaN</td>\n",
              "    </tr>\n",
              "    <tr>\n",
              "      <th>401121</th>\n",
              "      <td>6333337</td>\n",
              "      <td>11000</td>\n",
              "      <td>1830472</td>\n",
              "      <td>21439</td>\n",
              "      <td>149</td>\n",
              "      <td>1.0</td>\n",
              "      <td>2005</td>\n",
              "      <td>NaN</td>\n",
              "      <td>NaN</td>\n",
              "      <td>2011-11-02</td>\n",
              "      <td>35NX2</td>\n",
              "      <td>35</td>\n",
              "      <td>NX</td>\n",
              "      <td>2</td>\n",
              "      <td>NaN</td>\n",
              "      <td>Mini</td>\n",
              "      <td>Hydraulic Excavator, Track - 3.0 to 4.0 Metric...</td>\n",
              "      <td>Maryland</td>\n",
              "      <td>TEX</td>\n",
              "      <td>Track Excavators</td>\n",
              "      <td>NaN</td>\n",
              "      <td>EROPS</td>\n",
              "      <td>NaN</td>\n",
              "      <td>NaN</td>\n",
              "      <td>NaN</td>\n",
              "      <td>NaN</td>\n",
              "      <td>NaN</td>\n",
              "      <td>NaN</td>\n",
              "      <td>NaN</td>\n",
              "      <td>NaN</td>\n",
              "      <td>NaN</td>\n",
              "      <td>NaN</td>\n",
              "      <td>Standard</td>\n",
              "      <td>NaN</td>\n",
              "      <td>NaN</td>\n",
              "      <td>NaN</td>\n",
              "      <td>NaN</td>\n",
              "      <td>NaN</td>\n",
              "      <td>None or Unspecified</td>\n",
              "      <td>NaN</td>\n",
              "      <td>NaN</td>\n",
              "      <td>NaN</td>\n",
              "      <td>Steel</td>\n",
              "      <td>None or Unspecified</td>\n",
              "      <td>None or Unspecified</td>\n",
              "      <td>None or Unspecified</td>\n",
              "      <td>None or Unspecified</td>\n",
              "      <td>Double</td>\n",
              "      <td>NaN</td>\n",
              "      <td>NaN</td>\n",
              "      <td>NaN</td>\n",
              "      <td>NaN</td>\n",
              "      <td>NaN</td>\n",
              "    </tr>\n",
              "    <tr>\n",
              "      <th>401122</th>\n",
              "      <td>6333338</td>\n",
              "      <td>11500</td>\n",
              "      <td>1887659</td>\n",
              "      <td>21439</td>\n",
              "      <td>149</td>\n",
              "      <td>1.0</td>\n",
              "      <td>2005</td>\n",
              "      <td>NaN</td>\n",
              "      <td>NaN</td>\n",
              "      <td>2011-11-02</td>\n",
              "      <td>35NX2</td>\n",
              "      <td>35</td>\n",
              "      <td>NX</td>\n",
              "      <td>2</td>\n",
              "      <td>NaN</td>\n",
              "      <td>Mini</td>\n",
              "      <td>Hydraulic Excavator, Track - 3.0 to 4.0 Metric...</td>\n",
              "      <td>Maryland</td>\n",
              "      <td>TEX</td>\n",
              "      <td>Track Excavators</td>\n",
              "      <td>NaN</td>\n",
              "      <td>EROPS</td>\n",
              "      <td>NaN</td>\n",
              "      <td>NaN</td>\n",
              "      <td>NaN</td>\n",
              "      <td>NaN</td>\n",
              "      <td>NaN</td>\n",
              "      <td>NaN</td>\n",
              "      <td>NaN</td>\n",
              "      <td>NaN</td>\n",
              "      <td>NaN</td>\n",
              "      <td>NaN</td>\n",
              "      <td>Auxiliary</td>\n",
              "      <td>NaN</td>\n",
              "      <td>NaN</td>\n",
              "      <td>NaN</td>\n",
              "      <td>NaN</td>\n",
              "      <td>NaN</td>\n",
              "      <td>None or Unspecified</td>\n",
              "      <td>NaN</td>\n",
              "      <td>NaN</td>\n",
              "      <td>NaN</td>\n",
              "      <td>Steel</td>\n",
              "      <td>None or Unspecified</td>\n",
              "      <td>None or Unspecified</td>\n",
              "      <td>None or Unspecified</td>\n",
              "      <td>None or Unspecified</td>\n",
              "      <td>Double</td>\n",
              "      <td>NaN</td>\n",
              "      <td>NaN</td>\n",
              "      <td>NaN</td>\n",
              "      <td>NaN</td>\n",
              "      <td>NaN</td>\n",
              "    </tr>\n",
              "    <tr>\n",
              "      <th>401123</th>\n",
              "      <td>6333341</td>\n",
              "      <td>9000</td>\n",
              "      <td>1903570</td>\n",
              "      <td>21435</td>\n",
              "      <td>149</td>\n",
              "      <td>2.0</td>\n",
              "      <td>2005</td>\n",
              "      <td>NaN</td>\n",
              "      <td>NaN</td>\n",
              "      <td>2011-10-25</td>\n",
              "      <td>30NX</td>\n",
              "      <td>30</td>\n",
              "      <td>NX</td>\n",
              "      <td>NaN</td>\n",
              "      <td>NaN</td>\n",
              "      <td>Mini</td>\n",
              "      <td>Hydraulic Excavator, Track - 2.0 to 3.0 Metric...</td>\n",
              "      <td>Florida</td>\n",
              "      <td>TEX</td>\n",
              "      <td>Track Excavators</td>\n",
              "      <td>NaN</td>\n",
              "      <td>EROPS</td>\n",
              "      <td>NaN</td>\n",
              "      <td>NaN</td>\n",
              "      <td>NaN</td>\n",
              "      <td>NaN</td>\n",
              "      <td>NaN</td>\n",
              "      <td>NaN</td>\n",
              "      <td>NaN</td>\n",
              "      <td>NaN</td>\n",
              "      <td>NaN</td>\n",
              "      <td>NaN</td>\n",
              "      <td>Standard</td>\n",
              "      <td>NaN</td>\n",
              "      <td>NaN</td>\n",
              "      <td>NaN</td>\n",
              "      <td>NaN</td>\n",
              "      <td>NaN</td>\n",
              "      <td>None or Unspecified</td>\n",
              "      <td>NaN</td>\n",
              "      <td>NaN</td>\n",
              "      <td>NaN</td>\n",
              "      <td>Steel</td>\n",
              "      <td>None or Unspecified</td>\n",
              "      <td>None or Unspecified</td>\n",
              "      <td>None or Unspecified</td>\n",
              "      <td>None or Unspecified</td>\n",
              "      <td>Double</td>\n",
              "      <td>NaN</td>\n",
              "      <td>NaN</td>\n",
              "      <td>NaN</td>\n",
              "      <td>NaN</td>\n",
              "      <td>NaN</td>\n",
              "    </tr>\n",
              "    <tr>\n",
              "      <th>401124</th>\n",
              "      <td>6333342</td>\n",
              "      <td>7750</td>\n",
              "      <td>1926965</td>\n",
              "      <td>21435</td>\n",
              "      <td>149</td>\n",
              "      <td>2.0</td>\n",
              "      <td>2005</td>\n",
              "      <td>NaN</td>\n",
              "      <td>NaN</td>\n",
              "      <td>2011-10-25</td>\n",
              "      <td>30NX</td>\n",
              "      <td>30</td>\n",
              "      <td>NX</td>\n",
              "      <td>NaN</td>\n",
              "      <td>NaN</td>\n",
              "      <td>Mini</td>\n",
              "      <td>Hydraulic Excavator, Track - 2.0 to 3.0 Metric...</td>\n",
              "      <td>Florida</td>\n",
              "      <td>TEX</td>\n",
              "      <td>Track Excavators</td>\n",
              "      <td>NaN</td>\n",
              "      <td>EROPS</td>\n",
              "      <td>NaN</td>\n",
              "      <td>NaN</td>\n",
              "      <td>NaN</td>\n",
              "      <td>NaN</td>\n",
              "      <td>NaN</td>\n",
              "      <td>NaN</td>\n",
              "      <td>NaN</td>\n",
              "      <td>NaN</td>\n",
              "      <td>NaN</td>\n",
              "      <td>NaN</td>\n",
              "      <td>Standard</td>\n",
              "      <td>NaN</td>\n",
              "      <td>NaN</td>\n",
              "      <td>NaN</td>\n",
              "      <td>NaN</td>\n",
              "      <td>NaN</td>\n",
              "      <td>None or Unspecified</td>\n",
              "      <td>NaN</td>\n",
              "      <td>NaN</td>\n",
              "      <td>NaN</td>\n",
              "      <td>Steel</td>\n",
              "      <td>None or Unspecified</td>\n",
              "      <td>None or Unspecified</td>\n",
              "      <td>None or Unspecified</td>\n",
              "      <td>None or Unspecified</td>\n",
              "      <td>Double</td>\n",
              "      <td>NaN</td>\n",
              "      <td>NaN</td>\n",
              "      <td>NaN</td>\n",
              "      <td>NaN</td>\n",
              "      <td>NaN</td>\n",
              "    </tr>\n",
              "  </tbody>\n",
              "</table>\n",
              "</div>"
            ],
            "text/plain": [
              "        SalesID  SalePrice  MachineID  ModelID  datasource  auctioneerID  \\\n",
              "401120  6333336      10500    1840702    21439         149           1.0   \n",
              "401121  6333337      11000    1830472    21439         149           1.0   \n",
              "401122  6333338      11500    1887659    21439         149           1.0   \n",
              "401123  6333341       9000    1903570    21435         149           2.0   \n",
              "401124  6333342       7750    1926965    21435         149           2.0   \n",
              "\n",
              "        YearMade  MachineHoursCurrentMeter UsageBand   saledate fiModelDesc  \\\n",
              "401120      2005                       NaN       NaN 2011-11-02       35NX2   \n",
              "401121      2005                       NaN       NaN 2011-11-02       35NX2   \n",
              "401122      2005                       NaN       NaN 2011-11-02       35NX2   \n",
              "401123      2005                       NaN       NaN 2011-10-25        30NX   \n",
              "401124      2005                       NaN       NaN 2011-10-25        30NX   \n",
              "\n",
              "       fiBaseModel fiSecondaryDesc fiModelSeries fiModelDescriptor  \\\n",
              "401120          35              NX             2               NaN   \n",
              "401121          35              NX             2               NaN   \n",
              "401122          35              NX             2               NaN   \n",
              "401123          30              NX           NaN               NaN   \n",
              "401124          30              NX           NaN               NaN   \n",
              "\n",
              "       ProductSize                                 fiProductClassDesc  \\\n",
              "401120        Mini  Hydraulic Excavator, Track - 3.0 to 4.0 Metric...   \n",
              "401121        Mini  Hydraulic Excavator, Track - 3.0 to 4.0 Metric...   \n",
              "401122        Mini  Hydraulic Excavator, Track - 3.0 to 4.0 Metric...   \n",
              "401123        Mini  Hydraulic Excavator, Track - 2.0 to 3.0 Metric...   \n",
              "401124        Mini  Hydraulic Excavator, Track - 2.0 to 3.0 Metric...   \n",
              "\n",
              "           state ProductGroup  ProductGroupDesc Drive_System Enclosure Forks  \\\n",
              "401120  Maryland          TEX  Track Excavators          NaN     EROPS   NaN   \n",
              "401121  Maryland          TEX  Track Excavators          NaN     EROPS   NaN   \n",
              "401122  Maryland          TEX  Track Excavators          NaN     EROPS   NaN   \n",
              "401123   Florida          TEX  Track Excavators          NaN     EROPS   NaN   \n",
              "401124   Florida          TEX  Track Excavators          NaN     EROPS   NaN   \n",
              "\n",
              "       Pad_Type Ride_Control Stick Transmission Turbocharged Blade_Extension  \\\n",
              "401120      NaN          NaN   NaN          NaN          NaN             NaN   \n",
              "401121      NaN          NaN   NaN          NaN          NaN             NaN   \n",
              "401122      NaN          NaN   NaN          NaN          NaN             NaN   \n",
              "401123      NaN          NaN   NaN          NaN          NaN             NaN   \n",
              "401124      NaN          NaN   NaN          NaN          NaN             NaN   \n",
              "\n",
              "       Blade_Width Enclosure_Type Engine_Horsepower Hydraulics Pushblock  \\\n",
              "401120         NaN            NaN               NaN  Auxiliary       NaN   \n",
              "401121         NaN            NaN               NaN   Standard       NaN   \n",
              "401122         NaN            NaN               NaN  Auxiliary       NaN   \n",
              "401123         NaN            NaN               NaN   Standard       NaN   \n",
              "401124         NaN            NaN               NaN   Standard       NaN   \n",
              "\n",
              "       Ripper Scarifier Tip_Control Tire_Size              Coupler  \\\n",
              "401120    NaN       NaN         NaN       NaN  None or Unspecified   \n",
              "401121    NaN       NaN         NaN       NaN  None or Unspecified   \n",
              "401122    NaN       NaN         NaN       NaN  None or Unspecified   \n",
              "401123    NaN       NaN         NaN       NaN  None or Unspecified   \n",
              "401124    NaN       NaN         NaN       NaN  None or Unspecified   \n",
              "\n",
              "       Coupler_System Grouser_Tracks Hydraulics_Flow Track_Type  \\\n",
              "401120            NaN            NaN             NaN      Steel   \n",
              "401121            NaN            NaN             NaN      Steel   \n",
              "401122            NaN            NaN             NaN      Steel   \n",
              "401123            NaN            NaN             NaN      Steel   \n",
              "401124            NaN            NaN             NaN      Steel   \n",
              "\n",
              "       Undercarriage_Pad_Width         Stick_Length                Thumb  \\\n",
              "401120     None or Unspecified  None or Unspecified  None or Unspecified   \n",
              "401121     None or Unspecified  None or Unspecified  None or Unspecified   \n",
              "401122     None or Unspecified  None or Unspecified  None or Unspecified   \n",
              "401123     None or Unspecified  None or Unspecified  None or Unspecified   \n",
              "401124     None or Unspecified  None or Unspecified  None or Unspecified   \n",
              "\n",
              "            Pattern_Changer Grouser_Type Backhoe_Mounting Blade_Type  \\\n",
              "401120  None or Unspecified       Double              NaN        NaN   \n",
              "401121  None or Unspecified       Double              NaN        NaN   \n",
              "401122  None or Unspecified       Double              NaN        NaN   \n",
              "401123  None or Unspecified       Double              NaN        NaN   \n",
              "401124  None or Unspecified       Double              NaN        NaN   \n",
              "\n",
              "       Travel_Controls Differential_Type Steering_Controls  \n",
              "401120             NaN               NaN               NaN  \n",
              "401121             NaN               NaN               NaN  \n",
              "401122             NaN               NaN               NaN  \n",
              "401123             NaN               NaN               NaN  \n",
              "401124             NaN               NaN               NaN  "
            ]
          },
          "metadata": {
            "tags": []
          }
        }
      ]
    },
    {
      "cell_type": "markdown",
      "metadata": {
        "id": "PdpdlxzBZB5h",
        "colab_type": "text"
      },
      "source": [
        "Since we want to predict the price the column that matters the most to us is 'SalePrice'\n",
        "This is called our dependent variable\n",
        "\n",
        "Here the evaluation is evaluated on the **root mean squared log error** which means they will look at the difference between the log of the prediction of the price and the log of the actual price of the test set, they'll square that and add it up.\n",
        "https://medium.com/analytics-vidhya/root-mean-square-log-error-rmse-vs-rmlse-935c6cc1802a\n",
        "\n",
        "This is a very good measuement for prices since the error is meassured relative to the quantity due to logarithm properties."
      ]
    },
    {
      "cell_type": "code",
      "metadata": {
        "id": "_g7PLicTYAJ8",
        "colab_type": "code",
        "outputId": "9e0146e1-fbf1-4d21-da9d-140830091ac9",
        "colab": {
          "base_uri": "https://localhost:8080/"
        }
      },
      "source": [
        "display(data_raw.SalePrice)"
      ],
      "execution_count": 0,
      "outputs": [
        {
          "output_type": "display_data",
          "data": {
            "text/plain": [
              "0         66000\n",
              "1         57000\n",
              "2         10000\n",
              "3         38500\n",
              "4         11000\n",
              "          ...  \n",
              "401120    10500\n",
              "401121    11000\n",
              "401122    11500\n",
              "401123     9000\n",
              "401124     7750\n",
              "Name: SalePrice, Length: 401125, dtype: int64"
            ]
          },
          "metadata": {
            "tags": []
          }
        }
      ]
    },
    {
      "cell_type": "code",
      "metadata": {
        "id": "QPTT_SX2bHFd",
        "colab_type": "code",
        "outputId": "eebf2c7b-13f6-4b43-f7b7-f78ba6a4ce42",
        "colab": {
          "base_uri": "https://localhost:8080/"
        }
      },
      "source": [
        "#since we are very interested in the logarithm of the data then we convert this price row to its logarithm using numpy\n",
        "data_raw.SalePrice = np.log(data_raw.SalePrice)\n",
        "display(data_raw.SalePrice)"
      ],
      "execution_count": 0,
      "outputs": [
        {
          "output_type": "display_data",
          "data": {
            "text/plain": [
              "0         11.097410\n",
              "1         10.950807\n",
              "2          9.210340\n",
              "3         10.558414\n",
              "4          9.305651\n",
              "            ...    \n",
              "401120     9.259131\n",
              "401121     9.305651\n",
              "401122     9.350102\n",
              "401123     9.104980\n",
              "401124     8.955448\n",
              "Name: SalePrice, Length: 401125, dtype: float64"
            ]
          },
          "metadata": {
            "tags": []
          }
        }
      ]
    },
    {
      "cell_type": "markdown",
      "metadata": {
        "id": "M-_Bny4ybsgx",
        "colab_type": "text"
      },
      "source": [
        "**Lest create a Random Forest!!!**\n",
        "\n",
        "A **Random Forest** is a kind of universal ML technique. It can predict categorical(discrete) or continious varioables (this is our case). In general it doesn't overfit and something cool is that it can tell you how well it generalizes without a validation set (test set). It has few if any statistical assumptions which is cool cause it's not very biased.\n",
        "\n",
        "Another important thing is that there are two predictor types:\n",
        "* Continious : Regressor **we are using this one**\n",
        "* Categorical : Classifier"
      ]
    },
    {
      "cell_type": "code",
      "metadata": {
        "id": "srtyMpP0bG13",
        "colab_type": "code",
        "colab": {}
      },
      "source": [
        "#This data set contains categorical and continious variabels and our model only likes numbers\n",
        "#Hence we have to change our data frame to use numbers\n",
        "\n",
        "#First thing to change is the dates.\n",
        "#For dates we can add more columns to our data since some stuff may add more meaning to our dependent variable\n",
        "#This will be categorical values represented as numbers about certain date facts that may be useful (also, it removes the original column)\n",
        "\n",
        "add_datepart(data_raw, 'saledate')"
      ],
      "execution_count": 0,
      "outputs": []
    },
    {
      "cell_type": "code",
      "metadata": {
        "id": "rqlga97TgcB1",
        "colab_type": "code",
        "outputId": "fcedd095-e742-4a95-c0e5-a17286aebac7",
        "colab": {
          "base_uri": "https://localhost:8080/"
        }
      },
      "source": [
        "data_raw.columns #prints the colums of our data frame"
      ],
      "execution_count": 0,
      "outputs": [
        {
          "output_type": "execute_result",
          "data": {
            "text/plain": [
              "Index(['SalesID', 'SalePrice', 'MachineID', 'ModelID', 'datasource',\n",
              "       'auctioneerID', 'YearMade', 'MachineHoursCurrentMeter', 'UsageBand',\n",
              "       'fiModelDesc', 'fiBaseModel', 'fiSecondaryDesc', 'fiModelSeries',\n",
              "       'fiModelDescriptor', 'ProductSize', 'fiProductClassDesc', 'state',\n",
              "       'ProductGroup', 'ProductGroupDesc', 'Drive_System', 'Enclosure',\n",
              "       'Forks', 'Pad_Type', 'Ride_Control', 'Stick', 'Transmission',\n",
              "       'Turbocharged', 'Blade_Extension', 'Blade_Width', 'Enclosure_Type',\n",
              "       'Engine_Horsepower', 'Hydraulics', 'Pushblock', 'Ripper', 'Scarifier',\n",
              "       'Tip_Control', 'Tire_Size', 'Coupler', 'Coupler_System',\n",
              "       'Grouser_Tracks', 'Hydraulics_Flow', 'Track_Type',\n",
              "       'Undercarriage_Pad_Width', 'Stick_Length', 'Thumb', 'Pattern_Changer',\n",
              "       'Grouser_Type', 'Backhoe_Mounting', 'Blade_Type', 'Travel_Controls',\n",
              "       'Differential_Type', 'Steering_Controls', 'saleYear', 'saleMonth',\n",
              "       'saleWeek', 'saleDay', 'saleDayofweek', 'saleDayofyear',\n",
              "       'saleIs_month_end', 'saleIs_month_start', 'saleIs_quarter_end',\n",
              "       'saleIs_quarter_start', 'saleIs_year_end', 'saleIs_year_start',\n",
              "       'saleElapsed'],\n",
              "      dtype='object')"
            ]
          },
          "metadata": {
            "tags": []
          },
          "execution_count": 11
        }
      ]
    },
    {
      "cell_type": "code",
      "metadata": {
        "id": "42ryhyZDgnaN",
        "colab_type": "code",
        "colab": {}
      },
      "source": [
        "#We create a categorical value for everything that's a string (after changing the dates)\n",
        "#train_cats maps converts strings to categorical variables for all columns\n",
        "train_cats(data_raw)"
      ],
      "execution_count": 0,
      "outputs": []
    },
    {
      "cell_type": "code",
      "metadata": {
        "id": "AoleEYCX1Mce",
        "colab_type": "code",
        "colab": {}
      },
      "source": [
        "#For this column we should reorder this categorie from h l m to h m l this is due to the decision\n",
        "#tree formed by the random forest, also -1 are NA in the codes (we'll add one to normalize this)\n",
        "data_raw.UsageBand.cat.categories\n",
        "data_raw.UsageBand.cat.codes\n",
        "\n",
        "data_raw.UsageBand.cat.set_categories(['High', 'Medium', 'Low'], ordered=True, inplace=True)"
      ],
      "execution_count": 0,
      "outputs": []
    },
    {
      "cell_type": "code",
      "metadata": {
        "id": "N1WOpUfu4f_b",
        "colab_type": "code",
        "outputId": "04911fb3-ba62-404e-b159-546205acff4b",
        "colab": {
          "base_uri": "https://localhost:8080/"
        }
      },
      "source": [
        "#This function displays the percentage of null values in the dataset\n",
        "display_all(data_raw.isnull().sum().sort_index()/len(data_raw))"
      ],
      "execution_count": 0,
      "outputs": [
        {
          "output_type": "display_data",
          "data": {
            "text/plain": [
              "Backhoe_Mounting            0.803872\n",
              "Blade_Extension             0.937129\n",
              "Blade_Type                  0.800977\n",
              "Blade_Width                 0.937129\n",
              "Coupler                     0.466620\n",
              "Coupler_System              0.891660\n",
              "Differential_Type           0.826959\n",
              "Drive_System                0.739829\n",
              "Enclosure                   0.000810\n",
              "Enclosure_Type              0.937129\n",
              "Engine_Horsepower           0.937129\n",
              "Forks                       0.521154\n",
              "Grouser_Tracks              0.891899\n",
              "Grouser_Type                0.752813\n",
              "Hydraulics                  0.200823\n",
              "Hydraulics_Flow             0.891899\n",
              "MachineHoursCurrentMeter    0.644089\n",
              "MachineID                   0.000000\n",
              "ModelID                     0.000000\n",
              "Pad_Type                    0.802720\n",
              "Pattern_Changer             0.752651\n",
              "ProductGroup                0.000000\n",
              "ProductGroupDesc            0.000000\n",
              "ProductSize                 0.525460\n",
              "Pushblock                   0.937129\n",
              "Ride_Control                0.629527\n",
              "Ripper                      0.740388\n",
              "SalePrice                   0.000000\n",
              "SalesID                     0.000000\n",
              "Scarifier                   0.937102\n",
              "Steering_Controls           0.827064\n",
              "Stick                       0.802720\n",
              "Stick_Length                0.752651\n",
              "Thumb                       0.752476\n",
              "Tip_Control                 0.937129\n",
              "Tire_Size                   0.763869\n",
              "Track_Type                  0.752813\n",
              "Transmission                0.543210\n",
              "Travel_Controls             0.800975\n",
              "Turbocharged                0.802720\n",
              "Undercarriage_Pad_Width     0.751020\n",
              "UsageBand                   0.826391\n",
              "YearMade                    0.000000\n",
              "auctioneerID                0.050199\n",
              "datasource                  0.000000\n",
              "fiBaseModel                 0.000000\n",
              "fiModelDesc                 0.000000\n",
              "fiModelDescriptor           0.820707\n",
              "fiModelSeries               0.858129\n",
              "fiProductClassDesc          0.000000\n",
              "fiSecondaryDesc             0.342016\n",
              "saleDay                     0.000000\n",
              "saleDayofweek               0.000000\n",
              "saleDayofyear               0.000000\n",
              "saleElapsed                 0.000000\n",
              "saleIs_month_end            0.000000\n",
              "saleIs_month_start          0.000000\n",
              "saleIs_quarter_end          0.000000\n",
              "saleIs_quarter_start        0.000000\n",
              "saleIs_year_end             0.000000\n",
              "saleIs_year_start           0.000000\n",
              "saleMonth                   0.000000\n",
              "saleWeek                    0.000000\n",
              "saleYear                    0.000000\n",
              "state                       0.000000\n",
              "dtype: float64"
            ]
          },
          "metadata": {
            "tags": []
          }
        }
      ]
    },
    {
      "cell_type": "code",
      "metadata": {
        "id": "nQDCzkmI5C76",
        "colab_type": "code",
        "colab": {}
      },
      "source": [
        "#We can save the current table to disk with the follwing lines (it's stored efficently as the ram stores it)\n",
        "os.makedirs('tmp', exist_ok=True)\n",
        "data_raw.to_feather('tmp/raw')\n",
        "#We can now just read our data from there\n",
        "data_raw = pd.read_feather('tmp/raw')"
      ],
      "execution_count": 0,
      "outputs": []
    },
    {
      "cell_type": "code",
      "metadata": {
        "id": "LbZU1REe5yVC",
        "colab_type": "code",
        "colab": {}
      },
      "source": [
        "#Lest now normalize the whole table\n",
        "#This will basically first create a new column for all the columns which contain at least\n",
        "#one NA and then set to 1 or 0. Then for every NA it will set the median.\n",
        "\n",
        "#For the categories it will just add 1 and change it to it code(numerical) value we created in the past.\n",
        "\n",
        "df, y, nas = proc_df(data_raw, 'SalePrice')"
      ],
      "execution_count": 0,
      "outputs": []
    },
    {
      "cell_type": "code",
      "metadata": {
        "id": "HqURTo5n7wq4",
        "colab_type": "code",
        "outputId": "45931f3b-dac5-4290-c54c-3f8662e7b6a2",
        "colab": {
          "base_uri": "https://localhost:8080/"
        }
      },
      "source": [
        "#SalePrice column is no longer there\n",
        "df.columns"
      ],
      "execution_count": 0,
      "outputs": [
        {
          "output_type": "execute_result",
          "data": {
            "text/plain": [
              "Index(['SalesID', 'MachineID', 'ModelID', 'datasource', 'auctioneerID',\n",
              "       'YearMade', 'MachineHoursCurrentMeter', 'UsageBand', 'fiModelDesc',\n",
              "       'fiBaseModel', 'fiSecondaryDesc', 'fiModelSeries', 'fiModelDescriptor',\n",
              "       'ProductSize', 'fiProductClassDesc', 'state', 'ProductGroup',\n",
              "       'ProductGroupDesc', 'Drive_System', 'Enclosure', 'Forks', 'Pad_Type',\n",
              "       'Ride_Control', 'Stick', 'Transmission', 'Turbocharged',\n",
              "       'Blade_Extension', 'Blade_Width', 'Enclosure_Type', 'Engine_Horsepower',\n",
              "       'Hydraulics', 'Pushblock', 'Ripper', 'Scarifier', 'Tip_Control',\n",
              "       'Tire_Size', 'Coupler', 'Coupler_System', 'Grouser_Tracks',\n",
              "       'Hydraulics_Flow', 'Track_Type', 'Undercarriage_Pad_Width',\n",
              "       'Stick_Length', 'Thumb', 'Pattern_Changer', 'Grouser_Type',\n",
              "       'Backhoe_Mounting', 'Blade_Type', 'Travel_Controls',\n",
              "       'Differential_Type', 'Steering_Controls', 'saleYear', 'saleMonth',\n",
              "       'saleWeek', 'saleDay', 'saleDayofweek', 'saleDayofyear',\n",
              "       'saleIs_month_end', 'saleIs_month_start', 'saleIs_quarter_end',\n",
              "       'saleIs_quarter_start', 'saleIs_year_end', 'saleIs_year_start',\n",
              "       'saleElapsed', 'auctioneerID_na', 'MachineHoursCurrentMeter_na'],\n",
              "      dtype='object')"
            ]
          },
          "metadata": {
            "tags": []
          },
          "execution_count": 17
        }
      ]
    },
    {
      "cell_type": "code",
      "metadata": {
        "id": "2bI_P9y392ND",
        "colab_type": "code",
        "outputId": "4723c5fb-cea8-42e8-fec9-d20d7a632e35",
        "colab": {
          "base_uri": "https://localhost:8080/"
        }
      },
      "source": [
        "#Everything is a number now\n",
        "#Note we are not removing Ids as dimensions for our model, this is since Random Forests dont\n",
        "#React significantly regarding that kind of stuff\n",
        "df.head()"
      ],
      "execution_count": 0,
      "outputs": [
        {
          "output_type": "execute_result",
          "data": {
            "text/html": [
              "<div>\n",
              "<style scoped>\n",
              "    .dataframe tbody tr th:only-of-type {\n",
              "        vertical-align: middle;\n",
              "    }\n",
              "\n",
              "    .dataframe tbody tr th {\n",
              "        vertical-align: top;\n",
              "    }\n",
              "\n",
              "    .dataframe thead th {\n",
              "        text-align: right;\n",
              "    }\n",
              "</style>\n",
              "<table border=\"1\" class=\"dataframe\">\n",
              "  <thead>\n",
              "    <tr style=\"text-align: right;\">\n",
              "      <th></th>\n",
              "      <th>SalesID</th>\n",
              "      <th>MachineID</th>\n",
              "      <th>ModelID</th>\n",
              "      <th>datasource</th>\n",
              "      <th>auctioneerID</th>\n",
              "      <th>YearMade</th>\n",
              "      <th>MachineHoursCurrentMeter</th>\n",
              "      <th>UsageBand</th>\n",
              "      <th>fiModelDesc</th>\n",
              "      <th>fiBaseModel</th>\n",
              "      <th>fiSecondaryDesc</th>\n",
              "      <th>fiModelSeries</th>\n",
              "      <th>fiModelDescriptor</th>\n",
              "      <th>ProductSize</th>\n",
              "      <th>fiProductClassDesc</th>\n",
              "      <th>state</th>\n",
              "      <th>ProductGroup</th>\n",
              "      <th>ProductGroupDesc</th>\n",
              "      <th>Drive_System</th>\n",
              "      <th>Enclosure</th>\n",
              "      <th>Forks</th>\n",
              "      <th>Pad_Type</th>\n",
              "      <th>Ride_Control</th>\n",
              "      <th>Stick</th>\n",
              "      <th>Transmission</th>\n",
              "      <th>Turbocharged</th>\n",
              "      <th>Blade_Extension</th>\n",
              "      <th>Blade_Width</th>\n",
              "      <th>Enclosure_Type</th>\n",
              "      <th>Engine_Horsepower</th>\n",
              "      <th>Hydraulics</th>\n",
              "      <th>Pushblock</th>\n",
              "      <th>Ripper</th>\n",
              "      <th>Scarifier</th>\n",
              "      <th>Tip_Control</th>\n",
              "      <th>Tire_Size</th>\n",
              "      <th>Coupler</th>\n",
              "      <th>Coupler_System</th>\n",
              "      <th>Grouser_Tracks</th>\n",
              "      <th>Hydraulics_Flow</th>\n",
              "      <th>Track_Type</th>\n",
              "      <th>Undercarriage_Pad_Width</th>\n",
              "      <th>Stick_Length</th>\n",
              "      <th>Thumb</th>\n",
              "      <th>Pattern_Changer</th>\n",
              "      <th>Grouser_Type</th>\n",
              "      <th>Backhoe_Mounting</th>\n",
              "      <th>Blade_Type</th>\n",
              "      <th>Travel_Controls</th>\n",
              "      <th>Differential_Type</th>\n",
              "      <th>Steering_Controls</th>\n",
              "      <th>saleYear</th>\n",
              "      <th>saleMonth</th>\n",
              "      <th>saleWeek</th>\n",
              "      <th>saleDay</th>\n",
              "      <th>saleDayofweek</th>\n",
              "      <th>saleDayofyear</th>\n",
              "      <th>saleIs_month_end</th>\n",
              "      <th>saleIs_month_start</th>\n",
              "      <th>saleIs_quarter_end</th>\n",
              "      <th>saleIs_quarter_start</th>\n",
              "      <th>saleIs_year_end</th>\n",
              "      <th>saleIs_year_start</th>\n",
              "      <th>saleElapsed</th>\n",
              "      <th>auctioneerID_na</th>\n",
              "      <th>MachineHoursCurrentMeter_na</th>\n",
              "    </tr>\n",
              "  </thead>\n",
              "  <tbody>\n",
              "    <tr>\n",
              "      <th>0</th>\n",
              "      <td>1139246</td>\n",
              "      <td>999089</td>\n",
              "      <td>3157</td>\n",
              "      <td>121</td>\n",
              "      <td>3.0</td>\n",
              "      <td>2004</td>\n",
              "      <td>68.0</td>\n",
              "      <td>3</td>\n",
              "      <td>950</td>\n",
              "      <td>296</td>\n",
              "      <td>41</td>\n",
              "      <td>0</td>\n",
              "      <td>0</td>\n",
              "      <td>0</td>\n",
              "      <td>59</td>\n",
              "      <td>1</td>\n",
              "      <td>6</td>\n",
              "      <td>6</td>\n",
              "      <td>0</td>\n",
              "      <td>3</td>\n",
              "      <td>1</td>\n",
              "      <td>0</td>\n",
              "      <td>2</td>\n",
              "      <td>0</td>\n",
              "      <td>0</td>\n",
              "      <td>0</td>\n",
              "      <td>0</td>\n",
              "      <td>0</td>\n",
              "      <td>0</td>\n",
              "      <td>0</td>\n",
              "      <td>1</td>\n",
              "      <td>0</td>\n",
              "      <td>0</td>\n",
              "      <td>0</td>\n",
              "      <td>0</td>\n",
              "      <td>17</td>\n",
              "      <td>3</td>\n",
              "      <td>0</td>\n",
              "      <td>0</td>\n",
              "      <td>0</td>\n",
              "      <td>0</td>\n",
              "      <td>0</td>\n",
              "      <td>0</td>\n",
              "      <td>0</td>\n",
              "      <td>0</td>\n",
              "      <td>0</td>\n",
              "      <td>0</td>\n",
              "      <td>0</td>\n",
              "      <td>0</td>\n",
              "      <td>4</td>\n",
              "      <td>2</td>\n",
              "      <td>2006</td>\n",
              "      <td>11</td>\n",
              "      <td>46</td>\n",
              "      <td>16</td>\n",
              "      <td>3</td>\n",
              "      <td>320</td>\n",
              "      <td>False</td>\n",
              "      <td>False</td>\n",
              "      <td>False</td>\n",
              "      <td>False</td>\n",
              "      <td>False</td>\n",
              "      <td>False</td>\n",
              "      <td>1163635200</td>\n",
              "      <td>False</td>\n",
              "      <td>False</td>\n",
              "    </tr>\n",
              "    <tr>\n",
              "      <th>1</th>\n",
              "      <td>1139248</td>\n",
              "      <td>117657</td>\n",
              "      <td>77</td>\n",
              "      <td>121</td>\n",
              "      <td>3.0</td>\n",
              "      <td>1996</td>\n",
              "      <td>4640.0</td>\n",
              "      <td>3</td>\n",
              "      <td>1725</td>\n",
              "      <td>527</td>\n",
              "      <td>55</td>\n",
              "      <td>98</td>\n",
              "      <td>0</td>\n",
              "      <td>4</td>\n",
              "      <td>62</td>\n",
              "      <td>33</td>\n",
              "      <td>6</td>\n",
              "      <td>6</td>\n",
              "      <td>0</td>\n",
              "      <td>3</td>\n",
              "      <td>1</td>\n",
              "      <td>0</td>\n",
              "      <td>2</td>\n",
              "      <td>0</td>\n",
              "      <td>0</td>\n",
              "      <td>0</td>\n",
              "      <td>0</td>\n",
              "      <td>0</td>\n",
              "      <td>0</td>\n",
              "      <td>0</td>\n",
              "      <td>1</td>\n",
              "      <td>0</td>\n",
              "      <td>0</td>\n",
              "      <td>0</td>\n",
              "      <td>0</td>\n",
              "      <td>12</td>\n",
              "      <td>3</td>\n",
              "      <td>0</td>\n",
              "      <td>0</td>\n",
              "      <td>0</td>\n",
              "      <td>0</td>\n",
              "      <td>0</td>\n",
              "      <td>0</td>\n",
              "      <td>0</td>\n",
              "      <td>0</td>\n",
              "      <td>0</td>\n",
              "      <td>0</td>\n",
              "      <td>0</td>\n",
              "      <td>0</td>\n",
              "      <td>4</td>\n",
              "      <td>2</td>\n",
              "      <td>2004</td>\n",
              "      <td>3</td>\n",
              "      <td>13</td>\n",
              "      <td>26</td>\n",
              "      <td>4</td>\n",
              "      <td>86</td>\n",
              "      <td>False</td>\n",
              "      <td>False</td>\n",
              "      <td>False</td>\n",
              "      <td>False</td>\n",
              "      <td>False</td>\n",
              "      <td>False</td>\n",
              "      <td>1080259200</td>\n",
              "      <td>False</td>\n",
              "      <td>False</td>\n",
              "    </tr>\n",
              "    <tr>\n",
              "      <th>2</th>\n",
              "      <td>1139249</td>\n",
              "      <td>434808</td>\n",
              "      <td>7009</td>\n",
              "      <td>121</td>\n",
              "      <td>3.0</td>\n",
              "      <td>2001</td>\n",
              "      <td>2838.0</td>\n",
              "      <td>1</td>\n",
              "      <td>331</td>\n",
              "      <td>110</td>\n",
              "      <td>0</td>\n",
              "      <td>0</td>\n",
              "      <td>0</td>\n",
              "      <td>0</td>\n",
              "      <td>39</td>\n",
              "      <td>32</td>\n",
              "      <td>3</td>\n",
              "      <td>3</td>\n",
              "      <td>0</td>\n",
              "      <td>6</td>\n",
              "      <td>1</td>\n",
              "      <td>0</td>\n",
              "      <td>0</td>\n",
              "      <td>0</td>\n",
              "      <td>0</td>\n",
              "      <td>0</td>\n",
              "      <td>0</td>\n",
              "      <td>0</td>\n",
              "      <td>0</td>\n",
              "      <td>0</td>\n",
              "      <td>4</td>\n",
              "      <td>0</td>\n",
              "      <td>0</td>\n",
              "      <td>0</td>\n",
              "      <td>0</td>\n",
              "      <td>0</td>\n",
              "      <td>3</td>\n",
              "      <td>1</td>\n",
              "      <td>1</td>\n",
              "      <td>3</td>\n",
              "      <td>0</td>\n",
              "      <td>0</td>\n",
              "      <td>0</td>\n",
              "      <td>0</td>\n",
              "      <td>0</td>\n",
              "      <td>0</td>\n",
              "      <td>0</td>\n",
              "      <td>0</td>\n",
              "      <td>0</td>\n",
              "      <td>0</td>\n",
              "      <td>0</td>\n",
              "      <td>2004</td>\n",
              "      <td>2</td>\n",
              "      <td>9</td>\n",
              "      <td>26</td>\n",
              "      <td>3</td>\n",
              "      <td>57</td>\n",
              "      <td>False</td>\n",
              "      <td>False</td>\n",
              "      <td>False</td>\n",
              "      <td>False</td>\n",
              "      <td>False</td>\n",
              "      <td>False</td>\n",
              "      <td>1077753600</td>\n",
              "      <td>False</td>\n",
              "      <td>False</td>\n",
              "    </tr>\n",
              "    <tr>\n",
              "      <th>3</th>\n",
              "      <td>1139251</td>\n",
              "      <td>1026470</td>\n",
              "      <td>332</td>\n",
              "      <td>121</td>\n",
              "      <td>3.0</td>\n",
              "      <td>2001</td>\n",
              "      <td>3486.0</td>\n",
              "      <td>1</td>\n",
              "      <td>3674</td>\n",
              "      <td>1375</td>\n",
              "      <td>0</td>\n",
              "      <td>45</td>\n",
              "      <td>0</td>\n",
              "      <td>6</td>\n",
              "      <td>8</td>\n",
              "      <td>44</td>\n",
              "      <td>4</td>\n",
              "      <td>4</td>\n",
              "      <td>0</td>\n",
              "      <td>3</td>\n",
              "      <td>0</td>\n",
              "      <td>0</td>\n",
              "      <td>0</td>\n",
              "      <td>0</td>\n",
              "      <td>0</td>\n",
              "      <td>0</td>\n",
              "      <td>0</td>\n",
              "      <td>0</td>\n",
              "      <td>0</td>\n",
              "      <td>0</td>\n",
              "      <td>1</td>\n",
              "      <td>0</td>\n",
              "      <td>0</td>\n",
              "      <td>0</td>\n",
              "      <td>0</td>\n",
              "      <td>0</td>\n",
              "      <td>3</td>\n",
              "      <td>0</td>\n",
              "      <td>0</td>\n",
              "      <td>0</td>\n",
              "      <td>0</td>\n",
              "      <td>0</td>\n",
              "      <td>0</td>\n",
              "      <td>0</td>\n",
              "      <td>0</td>\n",
              "      <td>0</td>\n",
              "      <td>0</td>\n",
              "      <td>0</td>\n",
              "      <td>0</td>\n",
              "      <td>0</td>\n",
              "      <td>0</td>\n",
              "      <td>2011</td>\n",
              "      <td>5</td>\n",
              "      <td>20</td>\n",
              "      <td>19</td>\n",
              "      <td>3</td>\n",
              "      <td>139</td>\n",
              "      <td>False</td>\n",
              "      <td>False</td>\n",
              "      <td>False</td>\n",
              "      <td>False</td>\n",
              "      <td>False</td>\n",
              "      <td>False</td>\n",
              "      <td>1305763200</td>\n",
              "      <td>False</td>\n",
              "      <td>False</td>\n",
              "    </tr>\n",
              "    <tr>\n",
              "      <th>4</th>\n",
              "      <td>1139253</td>\n",
              "      <td>1057373</td>\n",
              "      <td>17311</td>\n",
              "      <td>121</td>\n",
              "      <td>3.0</td>\n",
              "      <td>2007</td>\n",
              "      <td>722.0</td>\n",
              "      <td>2</td>\n",
              "      <td>4208</td>\n",
              "      <td>1529</td>\n",
              "      <td>0</td>\n",
              "      <td>0</td>\n",
              "      <td>0</td>\n",
              "      <td>0</td>\n",
              "      <td>40</td>\n",
              "      <td>32</td>\n",
              "      <td>3</td>\n",
              "      <td>3</td>\n",
              "      <td>0</td>\n",
              "      <td>1</td>\n",
              "      <td>1</td>\n",
              "      <td>0</td>\n",
              "      <td>0</td>\n",
              "      <td>0</td>\n",
              "      <td>0</td>\n",
              "      <td>0</td>\n",
              "      <td>0</td>\n",
              "      <td>0</td>\n",
              "      <td>0</td>\n",
              "      <td>0</td>\n",
              "      <td>4</td>\n",
              "      <td>0</td>\n",
              "      <td>0</td>\n",
              "      <td>0</td>\n",
              "      <td>0</td>\n",
              "      <td>0</td>\n",
              "      <td>3</td>\n",
              "      <td>1</td>\n",
              "      <td>1</td>\n",
              "      <td>3</td>\n",
              "      <td>0</td>\n",
              "      <td>0</td>\n",
              "      <td>0</td>\n",
              "      <td>0</td>\n",
              "      <td>0</td>\n",
              "      <td>0</td>\n",
              "      <td>0</td>\n",
              "      <td>0</td>\n",
              "      <td>0</td>\n",
              "      <td>0</td>\n",
              "      <td>0</td>\n",
              "      <td>2009</td>\n",
              "      <td>7</td>\n",
              "      <td>30</td>\n",
              "      <td>23</td>\n",
              "      <td>3</td>\n",
              "      <td>204</td>\n",
              "      <td>False</td>\n",
              "      <td>False</td>\n",
              "      <td>False</td>\n",
              "      <td>False</td>\n",
              "      <td>False</td>\n",
              "      <td>False</td>\n",
              "      <td>1248307200</td>\n",
              "      <td>False</td>\n",
              "      <td>False</td>\n",
              "    </tr>\n",
              "  </tbody>\n",
              "</table>\n",
              "</div>"
            ],
            "text/plain": [
              "   SalesID  MachineID  ...  auctioneerID_na  MachineHoursCurrentMeter_na\n",
              "0  1139246     999089  ...            False                        False\n",
              "1  1139248     117657  ...            False                        False\n",
              "2  1139249     434808  ...            False                        False\n",
              "3  1139251    1026470  ...            False                        False\n",
              "4  1139253    1057373  ...            False                        False\n",
              "\n",
              "[5 rows x 66 columns]"
            ]
          },
          "metadata": {
            "tags": []
          },
          "execution_count": 18
        }
      ]
    },
    {
      "cell_type": "code",
      "metadata": {
        "id": "-hrLSOugbIDl",
        "colab_type": "code",
        "outputId": "807dfcd8-d06d-4071-c6d7-49f1e973e5be",
        "colab": {
          "base_uri": "https://localhost:8080/"
        }
      },
      "source": [
        "#We create the FIRST but NOT last model, the parameter n_jobs is tellin this to create the model using as many cores as possible\n",
        "model = RandomForestRegressor(n_jobs=-1)\n",
        "#We fit the model the data we want. (independent, dependent) variables as parameters\n",
        "#model.fit(data_raw.drop('SalePrice', axis=1), data_raw.SalePrice)\n",
        "model.fit(df, y)\n",
        "model.score(df, y)"
      ],
      "execution_count": 0,
      "outputs": [
        {
          "output_type": "stream",
          "text": [
            "/usr/local/lib/python3.6/dist-packages/sklearn/ensemble/forest.py:245: FutureWarning: The default value of n_estimators will change from 10 in version 0.20 to 100 in 0.22.\n",
            "  \"10 in version 0.20 to 100 in 0.22.\", FutureWarning)\n"
          ],
          "name": "stderr"
        },
        {
          "output_type": "execute_result",
          "data": {
            "text/plain": [
              "0.9831434955436872"
            ]
          },
          "metadata": {
            "tags": []
          },
          "execution_count": 19
        }
      ]
    },
    {
      "cell_type": "markdown",
      "metadata": {
        "id": "F2zfSbad_04V",
        "colab_type": "text"
      },
      "source": [
        "This error is r^2 (the closer to 1 the better) [-oo, 1]"
      ]
    },
    {
      "cell_type": "code",
      "metadata": {
        "id": "ZzqC8PusAYuR",
        "colab_type": "code",
        "outputId": "3404d138-dd2f-40b3-d646-49819bb601de",
        "colab": {
          "base_uri": "https://localhost:8080/"
        }
      },
      "source": [
        "#Here we will split into the last 12,000 rows of our table and use that for the validation set\n",
        "#And the rest for training\n",
        "\n",
        "def split_vals(a, n): return a[:n].copy(), a[n:].copy()\n",
        "\n",
        "n_valid = 12000\n",
        "n_trn = len(df)-n_valid\n",
        "raw_train, raw_valid = split_vals(data_raw, n_trn)\n",
        "X_train, X_valid = split_vals(df, n_trn)\n",
        "y_train, y_valid = split_vals(y, n_trn)\n",
        "\n",
        "X_train.shape, y_train.shape, X_valid.shape"
      ],
      "execution_count": 0,
      "outputs": [
        {
          "output_type": "execute_result",
          "data": {
            "text/plain": [
              "((389125, 66), (389125,), (12000, 66))"
            ]
          },
          "metadata": {
            "tags": []
          },
          "execution_count": 20
        }
      ]
    },
    {
      "cell_type": "code",
      "metadata": {
        "id": "zIueBt9pXA9K",
        "colab_type": "code",
        "colab": {}
      },
      "source": [
        "# lets define the RMSE root mean squeared error\n",
        "\n",
        "def rmse(x, y): return math.sqrt(((x-y)**2).mean())\n",
        "\n",
        "def print_score(m):\n",
        "  res = [rmse(m.predict(X_train), y_train), rmse(m.predict(X_valid), y_valid), m.score(X_train, y_train), m.score(X_valid, y_valid)]\n",
        "  if hasattr(m, 'oob_score_'): res.append(m.oob_score_)\n",
        "  pre = [\"RMSE training: \", \"RMSE validation: \", \"R^2 training: \", \"R^2 validation: \", \"OOB_SCORE: \"]\n",
        "\n",
        "  for i in range(len(res)):\n",
        "    print(pre[i] + str(res[i]))"
      ],
      "execution_count": 0,
      "outputs": []
    },
    {
      "cell_type": "code",
      "metadata": {
        "id": "hReYo9qjYNtx",
        "colab_type": "code",
        "outputId": "5f8d2024-8e93-4977-f086-1facb190a567",
        "colab": {
          "base_uri": "https://localhost:8080/"
        }
      },
      "source": [
        "#We reset our model with our training data\n",
        "model = RandomForestRegressor(n_jobs=-1)\n",
        "%time model.fit(X_train, y_train)\n",
        "print_score(model)"
      ],
      "execution_count": 0,
      "outputs": [
        {
          "output_type": "stream",
          "text": [
            "/usr/local/lib/python3.6/dist-packages/sklearn/ensemble/forest.py:245: FutureWarning: The default value of n_estimators will change from 10 in version 0.20 to 100 in 0.22.\n",
            "  \"10 in version 0.20 to 100 in 0.22.\", FutureWarning)\n"
          ],
          "name": "stderr"
        },
        {
          "output_type": "stream",
          "text": [
            "CPU times: user 1min 43s, sys: 119 ms, total: 1min 43s\n",
            "Wall time: 52.7 s\n",
            "RMSE training: 0.09033870322229169\n",
            "RMSE validation: 0.2483661016851665\n",
            "R^2 training: 0.9829437901629704\n",
            "R^2 validation: 0.8898377961827018\n"
          ],
          "name": "stdout"
        }
      ]
    },
    {
      "cell_type": "markdown",
      "metadata": {
        "id": "gsKZTrGNCwcA",
        "colab_type": "text"
      },
      "source": [
        "## **Lesson 2: Hyperparameters and tunning**"
      ]
    },
    {
      "cell_type": "markdown",
      "metadata": {
        "id": "AQYQlf_kDFGI",
        "colab_type": "text"
      },
      "source": [
        "### **Speed things up**\n",
        "Let's see how we can speed thing up for faster analysis."
      ]
    },
    {
      "cell_type": "code",
      "metadata": {
        "id": "fPLq_LMmDPS8",
        "colab_type": "code",
        "colab": {}
      },
      "source": [
        "#Lets take a smaller subset of only 30000 rows instead of all which area ~500,000\n",
        "#The reason we are doing this is to speedup the runs ~9 seconds\n",
        "df_trn, y_trn, nas = proc_df(data_raw, 'SalePrice', subset=30000, na_dict=nas)\n",
        "#Note we don't update our validation set, that one will still be the big one we created previously\n",
        "X_train, _ = split_vals(df_trn, 20000)\n",
        "y_train, _ = split_vals(y_trn, 20000)"
      ],
      "execution_count": 0,
      "outputs": []
    },
    {
      "cell_type": "code",
      "metadata": {
        "id": "wbzH__SED_8i",
        "colab_type": "code",
        "outputId": "45f0296e-620a-4ea7-ee10-074ce264d3de",
        "colab": {
          "base_uri": "https://localhost:8080/"
        }
      },
      "source": [
        "#Lets recreate our model\n",
        "model = RandomForestRegressor(n_jobs=-1)\n",
        "%time model.fit(X_train, y_train)\n",
        "print_score(model)"
      ],
      "execution_count": 0,
      "outputs": [
        {
          "output_type": "stream",
          "text": [
            "/usr/local/lib/python3.6/dist-packages/sklearn/ensemble/forest.py:245: FutureWarning: The default value of n_estimators will change from 10 in version 0.20 to 100 in 0.22.\n",
            "  \"10 in version 0.20 to 100 in 0.22.\", FutureWarning)\n"
          ],
          "name": "stderr"
        },
        {
          "output_type": "stream",
          "text": [
            "CPU times: user 4.21 s, sys: 13.9 ms, total: 4.22 s\n",
            "Wall time: 2.27 s\n",
            "RMSE training: 0.11230636559427173\n",
            "RMSE validation: 0.36426189486537586\n",
            "R^2 training: 0.9726615863460334\n",
            "R^2 validation: 0.763039772107647\n"
          ],
          "name": "stdout"
        }
      ]
    },
    {
      "cell_type": "markdown",
      "metadata": {
        "id": "3MeM2xNjfSyG",
        "colab_type": "text"
      },
      "source": [
        "### **Hyperparameters**\n",
        "\n",
        "Lets start adding hyperparameters and tunning our model.\n",
        "\n",
        "* n_estimators: how many trees we want our forest to have.\n",
        "* max_depth: the maximum depth of our tree, by default this is when each leaf node has exactly 1 giving us a perfect (extremely overfitted) model.\n",
        "* bootrstrap: true if there exists randomization in our estimators, false otherwise. What scikit-learn does by default is for n rows, it picks out n rows with replacement — which is called bootstrapping\n",
        "* n_jobs: if it's -1 we want to use several cores for our model\n"
      ]
    },
    {
      "cell_type": "code",
      "metadata": {
        "id": "RxMQCYZD12o3",
        "colab_type": "code",
        "outputId": "b2121b69-d313-43ed-c059-8a0f0c007063",
        "colab": {
          "base_uri": "https://localhost:8080/"
        }
      },
      "source": [
        "model = RandomForestRegressor(n_estimators=1, max_depth=3, bootstrap=False, n_jobs=-1)\n",
        "model.fit(X_train, y_train)\n",
        "print_score(model)"
      ],
      "execution_count": 0,
      "outputs": [
        {
          "output_type": "stream",
          "text": [
            "RMSE training: 0.5293450603159572\n",
            "RMSE validation: 0.5790577767201898\n",
            "R^2 training: 0.39264544369482735\n",
            "R^2 validation: 0.40118624035887246\n"
          ],
          "name": "stdout"
        }
      ]
    },
    {
      "cell_type": "markdown",
      "metadata": {
        "id": "rSunoLQ0hhkI",
        "colab_type": "text"
      },
      "source": [
        "#### **Estimator (Tree) structure**\n",
        "Here we have 4 values per each desition note.\n",
        "\n",
        "* Splitting variable: This is the variable for which we are deciding to make our split (binary desition).\n",
        "</br>This is decided by trying to separate our 2 groups into groups as homogeneous as possible within themselves and heterogeneous as possible with each other. Matemathically we make this desition by testing all the possible split variables with all possible binary resolution values and evaluate them according to their weighted average on the MSE. Whichever has the lowest is the best split and we use that one.\n",
        "\n",
        "* MSE: Simply the MSE if we predict the value for all the samples in this node.\n",
        "* Samples: The number of samples that fit this citeria.\n",
        "* Value: The average value of all the samples in this node.\n",
        "\n",
        "We should note that in the first node is the most naive model possible (predicting the average) which causes an R^2 of 0."
      ]
    },
    {
      "cell_type": "code",
      "metadata": {
        "id": "nu0oGPFL-A8O",
        "colab_type": "code",
        "outputId": "8024d573-ce65-4342-c0f4-50e8a328b1f3",
        "colab": {
          "base_uri": "https://localhost:8080/"
        }
      },
      "source": [
        "#Lets make a drawing of this samll estimator (tree) from our random forest.\n",
        "draw_tree(model.estimators_[0], df_trn, precision=3)"
      ],
      "execution_count": 0,
      "outputs": [
        {
          "output_type": "display_data",
          "data": {
            "text/plain": [
              "<graphviz.files.Source at 0x7f1f936c2c88>"
            ],
            "image/svg+xml": "<?xml version=\"1.0\" encoding=\"UTF-8\" standalone=\"no\"?>\n<!DOCTYPE svg PUBLIC \"-//W3C//DTD SVG 1.1//EN\"\n \"http://www.w3.org/Graphics/SVG/1.1/DTD/svg11.dtd\">\n<!-- Generated by graphviz version 2.40.1 (20161225.0304)\n -->\n<!-- Title: Tree Pages: 1 -->\n<svg width=\"720pt\" height=\"434pt\"\n viewBox=\"0.00 0.00 720.00 434.49\" xmlns=\"http://www.w3.org/2000/svg\" xmlns:xlink=\"http://www.w3.org/1999/xlink\">\n<g id=\"graph0\" class=\"graph\" transform=\"scale(.7787 .7787) rotate(0) translate(4 554)\">\n<title>Tree</title>\n<polygon fill=\"#ffffff\" stroke=\"transparent\" points=\"-4,4 -4,-554 920.6667,-554 920.6667,4 -4,4\"/>\n<!-- 0 -->\n<g id=\"node1\" class=\"node\">\n<title>0</title>\n<polygon fill=\"#eda673\" stroke=\"#000000\" points=\"174.6667,-336.5 28.6667,-336.5 28.6667,-268.5 174.6667,-268.5 174.6667,-336.5\"/>\n<text text-anchor=\"start\" x=\"36.6667\" y=\"-321.3\" font-family=\"Times,serif\" font-size=\"14.00\" fill=\"#000000\">Coupler_System ≤ 0.5</text>\n<text text-anchor=\"start\" x=\"65.1667\" y=\"-306.3\" font-family=\"Times,serif\" font-size=\"14.00\" fill=\"#000000\">mse = 0.461</text>\n<text text-anchor=\"start\" x=\"52.1667\" y=\"-291.3\" font-family=\"Times,serif\" font-size=\"14.00\" fill=\"#000000\">samples = 20000</text>\n<text text-anchor=\"start\" x=\"57.6667\" y=\"-276.3\" font-family=\"Times,serif\" font-size=\"14.00\" fill=\"#000000\">value = 10.119</text>\n</g>\n<!-- 1 -->\n<g id=\"node2\" class=\"node\">\n<title>1</title>\n<polygon fill=\"#eb9f68\" stroke=\"#000000\" points=\"409.1667,-372.5 278.1667,-372.5 278.1667,-304.5 409.1667,-304.5 409.1667,-372.5\"/>\n<text text-anchor=\"start\" x=\"286.1667\" y=\"-357.3\" font-family=\"Times,serif\" font-size=\"14.00\" fill=\"#000000\">YearMade ≤ 1990.5</text>\n<text text-anchor=\"start\" x=\"307.1667\" y=\"-342.3\" font-family=\"Times,serif\" font-size=\"14.00\" fill=\"#000000\">mse = 0.406</text>\n<text text-anchor=\"start\" x=\"294.1667\" y=\"-327.3\" font-family=\"Times,serif\" font-size=\"14.00\" fill=\"#000000\">samples = 18342</text>\n<text text-anchor=\"start\" x=\"299.6667\" y=\"-312.3\" font-family=\"Times,serif\" font-size=\"14.00\" fill=\"#000000\">value = 10.204</text>\n</g>\n<!-- 0&#45;&gt;1 -->\n<g id=\"edge1\" class=\"edge\">\n<title>0&#45;&gt;1</title>\n<path fill=\"none\" stroke=\"#000000\" d=\"M174.9314,-313.3989C204.4281,-317.7868 238.4321,-322.8453 268.1515,-327.2663\"/>\n<polygon fill=\"#000000\" stroke=\"#000000\" points=\"267.6472,-330.7297 278.0533,-328.7393 268.6772,-323.8059 267.6472,-330.7297\"/>\n<text text-anchor=\"middle\" x=\"257.967\" y=\"-339.9235\" font-family=\"Times,serif\" font-size=\"14.00\" fill=\"#000000\">True</text>\n</g>\n<!-- 8 -->\n<g id=\"node9\" class=\"node\">\n<title>8</title>\n<polygon fill=\"#fcf2eb\" stroke=\"#000000\" points=\"409.1667,-245.5 278.1667,-245.5 278.1667,-177.5 409.1667,-177.5 409.1667,-245.5\"/>\n<text text-anchor=\"start\" x=\"286.1667\" y=\"-230.3\" font-family=\"Times,serif\" font-size=\"14.00\" fill=\"#000000\">YearMade ≤ 1999.5</text>\n<text text-anchor=\"start\" x=\"307.1667\" y=\"-215.3\" font-family=\"Times,serif\" font-size=\"14.00\" fill=\"#000000\">mse = 0.107</text>\n<text text-anchor=\"start\" x=\"298.1667\" y=\"-200.3\" font-family=\"Times,serif\" font-size=\"14.00\" fill=\"#000000\">samples = 1658</text>\n<text text-anchor=\"start\" x=\"303.1667\" y=\"-185.3\" font-family=\"Times,serif\" font-size=\"14.00\" fill=\"#000000\">value = 9.177</text>\n</g>\n<!-- 0&#45;&gt;8 -->\n<g id=\"edge8\" class=\"edge\">\n<title>0&#45;&gt;8</title>\n<path fill=\"none\" stroke=\"#000000\" d=\"M174.9314,-274.95C204.5563,-263.8101 238.7278,-250.9605 268.5389,-239.7505\"/>\n<polygon fill=\"#000000\" stroke=\"#000000\" points=\"269.9251,-242.9686 278.0533,-236.1728 267.4613,-236.4165 269.9251,-242.9686\"/>\n<text text-anchor=\"middle\" x=\"255.2848\" y=\"-222.1483\" font-family=\"Times,serif\" font-size=\"14.00\" fill=\"#000000\">False</text>\n</g>\n<!-- 2 -->\n<g id=\"node3\" class=\"node\">\n<title>2</title>\n<polygon fill=\"#efb185\" stroke=\"#000000\" points=\"664.1667,-486.5 539.1667,-486.5 539.1667,-418.5 664.1667,-418.5 664.1667,-486.5\"/>\n<text text-anchor=\"start\" x=\"547.1667\" y=\"-471.3\" font-family=\"Times,serif\" font-size=\"14.00\" fill=\"#000000\">ModelID ≤ 4429.0</text>\n<text text-anchor=\"start\" x=\"565.1667\" y=\"-456.3\" font-family=\"Times,serif\" font-size=\"14.00\" fill=\"#000000\">mse = 0.366</text>\n<text text-anchor=\"start\" x=\"556.1667\" y=\"-441.3\" font-family=\"Times,serif\" font-size=\"14.00\" fill=\"#000000\">samples = 8794</text>\n<text text-anchor=\"start\" x=\"561.1667\" y=\"-426.3\" font-family=\"Times,serif\" font-size=\"14.00\" fill=\"#000000\">value = 9.977</text>\n</g>\n<!-- 1&#45;&gt;2 -->\n<g id=\"edge2\" class=\"edge\">\n<title>1&#45;&gt;2</title>\n<path fill=\"none\" stroke=\"#000000\" d=\"M409.4385,-367.562C446.186,-383.7993 492.028,-404.055 529.7273,-420.7128\"/>\n<polygon fill=\"#000000\" stroke=\"#000000\" points=\"528.5644,-424.0254 539.1259,-424.8657 531.3936,-417.6226 528.5644,-424.0254\"/>\n</g>\n<!-- 5 -->\n<g id=\"node6\" class=\"node\">\n<title>5</title>\n<polygon fill=\"#e88e4d\" stroke=\"#000000\" points=\"682.1667,-372.5 521.1667,-372.5 521.1667,-304.5 682.1667,-304.5 682.1667,-372.5\"/>\n<text text-anchor=\"start\" x=\"529.1667\" y=\"-357.3\" font-family=\"Times,serif\" font-size=\"14.00\" fill=\"#000000\">fiProductClassDesc ≤ 6.5</text>\n<text text-anchor=\"start\" x=\"565.1667\" y=\"-342.3\" font-family=\"Times,serif\" font-size=\"14.00\" fill=\"#000000\">mse = 0.351</text>\n<text text-anchor=\"start\" x=\"556.1667\" y=\"-327.3\" font-family=\"Times,serif\" font-size=\"14.00\" fill=\"#000000\">samples = 9548</text>\n<text text-anchor=\"start\" x=\"557.6667\" y=\"-312.3\" font-family=\"Times,serif\" font-size=\"14.00\" fill=\"#000000\">value = 10.413</text>\n</g>\n<!-- 1&#45;&gt;5 -->\n<g id=\"edge5\" class=\"edge\">\n<title>1&#45;&gt;5</title>\n<path fill=\"none\" stroke=\"#000000\" d=\"M409.4385,-338.5C440.1513,-338.5 477.2167,-338.5 510.5716,-338.5\"/>\n<polygon fill=\"#000000\" stroke=\"#000000\" points=\"510.7929,-342.0001 520.7928,-338.5 510.7928,-335.0001 510.7929,-342.0001\"/>\n</g>\n<!-- 3 -->\n<g id=\"node4\" class=\"node\">\n<title>3</title>\n<polygon fill=\"#eb9f68\" stroke=\"#000000\" points=\"896.1667,-550 789.1667,-550 789.1667,-497 896.1667,-497 896.1667,-550\"/>\n<text text-anchor=\"start\" x=\"806.1667\" y=\"-534.8\" font-family=\"Times,serif\" font-size=\"14.00\" fill=\"#000000\">mse = 0.383</text>\n<text text-anchor=\"start\" x=\"797.1667\" y=\"-519.8\" font-family=\"Times,serif\" font-size=\"14.00\" fill=\"#000000\">samples = 4623</text>\n<text text-anchor=\"start\" x=\"798.6667\" y=\"-504.8\" font-family=\"Times,serif\" font-size=\"14.00\" fill=\"#000000\">value = 10.202</text>\n</g>\n<!-- 2&#45;&gt;3 -->\n<g id=\"edge3\" class=\"edge\">\n<title>2&#45;&gt;3</title>\n<path fill=\"none\" stroke=\"#000000\" d=\"M664.3575,-470.9691C699.6699,-481.3723 743.6627,-494.3328 779.1148,-504.7773\"/>\n<polygon fill=\"#000000\" stroke=\"#000000\" points=\"778.2918,-508.1835 788.8733,-507.6522 780.2701,-501.4688 778.2918,-508.1835\"/>\n</g>\n<!-- 4 -->\n<g id=\"node5\" class=\"node\">\n<title>4</title>\n<polygon fill=\"#f3c6a5\" stroke=\"#000000\" points=\"896.1667,-479 789.1667,-479 789.1667,-426 896.1667,-426 896.1667,-479\"/>\n<text text-anchor=\"start\" x=\"806.1667\" y=\"-463.8\" font-family=\"Times,serif\" font-size=\"14.00\" fill=\"#000000\">mse = 0.229</text>\n<text text-anchor=\"start\" x=\"797.1667\" y=\"-448.8\" font-family=\"Times,serif\" font-size=\"14.00\" fill=\"#000000\">samples = 4171</text>\n<text text-anchor=\"start\" x=\"802.1667\" y=\"-433.8\" font-family=\"Times,serif\" font-size=\"14.00\" fill=\"#000000\">value = 9.727</text>\n</g>\n<!-- 2&#45;&gt;4 -->\n<g id=\"edge4\" class=\"edge\">\n<title>2&#45;&gt;4</title>\n<path fill=\"none\" stroke=\"#000000\" d=\"M664.3575,-452.5C699.519,-452.5 743.2868,-452.5 778.6598,-452.5\"/>\n<polygon fill=\"#000000\" stroke=\"#000000\" points=\"778.8734,-456.0001 788.8733,-452.5 778.8733,-449.0001 778.8734,-456.0001\"/>\n</g>\n<!-- 6 -->\n<g id=\"node7\" class=\"node\">\n<title>6</title>\n<polygon fill=\"#eeae80\" stroke=\"#000000\" points=\"896.1667,-408 789.1667,-408 789.1667,-355 896.1667,-355 896.1667,-408\"/>\n<text text-anchor=\"start\" x=\"806.1667\" y=\"-392.8\" font-family=\"Times,serif\" font-size=\"14.00\" fill=\"#000000\">mse = 0.104</text>\n<text text-anchor=\"start\" x=\"797.1667\" y=\"-377.8\" font-family=\"Times,serif\" font-size=\"14.00\" fill=\"#000000\">samples = 2730</text>\n<text text-anchor=\"start\" x=\"798.6667\" y=\"-362.8\" font-family=\"Times,serif\" font-size=\"14.00\" fill=\"#000000\">value = 10.018</text>\n</g>\n<!-- 5&#45;&gt;6 -->\n<g id=\"edge6\" class=\"edge\">\n<title>5&#45;&gt;6</title>\n<path fill=\"none\" stroke=\"#000000\" d=\"M682.2512,-352.8782C713.7093,-358.491 749.2589,-364.8339 778.8835,-370.1196\"/>\n<polygon fill=\"#000000\" stroke=\"#000000\" points=\"778.6392,-373.6312 789.0985,-371.9422 779.8688,-366.74 778.6392,-373.6312\"/>\n</g>\n<!-- 7 -->\n<g id=\"node8\" class=\"node\">\n<title>7</title>\n<polygon fill=\"#e58139\" stroke=\"#000000\" points=\"896.1667,-337 789.1667,-337 789.1667,-284 896.1667,-284 896.1667,-337\"/>\n<text text-anchor=\"start\" x=\"806.1667\" y=\"-321.8\" font-family=\"Times,serif\" font-size=\"14.00\" fill=\"#000000\">mse = 0.362</text>\n<text text-anchor=\"start\" x=\"797.1667\" y=\"-306.8\" font-family=\"Times,serif\" font-size=\"14.00\" fill=\"#000000\">samples = 6818</text>\n<text text-anchor=\"start\" x=\"798.6667\" y=\"-291.8\" font-family=\"Times,serif\" font-size=\"14.00\" fill=\"#000000\">value = 10.572</text>\n</g>\n<!-- 5&#45;&gt;7 -->\n<g id=\"edge7\" class=\"edge\">\n<title>5&#45;&gt;7</title>\n<path fill=\"none\" stroke=\"#000000\" d=\"M682.2512,-329.1375C713.7093,-325.4826 749.2589,-321.3524 778.8835,-317.9105\"/>\n<polygon fill=\"#000000\" stroke=\"#000000\" points=\"779.5693,-321.3544 789.0985,-316.7237 778.7614,-314.4012 779.5693,-321.3544\"/>\n</g>\n<!-- 9 -->\n<g id=\"node10\" class=\"node\">\n<title>9</title>\n<polygon fill=\"#fefcfa\" stroke=\"#000000\" points=\"686.1667,-245.5 517.1667,-245.5 517.1667,-177.5 686.1667,-177.5 686.1667,-245.5\"/>\n<text text-anchor=\"start\" x=\"525.1667\" y=\"-230.3\" font-family=\"Times,serif\" font-size=\"14.00\" fill=\"#000000\">fiProductClassDesc ≤ 40.5</text>\n<text text-anchor=\"start\" x=\"565.1667\" y=\"-215.3\" font-family=\"Times,serif\" font-size=\"14.00\" fill=\"#000000\">mse = 0.084</text>\n<text text-anchor=\"start\" x=\"556.1667\" y=\"-200.3\" font-family=\"Times,serif\" font-size=\"14.00\" fill=\"#000000\">samples = 1063</text>\n<text text-anchor=\"start\" x=\"561.1667\" y=\"-185.3\" font-family=\"Times,serif\" font-size=\"14.00\" fill=\"#000000\">value = 9.063</text>\n</g>\n<!-- 8&#45;&gt;9 -->\n<g id=\"edge9\" class=\"edge\">\n<title>8&#45;&gt;9</title>\n<path fill=\"none\" stroke=\"#000000\" d=\"M409.4385,-211.5C438.9412,-211.5 474.3057,-211.5 506.6123,-211.5\"/>\n<polygon fill=\"#000000\" stroke=\"#000000\" points=\"506.9827,-215.0001 516.9827,-211.5 506.9826,-208.0001 506.9827,-215.0001\"/>\n</g>\n<!-- 12 -->\n<g id=\"node13\" class=\"node\">\n<title>12</title>\n<polygon fill=\"#f9e2d1\" stroke=\"#000000\" points=\"686.1667,-131.5 517.1667,-131.5 517.1667,-63.5 686.1667,-63.5 686.1667,-131.5\"/>\n<text text-anchor=\"start\" x=\"525.1667\" y=\"-116.3\" font-family=\"Times,serif\" font-size=\"14.00\" fill=\"#000000\">fiProductClassDesc ≤ 40.5</text>\n<text text-anchor=\"start\" x=\"565.1667\" y=\"-101.3\" font-family=\"Times,serif\" font-size=\"14.00\" fill=\"#000000\">mse = 0.084</text>\n<text text-anchor=\"start\" x=\"559.6667\" y=\"-86.3\" font-family=\"Times,serif\" font-size=\"14.00\" fill=\"#000000\">samples = 595</text>\n<text text-anchor=\"start\" x=\"561.1667\" y=\"-71.3\" font-family=\"Times,serif\" font-size=\"14.00\" fill=\"#000000\">value = 9.379</text>\n</g>\n<!-- 8&#45;&gt;12 -->\n<g id=\"edge12\" class=\"edge\">\n<title>8&#45;&gt;12</title>\n<path fill=\"none\" stroke=\"#000000\" d=\"M409.4385,-182.438C441.6448,-168.2073 480.8366,-150.89 515.4101,-135.6133\"/>\n<polygon fill=\"#000000\" stroke=\"#000000\" points=\"516.8276,-138.8135 524.5599,-131.5704 513.9984,-132.4107 516.8276,-138.8135\"/>\n</g>\n<!-- 10 -->\n<g id=\"node11\" class=\"node\">\n<title>10</title>\n<polygon fill=\"#ffffff\" stroke=\"#000000\" points=\"892.6667,-266 792.6667,-266 792.6667,-213 892.6667,-213 892.6667,-266\"/>\n<text text-anchor=\"start\" x=\"806.1667\" y=\"-250.8\" font-family=\"Times,serif\" font-size=\"14.00\" fill=\"#000000\">mse = 0.072</text>\n<text text-anchor=\"start\" x=\"800.6667\" y=\"-235.8\" font-family=\"Times,serif\" font-size=\"14.00\" fill=\"#000000\">samples = 841</text>\n<text text-anchor=\"start\" x=\"802.1667\" y=\"-220.8\" font-family=\"Times,serif\" font-size=\"14.00\" fill=\"#000000\">value = 9.021</text>\n</g>\n<!-- 9&#45;&gt;10 -->\n<g id=\"edge10\" class=\"edge\">\n<title>9&#45;&gt;10</title>\n<path fill=\"none\" stroke=\"#000000\" d=\"M686.2954,-221.3324C718.0822,-225.0255 753.5334,-229.1443 782.6337,-232.5252\"/>\n<polygon fill=\"#000000\" stroke=\"#000000\" points=\"782.3085,-236.0109 792.6456,-233.6884 783.1164,-229.0577 782.3085,-236.0109\"/>\n</g>\n<!-- 11 -->\n<g id=\"node12\" class=\"node\">\n<title>11</title>\n<polygon fill=\"#fcefe5\" stroke=\"#000000\" points=\"892.6667,-195 792.6667,-195 792.6667,-142 892.6667,-142 892.6667,-195\"/>\n<text text-anchor=\"start\" x=\"806.1667\" y=\"-179.8\" font-family=\"Times,serif\" font-size=\"14.00\" fill=\"#000000\">mse = 0.094</text>\n<text text-anchor=\"start\" x=\"800.6667\" y=\"-164.8\" font-family=\"Times,serif\" font-size=\"14.00\" fill=\"#000000\">samples = 222</text>\n<text text-anchor=\"start\" x=\"802.1667\" y=\"-149.8\" font-family=\"Times,serif\" font-size=\"14.00\" fill=\"#000000\">value = 9.224</text>\n</g>\n<!-- 9&#45;&gt;11 -->\n<g id=\"edge11\" class=\"edge\">\n<title>9&#45;&gt;11</title>\n<path fill=\"none\" stroke=\"#000000\" d=\"M686.2954,-196.4003C718.0822,-190.7288 753.5334,-184.4035 782.6337,-179.2113\"/>\n<polygon fill=\"#000000\" stroke=\"#000000\" points=\"783.4159,-182.6271 792.6456,-177.4249 782.1863,-175.7359 783.4159,-182.6271\"/>\n</g>\n<!-- 13 -->\n<g id=\"node14\" class=\"node\">\n<title>13</title>\n<polygon fill=\"#fbeade\" stroke=\"#000000\" points=\"892.6667,-124 792.6667,-124 792.6667,-71 892.6667,-71 892.6667,-124\"/>\n<text text-anchor=\"start\" x=\"806.1667\" y=\"-108.8\" font-family=\"Times,serif\" font-size=\"14.00\" fill=\"#000000\">mse = 0.077</text>\n<text text-anchor=\"start\" x=\"800.6667\" y=\"-93.8\" font-family=\"Times,serif\" font-size=\"14.00\" fill=\"#000000\">samples = 343</text>\n<text text-anchor=\"start\" x=\"802.1667\" y=\"-78.8\" font-family=\"Times,serif\" font-size=\"14.00\" fill=\"#000000\">value = 9.283</text>\n</g>\n<!-- 12&#45;&gt;13 -->\n<g id=\"edge13\" class=\"edge\">\n<title>12&#45;&gt;13</title>\n<path fill=\"none\" stroke=\"#000000\" d=\"M686.2954,-97.5C718.0822,-97.5 753.5334,-97.5 782.6337,-97.5\"/>\n<polygon fill=\"#000000\" stroke=\"#000000\" points=\"782.6456,-101.0001 792.6456,-97.5 782.6456,-94.0001 782.6456,-101.0001\"/>\n</g>\n<!-- 14 -->\n<g id=\"node15\" class=\"node\">\n<title>14</title>\n<polygon fill=\"#f7d7c1\" stroke=\"#000000\" points=\"892.6667,-53 792.6667,-53 792.6667,0 892.6667,0 892.6667,-53\"/>\n<text text-anchor=\"start\" x=\"806.1667\" y=\"-37.8\" font-family=\"Times,serif\" font-size=\"14.00\" fill=\"#000000\">mse = 0.063</text>\n<text text-anchor=\"start\" x=\"800.6667\" y=\"-22.8\" font-family=\"Times,serif\" font-size=\"14.00\" fill=\"#000000\">samples = 252</text>\n<text text-anchor=\"start\" x=\"802.1667\" y=\"-7.8\" font-family=\"Times,serif\" font-size=\"14.00\" fill=\"#000000\">value = 9.509</text>\n</g>\n<!-- 12&#45;&gt;14 -->\n<g id=\"edge14\" class=\"edge\">\n<title>12&#45;&gt;14</title>\n<path fill=\"none\" stroke=\"#000000\" d=\"M686.2954,-72.5679C718.221,-63.1624 753.843,-52.668 783.0146,-44.0739\"/>\n<polygon fill=\"#000000\" stroke=\"#000000\" points=\"784.0423,-47.4199 792.6456,-41.2365 782.0641,-40.7052 784.0423,-47.4199\"/>\n</g>\n</g>\n</svg>\n"
          },
          "metadata": {
            "tags": []
          }
        }
      ]
    },
    {
      "cell_type": "code",
      "metadata": {
        "id": "LQAK7BRwfkJj",
        "colab_type": "code",
        "colab": {}
      },
      "source": [
        "t_df = X_train.copy()\n",
        "t_df['value'] = y_train"
      ],
      "execution_count": 0,
      "outputs": []
    },
    {
      "cell_type": "code",
      "metadata": {
        "id": "u4nuYpsAsbZY",
        "colab_type": "code",
        "outputId": "288b44ce-47ca-4065-bacb-336802bc4b7a",
        "colab": {
          "base_uri": "https://localhost:8080/"
        }
      },
      "source": [
        "#Simple verification of values = mean of subset in predictor node\n",
        "a = t_df[t_df.Coupler_System<=0.5]\n",
        "a = a[a.YearMade<=1985.5]\n",
        "a = a[a.ModelID<=4157.5]\n",
        "a ['value'].mean()"
      ],
      "execution_count": 0,
      "outputs": [
        {
          "output_type": "execute_result",
          "data": {
            "text/plain": [
              "10.109815479603075"
            ]
          },
          "metadata": {
            "tags": []
          },
          "execution_count": 28
        }
      ]
    },
    {
      "cell_type": "code",
      "metadata": {
        "id": "_sdy9fqlriBf",
        "colab_type": "code",
        "outputId": "53403adb-1b80-4dd3-e786-75c21f1d0e66",
        "colab": {
          "base_uri": "https://localhost:8080/"
        }
      },
      "source": [
        "#Simple bigger tree\n",
        "model = RandomForestRegressor(n_estimators=1, bootstrap=False, n_jobs=-1)\n",
        "model.fit(X_train, y_train)\n",
        "print_score(model)"
      ],
      "execution_count": 0,
      "outputs": [
        {
          "output_type": "stream",
          "text": [
            "RMSE training: 6.526751786450488e-17\n",
            "RMSE validation: 0.5182996655131075\n",
            "R^2 training: 1.0\n",
            "R^2 validation: 0.5202556915200415\n"
          ],
          "name": "stdout"
        }
      ]
    },
    {
      "cell_type": "markdown",
      "metadata": {
        "id": "F13u-B5dx767",
        "colab_type": "text"
      },
      "source": [
        "### **Bagging**\n",
        "\n",
        "Bagging helps us create a model using randomization.\n",
        "\n",
        "What if we created N different un-correlated models somewhat predictive?\n",
        "Each model will find different insights into the data and if we take the average (Ensemmbling) of all those overfitting predictors we will reduce our error to 0 as N increases (average of random errors) as long as all sets for predictors are picked randomly and their errors are unrelated.\n",
        "\n",
        "The way this works is that the model (in sklearn) takes a random number of rows of our data frame (with replacement) for every predictor (by default 10 predictors [the more we can use, the better]) and uses those. It's important to note that the sets of each predictor may overlap each predictor covering ~65% of the total data in average.\n",
        "\n",
        "Also recent research has shown that un-correlation is better than presition in the trees we create.\n",
        "\n",
        "Sklear has another class named \"ExtraTreesRegresor\" which is an extremely randomized trees model which does the same as the RandomForestRegressor but now instead of checking for all splits of all variables it only tries a few of randomly selected splits for every node in each tree (predictor).\n",
        "\n",
        "How much subsamples do we end up having per tree?\n",
        "\n",
        "According to sklearn's api:\n",
        "\"The sub-sample size is always the same as the original input sample size but the samples are drawn with replacement if bootstrap=True (default)\""
      ]
    },
    {
      "cell_type": "code",
      "metadata": {
        "id": "8rfdDpgkrSfz",
        "colab_type": "code",
        "outputId": "b84c1c8b-e497-4004-eee2-0d075821fe10",
        "colab": {
          "base_uri": "https://localhost:8080/"
        }
      },
      "source": [
        "model = RandomForestRegressor(n_jobs=-1)\n",
        "model.fit(X_train, y_train)\n",
        "print_score(model)"
      ],
      "execution_count": 0,
      "outputs": [
        {
          "output_type": "stream",
          "text": [
            "/usr/local/lib/python3.6/dist-packages/sklearn/ensemble/forest.py:245: FutureWarning: The default value of n_estimators will change from 10 in version 0.20 to 100 in 0.22.\n",
            "  \"10 in version 0.20 to 100 in 0.22.\", FutureWarning)\n"
          ],
          "name": "stderr"
        },
        {
          "output_type": "stream",
          "text": [
            "RMSE training: 0.11260103424427118\n",
            "RMSE validation: 0.3518598268948615\n",
            "R^2 training: 0.9725179374666021\n",
            "R^2 validation: 0.7789007123307042\n"
          ],
          "name": "stdout"
        }
      ]
    },
    {
      "cell_type": "code",
      "metadata": {
        "id": "b2okqezSsImB",
        "colab_type": "code",
        "outputId": "4b2ca9b0-3df7-42d7-daf9-b47ccf707281",
        "colab": {
          "base_uri": "https://localhost:8080/"
        }
      },
      "source": [
        "#Here we are taking all trees and predicting the validation set on all of them.\n",
        "#And we store that as a matrix of 10 by 12000 (validation test rows) in preds.\n",
        "preds = np.stack([t.predict(X_valid) for t in model.estimators_])\n",
        "#We print the first 10 prediction, then their mean and finally the valid one\n",
        "preds[:, 0], np.mean(preds[:, 0]), y_valid[0]"
      ],
      "execution_count": 0,
      "outputs": [
        {
          "output_type": "execute_result",
          "data": {
            "text/plain": [
              "(array([9.076809, 9.047821, 9.546813, 9.259131, 9.21034 , 9.10498 , 9.047821, 9.350102, 9.076809, 9.903488]),\n",
              " 9.262411408358513,\n",
              " 9.104979856318357)"
            ]
          },
          "metadata": {
            "tags": []
          },
          "execution_count": 31
        }
      ]
    },
    {
      "cell_type": "code",
      "metadata": {
        "id": "njmSSK98srJW",
        "colab_type": "code",
        "outputId": "f23e5bc2-9dcc-42ec-a819-2ffb64e652c7",
        "colab": {
          "base_uri": "https://localhost:8080/"
        }
      },
      "source": [
        "preds.shape"
      ],
      "execution_count": 0,
      "outputs": [
        {
          "output_type": "execute_result",
          "data": {
            "text/plain": [
              "(10, 12000)"
            ]
          },
          "metadata": {
            "tags": []
          },
          "execution_count": 32
        }
      ]
    },
    {
      "cell_type": "code",
      "metadata": {
        "id": "4zVWJu-LtdkZ",
        "colab_type": "code",
        "outputId": "5e920bd6-597f-48c7-c30c-e4fc3b763081",
        "colab": {
          "base_uri": "https://localhost:8080/"
        }
      },
      "source": [
        "#Here we go through each of the 10 trees, take the mean of all of the predictions up to the ith trees\n",
        "#finally we plot the r^2\n",
        "#We can see it significantly improving as the number of trees grows\n",
        "plt.plot([metrics.r2_score(y_valid, np.mean(preds[:i+1], axis=0)) for i in range(10)])"
      ],
      "execution_count": 0,
      "outputs": [
        {
          "output_type": "execute_result",
          "data": {
            "text/plain": [
              "[<matplotlib.lines.Line2D at 0x7f1f8a46d978>]"
            ]
          },
          "metadata": {
            "tags": []
          },
          "execution_count": 33
        },
        {
          "output_type": "display_data",
          "data": {
            "image/png": "[encoded data removed]",
            "text/plain": [
              "<Figure size 432x288 with 1 Axes>"
            ]
          },
          "metadata": {
            "tags": []
          }
        }
      ]
    },
    {
      "cell_type": "markdown",
      "metadata": {
        "id": "S8rNBHcgvdFz",
        "colab_type": "text"
      },
      "source": [
        "###**Out-of-bag (OOB) score**\n",
        "Sometimes our data set will be a bit small and you dont want to pull out a validation set since that will mean our model with get crappier since the training data will be pretty small. WWYD? Theres a cool trick pretty much unique to random forests which is realizing that some of our rows didn't get used for some of our predictors so you can take those rows and pass it to the trees in which they don't appear and use that as your validation set. To calculate our preditction we will basically take every\n",
        "row, see where it doesn't appear and average those trees.\n"
      ]
    },
    {
      "cell_type": "code",
      "metadata": {
        "id": "shguhQb32Lqk",
        "colab_type": "code",
        "outputId": "dc08fb8a-d57c-46f2-e9c8-2a863d8cb979",
        "colab": {
          "base_uri": "https://localhost:8080/"
        }
      },
      "source": [
        "model = RandomForestRegressor(n_estimators=40, n_jobs=-1, oob_score=True)\n",
        "model.fit(X_train, y_train)\n",
        "print_score(model)"
      ],
      "execution_count": 0,
      "outputs": [
        {
          "output_type": "stream",
          "text": [
            "RMSE training: 0.09586371938171373\n",
            "RMSE validation: 0.3393560960249918\n",
            "R^2 training: 0.9800807439410809\n",
            "R^2 validation: 0.7943355236681334\n",
            "OOB_SCORE: 0.857314511625867\n"
          ],
          "name": "stdout"
        }
      ]
    },
    {
      "cell_type": "code",
      "metadata": {
        "id": "N7fCiMENxip6",
        "colab_type": "code",
        "outputId": "3f8fe588-afb8-4156-94d8-ec9713c275bf",
        "colab": {
          "base_uri": "https://localhost:8080/"
        }
      },
      "source": [
        "from random import randrange\n",
        "\n",
        "xd = []\n",
        "\n",
        "for i in range(1000):\n",
        "  xd.append(False)\n",
        "\n",
        "for i in range(1000):\n",
        "  x = randrange(1000)\n",
        "  xd[x] = True\n",
        "\n",
        "count = 0\n",
        "for i in range(1000):\n",
        "  if(xd[i]):\n",
        "    count = count+1\n",
        "\n",
        "print(count/1000)"
      ],
      "execution_count": 0,
      "outputs": [
        {
          "output_type": "stream",
          "text": [
            "0.639\n"
          ],
          "name": "stdout"
        }
      ]
    },
    {
      "cell_type": "markdown",
      "metadata": {
        "id": "1-Wvogk72-Hj",
        "colab_type": "text"
      },
      "source": [
        "###**Grid Search**\n",
        "\n",
        "Basically a Sklearn function that allows us to pass all the parameters we want to try with a list of all the values we want to choose. Then this GridSeatch will try all the combinations and with that it will choose the best combination model."
      ]
    },
    {
      "cell_type": "markdown",
      "metadata": {
        "id": "J0w30qkE1hUf",
        "colab_type": "text"
      },
      "source": [
        "### Defined Sub-sampling\n",
        "Previously we selected our data to be of size 30000 and we are bootstraping over such set but, why dont we just program our model to instead look into all the dataframe but just take 30000 samples per each predictor?"
      ]
    },
    {
      "cell_type": "code",
      "metadata": {
        "id": "Mo3i6wiW2KKL",
        "colab_type": "code",
        "outputId": "76d29e3e-aeb7-49a2-dae1-b71ba8c81bf6",
        "colab": {
          "base_uri": "https://localhost:8080/"
        }
      },
      "source": [
        "#Lets resample our data frame\n",
        "df_trn, y_trn, nas = proc_df(data_raw, 'SalePrice')\n",
        "X_train, X_valid = split_vals(df_trn, n_trn)\n",
        "y_train, y_valid = split_vals(y_trn, n_trn)\n",
        "df_trn.shape"
      ],
      "execution_count": 0,
      "outputs": [
        {
          "output_type": "execute_result",
          "data": {
            "text/plain": [
              "(401125, 66)"
            ]
          },
          "metadata": {
            "tags": []
          },
          "execution_count": 36
        }
      ]
    },
    {
      "cell_type": "code",
      "metadata": {
        "id": "OsQ8dtS62Ivj",
        "colab_type": "code",
        "colab": {}
      },
      "source": [
        "#Lets set the samples we want\n",
        "set_rf_samples(20000)"
      ],
      "execution_count": 0,
      "outputs": []
    },
    {
      "cell_type": "code",
      "metadata": {
        "id": "zqGc5dEW2DFI",
        "colab_type": "code",
        "outputId": "602b204e-a427-4b5a-a4fd-45a17a069222",
        "colab": {
          "base_uri": "https://localhost:8080/"
        }
      },
      "source": [
        "#Now it will run as fast as before but with a wider data set\n",
        "model = RandomForestRegressor(n_estimators=40, n_jobs=-1)\n",
        "%time model.fit(X_train, y_train)\n",
        "print_score(model)"
      ],
      "execution_count": 0,
      "outputs": [
        {
          "output_type": "stream",
          "text": [
            "CPU times: user 32.4 s, sys: 154 ms, total: 32.5 s\n",
            "Wall time: 17 s\n",
            "RMSE training: 0.22688377908900334\n",
            "RMSE validation: 0.2626530974859391\n",
            "R^2 training: 0.8924174780338769\n",
            "R^2 validation: 0.8767993419133404\n"
          ],
          "name": "stdout"
        }
      ]
    },
    {
      "cell_type": "code",
      "metadata": {
        "id": "VSKTdC6D2CG8",
        "colab_type": "code",
        "colab": {}
      },
      "source": [
        "#Lets reset it back to normal\n",
        "reset_rf_samples()"
      ],
      "execution_count": 0,
      "outputs": []
    },
    {
      "cell_type": "markdown",
      "metadata": {
        "id": "K4R3ZcJ04vOD",
        "colab_type": "text"
      },
      "source": [
        "###**Grow trees less deep**\n",
        "Another way to reduce overfitting is to reduce the deepness of our trees. We can do this by specifing min_samples_leaf"
      ]
    },
    {
      "cell_type": "code",
      "metadata": {
        "id": "iy1SC-OT19OZ",
        "colab_type": "code",
        "colab": {}
      },
      "source": [
        "#Go back to reduced data\n",
        "df_trn, y_trn, nas = proc_df(data_raw, 'SalePrice', subset=20000)\n",
        "X_train, _ = split_vals(df_trn, n_trn)\n",
        "y_train, _ = split_vals(y_trn, n_trn)"
      ],
      "execution_count": 0,
      "outputs": []
    },
    {
      "cell_type": "code",
      "metadata": {
        "id": "qiJLDMc617vn",
        "colab_type": "code",
        "outputId": "259bb416-50a9-4c57-f267-e3bc1c4d527c",
        "colab": {
          "base_uri": "https://localhost:8080/"
        }
      },
      "source": [
        "#Min_samples_leaf tells each predictor to stop a node when it has 3 or less samples in it (betweeen 1 and 25 usually)\n",
        "model = RandomForestRegressor(n_estimators=40, n_jobs=-1, min_samples_leaf=3, oob_score=True)\n",
        "model.fit(X_train, y_train)\n",
        "print_score(model)"
      ],
      "execution_count": 0,
      "outputs": [
        {
          "output_type": "stream",
          "text": [
            "RMSE training: 0.1444968071265672\n",
            "RMSE validation: 0.26898993888890316\n",
            "R^2 training: 0.95621869164637\n",
            "R^2 validation: 0.8707828831895218\n",
            "OOB_SCORE: 0.8430681626524317\n"
          ],
          "name": "stdout"
        }
      ]
    },
    {
      "cell_type": "markdown",
      "metadata": {
        "id": "MyJCbc9t6IL9",
        "colab_type": "text"
      },
      "source": [
        "###**Setup maximum number of features**\n",
        "The less correlated your trees are, the better. Hence taking a different subset of columns every time we create a split will allow us to increase the un-correlation of the predictors."
      ]
    },
    {
      "cell_type": "code",
      "metadata": {
        "id": "ZmnDn4GA6z6x",
        "colab_type": "code",
        "outputId": "126f3ace-b492-412e-d82c-b91f73030492",
        "colab": {
          "base_uri": "https://localhost:8080/",
          "height": 102
        }
      },
      "source": [
        "#Max_features is a precentage of how much features we are comparing when selecting a split in a node of our predictor\n",
        "model = RandomForestRegressor(n_estimators=40, n_jobs=-1, min_samples_leaf=3, max_features=0.5, oob_score=True)\n",
        "model.fit(X_train, y_train)\n",
        "print_score(model)"
      ],
      "execution_count": 0,
      "outputs": [
        {
          "output_type": "stream",
          "text": [
            "RMSE training: 0.14815866526275728\n",
            "RMSE validation: 0.26443094804812994\n",
            "R^2 training: 0.9546204222388572\n",
            "R^2 validation: 0.8751258520040662\n",
            "OOB_SCORE: 0.8522568360237823\n"
          ],
          "name": "stdout"
        }
      ]
    },
    {
      "cell_type": "markdown",
      "metadata": {
        "id": "w8oNO2xVnTyd",
        "colab_type": "text"
      },
      "source": [
        "## **Interesting and useful errors**"
      ]
    },
    {
      "cell_type": "markdown",
      "metadata": {
        "id": "AmOW64OOnvCy",
        "colab_type": "text"
      },
      "source": [
        "### **Common important errors**\n",
        "\n",
        "There are 4 very important errors discussed in this lecture which are:\n",
        "\n",
        "\n",
        "*   RMSE\n",
        "*   RMSLE\n",
        "*   MSE\n",
        "*   R^2\n",
        "\n",
        "---\n",
        "\n",
        "**RMSE:**\n",
        "\n",
        "The RMSE or Root Mean Squared Error is calculated with the following formula:\n",
        "\n",
        "![](https://images.squarespace-cdn.com/content/v1/58c95854c534a56689231265/1531152039771-PI1ZAS4DSZCCUBST3KEK/ke17ZwdGBToddI8pDm48kC1MXajuusIgG2-0QRxSgZpZw-zPPgdn4jUwVcJE1ZvWhcwhEtWJXoshNdA9f1qD7dso8WS9HrXe-DDzLfr_qHmdYaYQTvCmLudhQgTG6nPRZVy99kA3NNj9L0tcpT6_qQ/Formula.PNG?format=750w)\n",
        "\n",
        "\n",
        "Where *fi* is the predicted value and *oi* is the real value.\n",
        "This means that this error is basically relative to your model and the predctions it's making with the real value. This error tends to 0 however this may mean that we are overfitting with out model.\n",
        "\n",
        "The behind meaning of this formula is the standard deviation of the prediction errors.\n",
        "\n",
        "https://towardsdatascience.com/what-does-rmse-really-mean-806b65f2e48e\n",
        "\n",
        "---\n",
        "\n",
        "**RMSLE:**\n",
        "\n",
        "The RMSE or Root Mean Squared **Log** Error is calculated with the following formula:\n",
        "![](https://encrypted-tbn0.gstatic.com/images?q=tbn%3AANd9GcR4Gx-0QNjApH2LIsAckIiuIbmpDanv4hYVWdWd6kzw1HI8WOIB)\n",
        "\n",
        "Which is exactly the same as the RMSE but with the logarithms of the prediciton and real values. It's important to notice that this is used to consider proportionality in the error and is commonly used for measuring error in things like income or money related stuff among others.\n",
        "\n",
        "---\n",
        "\n",
        "\n",
        "**MSE:**\n",
        "\n",
        "\n",
        "The MSE is essentialy the RMSE^2 hence it has the following formula:\n",
        "![](https://encrypted-tbn0.gstatic.com/images?q=tbn%3AANd9GcSGz-xPE-mJ_Po1kyJic4B-gqyjqk3OsM6hTqGk8rqSZarLlBhn)\n",
        "\n",
        "And essentialy as the RMSE is a very good estimation of the standar deviation of the distribution of the errors in our model this is the variance.\n",
        "\n",
        "---\n",
        "\n",
        "**R^2**\n",
        "\n",
        "The R^2 error is extremly important since this is a very good measuerement of our model against itself. *We can obtain it by doing model.score* and it has the following formula:\n",
        "\n",
        "![](https://st4.ning.com/topology/rest/1.0/file/get/2853465446?profile=RESIZE_710x)\n",
        "\n",
        "The range of this formula is [-oo, 1] and is essentially 1 - the division of the MSE over the Variance of the model. Notice that if we just make a crappy prediction of the mean of our observations then we will get 0 as out R^2, in the other hand if we overfit the model as much as we can so that the prediciton is alwas the same as the actual value we will be getting an r^2 of 1 which is essentilay an interpolation of our data *not great for predigting*\n",
        "\n",
        "\n",
        "\n"
      ]
    },
    {
      "cell_type": "markdown",
      "metadata": {
        "id": "vUfCk08JOpzo",
        "colab_type": "text"
      },
      "source": [
        "### **Test Sets**\n",
        "\n",
        "So in general a very important thing to note beforw entering the hyper parameters is that we need to have 3 sets for our models: the training, validation and test sets. We will use the training to train the model, the validation to modify the hyperparameters of the model an the test one just at the very end to test that our hyeperparameters aren't overfitting our validation set.\n",
        "\n",
        "\n",
        "Also an important thing to notice is that we should make our validation and tests sets according to what we are trying to predict. For instance if we want to predict the fututre sale prices of a company then we should use a validation and test set from the future of the training set.\n",
        "\n"
      ]
    }
  ]
}