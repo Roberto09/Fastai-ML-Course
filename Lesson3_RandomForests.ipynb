{
  "nbformat": 4,
  "nbformat_minor": 0,
  "metadata": {
    "colab": {
      "name": "Lesson3_RandomForests.ipynb",
      "provenance": [],
      "collapsed_sections": [
        "rxMwJ36ERwYJ",
        "gsKZTrGNCwcA",
        "AQYQlf_kDFGI",
        "3MeM2xNjfSyG",
        "rSunoLQ0hhkI",
        "F13u-B5dx767",
        "S8rNBHcgvdFz",
        "w8oNO2xVnTyd"
      ],
      "toc_visible": true
    },
    "kernelspec": {
      "name": "python3",
      "display_name": "Python 3"
    }
  },
  "cells": [
    {
      "cell_type": "markdown",
      "metadata": {
        "id": "oFp7Eg0xmwxO",
        "colab_type": "text"
      },
      "source": [
        "# **Lesson 3, getting insights to the data using models and a bit of advice on handling large ammounts of data**\n",
        "http://course18.fast.ai/lessonsml1/lesson3.html"
      ]
    },
    {
      "cell_type": "markdown",
      "metadata": {
        "id": "rxMwJ36ERwYJ",
        "colab_type": "text"
      },
      "source": [
        "## **Code from lesson 1 from Intrto Machine Learning from Fast AI:**"
      ]
    },
    {
      "cell_type": "code",
      "metadata": {
        "id": "-Yh6yw5hR7Dx",
        "colab_type": "code",
        "outputId": "9ec5c462-bd6e-468a-85b3-7d5625a2b33a",
        "colab": {
          "base_uri": "https://localhost:8080/",
          "height": 51
        }
      },
      "source": [
        "#You can edit source code from modules and they will update accordingly\n",
        "%load_ext autoreload\n",
        "%autoreload 2\n",
        "\n",
        "%matplotlib inline"
      ],
      "execution_count": 0,
      "outputs": [
        {
          "output_type": "stream",
          "text": [
            "The autoreload extension is already loaded. To reload it, use:\n",
            "  %reload_ext autoreload\n"
          ],
          "name": "stdout"
        }
      ]
    },
    {
      "cell_type": "code",
      "metadata": {
        "id": "Iai64FgenZUt",
        "colab_type": "code",
        "outputId": "14683913-d5ff-45f6-8ca0-0943cd7ccb1f",
        "colab": {
          "base_uri": "https://localhost:8080/",
          "height": 34
        }
      },
      "source": [
        "from google.colab import drive\n",
        "drive.mount('/content/gdrive')"
      ],
      "execution_count": 0,
      "outputs": [
        {
          "output_type": "stream",
          "text": [
            "Drive already mounted at /content/gdrive; to attempt to forcibly remount, call drive.mount(\"/content/gdrive\", force_remount=True).\n"
          ],
          "name": "stdout"
        }
      ]
    },
    {
      "cell_type": "code",
      "metadata": {
        "id": "kDAK4Q55SlHT",
        "colab_type": "code",
        "colab": {}
      },
      "source": [
        "#Needed imports\n",
        "import sys\n",
        "from fastai.imports import *\n",
        "from fastai.tabular import *\n",
        "\n",
        "sys.path.insert(0, '/content/gdrive/My Drive/Colab Notebooks/L1RF')\n",
        "from structured import *\n",
        "\n",
        "# pandas???\n",
        "from sklearn.ensemble import RandomForestRegressor\n",
        "from IPython.display import display\n",
        "\n",
        "from sklearn import metrics"
      ],
      "execution_count": 0,
      "outputs": []
    },
    {
      "cell_type": "code",
      "metadata": {
        "id": "STu_2HZlUT_Z",
        "colab_type": "code",
        "colab": {}
      },
      "source": [
        "PATH = 'gdrive/My\\ Drive/Colab\\ Notebooks/L1RF/data/'"
      ],
      "execution_count": 0,
      "outputs": []
    },
    {
      "cell_type": "code",
      "metadata": {
        "id": "tm-IC1vGWBrH",
        "colab_type": "code",
        "colab": {}
      },
      "source": [
        "# Parse and store the data using a panda funtion, passing the path and a list of all the date columns\n",
        "PATH = PATH.replace(\"\\\\\", \"\")\n",
        "data_raw = pd.read_csv(f'{PATH}Train.csv', low_memory=False, parse_dates=[\"saledate\"])"
      ],
      "execution_count": 0,
      "outputs": []
    },
    {
      "cell_type": "code",
      "metadata": {
        "id": "RIiutwutWerX",
        "colab_type": "code",
        "colab": {}
      },
      "source": [
        "#Simple display function\n",
        "def display_all(df):\n",
        "  with pd.option_context(\"display.max_rows\", 1000):\n",
        "    with pd.option_context(\"display.max_columns\", 1000):\n",
        "      display(df)"
      ],
      "execution_count": 0,
      "outputs": []
    },
    {
      "cell_type": "code",
      "metadata": {
        "id": "NZ8jgpDfXaI6",
        "colab_type": "code",
        "outputId": "3572003d-2c66-4925-810d-8c503fd237b1",
        "colab": {
          "base_uri": "https://localhost:8080/",
          "height": 394
        }
      },
      "source": [
        "display_all(data_raw.tail()) #displays the last few items from our table"
      ],
      "execution_count": 0,
      "outputs": [
        {
          "output_type": "display_data",
          "data": {
            "text/html": [
              "<div>\n",
              "<style scoped>\n",
              "    .dataframe tbody tr th:only-of-type {\n",
              "        vertical-align: middle;\n",
              "    }\n",
              "\n",
              "    .dataframe tbody tr th {\n",
              "        vertical-align: top;\n",
              "    }\n",
              "\n",
              "    .dataframe thead th {\n",
              "        text-align: right;\n",
              "    }\n",
              "</style>\n",
              "<table border=\"1\" class=\"dataframe\">\n",
              "  <thead>\n",
              "    <tr style=\"text-align: right;\">\n",
              "      <th></th>\n",
              "      <th>SalesID</th>\n",
              "      <th>SalePrice</th>\n",
              "      <th>MachineID</th>\n",
              "      <th>ModelID</th>\n",
              "      <th>datasource</th>\n",
              "      <th>auctioneerID</th>\n",
              "      <th>YearMade</th>\n",
              "      <th>MachineHoursCurrentMeter</th>\n",
              "      <th>UsageBand</th>\n",
              "      <th>saledate</th>\n",
              "      <th>fiModelDesc</th>\n",
              "      <th>fiBaseModel</th>\n",
              "      <th>fiSecondaryDesc</th>\n",
              "      <th>fiModelSeries</th>\n",
              "      <th>fiModelDescriptor</th>\n",
              "      <th>ProductSize</th>\n",
              "      <th>fiProductClassDesc</th>\n",
              "      <th>state</th>\n",
              "      <th>ProductGroup</th>\n",
              "      <th>ProductGroupDesc</th>\n",
              "      <th>Drive_System</th>\n",
              "      <th>Enclosure</th>\n",
              "      <th>Forks</th>\n",
              "      <th>Pad_Type</th>\n",
              "      <th>Ride_Control</th>\n",
              "      <th>Stick</th>\n",
              "      <th>Transmission</th>\n",
              "      <th>Turbocharged</th>\n",
              "      <th>Blade_Extension</th>\n",
              "      <th>Blade_Width</th>\n",
              "      <th>Enclosure_Type</th>\n",
              "      <th>Engine_Horsepower</th>\n",
              "      <th>Hydraulics</th>\n",
              "      <th>Pushblock</th>\n",
              "      <th>Ripper</th>\n",
              "      <th>Scarifier</th>\n",
              "      <th>Tip_Control</th>\n",
              "      <th>Tire_Size</th>\n",
              "      <th>Coupler</th>\n",
              "      <th>Coupler_System</th>\n",
              "      <th>Grouser_Tracks</th>\n",
              "      <th>Hydraulics_Flow</th>\n",
              "      <th>Track_Type</th>\n",
              "      <th>Undercarriage_Pad_Width</th>\n",
              "      <th>Stick_Length</th>\n",
              "      <th>Thumb</th>\n",
              "      <th>Pattern_Changer</th>\n",
              "      <th>Grouser_Type</th>\n",
              "      <th>Backhoe_Mounting</th>\n",
              "      <th>Blade_Type</th>\n",
              "      <th>Travel_Controls</th>\n",
              "      <th>Differential_Type</th>\n",
              "      <th>Steering_Controls</th>\n",
              "    </tr>\n",
              "  </thead>\n",
              "  <tbody>\n",
              "    <tr>\n",
              "      <th>401120</th>\n",
              "      <td>6333336</td>\n",
              "      <td>10500</td>\n",
              "      <td>1840702</td>\n",
              "      <td>21439</td>\n",
              "      <td>149</td>\n",
              "      <td>1.0</td>\n",
              "      <td>2005</td>\n",
              "      <td>NaN</td>\n",
              "      <td>NaN</td>\n",
              "      <td>2011-11-02</td>\n",
              "      <td>35NX2</td>\n",
              "      <td>35</td>\n",
              "      <td>NX</td>\n",
              "      <td>2</td>\n",
              "      <td>NaN</td>\n",
              "      <td>Mini</td>\n",
              "      <td>Hydraulic Excavator, Track - 3.0 to 4.0 Metric...</td>\n",
              "      <td>Maryland</td>\n",
              "      <td>TEX</td>\n",
              "      <td>Track Excavators</td>\n",
              "      <td>NaN</td>\n",
              "      <td>EROPS</td>\n",
              "      <td>NaN</td>\n",
              "      <td>NaN</td>\n",
              "      <td>NaN</td>\n",
              "      <td>NaN</td>\n",
              "      <td>NaN</td>\n",
              "      <td>NaN</td>\n",
              "      <td>NaN</td>\n",
              "      <td>NaN</td>\n",
              "      <td>NaN</td>\n",
              "      <td>NaN</td>\n",
              "      <td>Auxiliary</td>\n",
              "      <td>NaN</td>\n",
              "      <td>NaN</td>\n",
              "      <td>NaN</td>\n",
              "      <td>NaN</td>\n",
              "      <td>NaN</td>\n",
              "      <td>None or Unspecified</td>\n",
              "      <td>NaN</td>\n",
              "      <td>NaN</td>\n",
              "      <td>NaN</td>\n",
              "      <td>Steel</td>\n",
              "      <td>None or Unspecified</td>\n",
              "      <td>None or Unspecified</td>\n",
              "      <td>None or Unspecified</td>\n",
              "      <td>None or Unspecified</td>\n",
              "      <td>Double</td>\n",
              "      <td>NaN</td>\n",
              "      <td>NaN</td>\n",
              "      <td>NaN</td>\n",
              "      <td>NaN</td>\n",
              "      <td>NaN</td>\n",
              "    </tr>\n",
              "    <tr>\n",
              "      <th>401121</th>\n",
              "      <td>6333337</td>\n",
              "      <td>11000</td>\n",
              "      <td>1830472</td>\n",
              "      <td>21439</td>\n",
              "      <td>149</td>\n",
              "      <td>1.0</td>\n",
              "      <td>2005</td>\n",
              "      <td>NaN</td>\n",
              "      <td>NaN</td>\n",
              "      <td>2011-11-02</td>\n",
              "      <td>35NX2</td>\n",
              "      <td>35</td>\n",
              "      <td>NX</td>\n",
              "      <td>2</td>\n",
              "      <td>NaN</td>\n",
              "      <td>Mini</td>\n",
              "      <td>Hydraulic Excavator, Track - 3.0 to 4.0 Metric...</td>\n",
              "      <td>Maryland</td>\n",
              "      <td>TEX</td>\n",
              "      <td>Track Excavators</td>\n",
              "      <td>NaN</td>\n",
              "      <td>EROPS</td>\n",
              "      <td>NaN</td>\n",
              "      <td>NaN</td>\n",
              "      <td>NaN</td>\n",
              "      <td>NaN</td>\n",
              "      <td>NaN</td>\n",
              "      <td>NaN</td>\n",
              "      <td>NaN</td>\n",
              "      <td>NaN</td>\n",
              "      <td>NaN</td>\n",
              "      <td>NaN</td>\n",
              "      <td>Standard</td>\n",
              "      <td>NaN</td>\n",
              "      <td>NaN</td>\n",
              "      <td>NaN</td>\n",
              "      <td>NaN</td>\n",
              "      <td>NaN</td>\n",
              "      <td>None or Unspecified</td>\n",
              "      <td>NaN</td>\n",
              "      <td>NaN</td>\n",
              "      <td>NaN</td>\n",
              "      <td>Steel</td>\n",
              "      <td>None or Unspecified</td>\n",
              "      <td>None or Unspecified</td>\n",
              "      <td>None or Unspecified</td>\n",
              "      <td>None or Unspecified</td>\n",
              "      <td>Double</td>\n",
              "      <td>NaN</td>\n",
              "      <td>NaN</td>\n",
              "      <td>NaN</td>\n",
              "      <td>NaN</td>\n",
              "      <td>NaN</td>\n",
              "    </tr>\n",
              "    <tr>\n",
              "      <th>401122</th>\n",
              "      <td>6333338</td>\n",
              "      <td>11500</td>\n",
              "      <td>1887659</td>\n",
              "      <td>21439</td>\n",
              "      <td>149</td>\n",
              "      <td>1.0</td>\n",
              "      <td>2005</td>\n",
              "      <td>NaN</td>\n",
              "      <td>NaN</td>\n",
              "      <td>2011-11-02</td>\n",
              "      <td>35NX2</td>\n",
              "      <td>35</td>\n",
              "      <td>NX</td>\n",
              "      <td>2</td>\n",
              "      <td>NaN</td>\n",
              "      <td>Mini</td>\n",
              "      <td>Hydraulic Excavator, Track - 3.0 to 4.0 Metric...</td>\n",
              "      <td>Maryland</td>\n",
              "      <td>TEX</td>\n",
              "      <td>Track Excavators</td>\n",
              "      <td>NaN</td>\n",
              "      <td>EROPS</td>\n",
              "      <td>NaN</td>\n",
              "      <td>NaN</td>\n",
              "      <td>NaN</td>\n",
              "      <td>NaN</td>\n",
              "      <td>NaN</td>\n",
              "      <td>NaN</td>\n",
              "      <td>NaN</td>\n",
              "      <td>NaN</td>\n",
              "      <td>NaN</td>\n",
              "      <td>NaN</td>\n",
              "      <td>Auxiliary</td>\n",
              "      <td>NaN</td>\n",
              "      <td>NaN</td>\n",
              "      <td>NaN</td>\n",
              "      <td>NaN</td>\n",
              "      <td>NaN</td>\n",
              "      <td>None or Unspecified</td>\n",
              "      <td>NaN</td>\n",
              "      <td>NaN</td>\n",
              "      <td>NaN</td>\n",
              "      <td>Steel</td>\n",
              "      <td>None or Unspecified</td>\n",
              "      <td>None or Unspecified</td>\n",
              "      <td>None or Unspecified</td>\n",
              "      <td>None or Unspecified</td>\n",
              "      <td>Double</td>\n",
              "      <td>NaN</td>\n",
              "      <td>NaN</td>\n",
              "      <td>NaN</td>\n",
              "      <td>NaN</td>\n",
              "      <td>NaN</td>\n",
              "    </tr>\n",
              "    <tr>\n",
              "      <th>401123</th>\n",
              "      <td>6333341</td>\n",
              "      <td>9000</td>\n",
              "      <td>1903570</td>\n",
              "      <td>21435</td>\n",
              "      <td>149</td>\n",
              "      <td>2.0</td>\n",
              "      <td>2005</td>\n",
              "      <td>NaN</td>\n",
              "      <td>NaN</td>\n",
              "      <td>2011-10-25</td>\n",
              "      <td>30NX</td>\n",
              "      <td>30</td>\n",
              "      <td>NX</td>\n",
              "      <td>NaN</td>\n",
              "      <td>NaN</td>\n",
              "      <td>Mini</td>\n",
              "      <td>Hydraulic Excavator, Track - 2.0 to 3.0 Metric...</td>\n",
              "      <td>Florida</td>\n",
              "      <td>TEX</td>\n",
              "      <td>Track Excavators</td>\n",
              "      <td>NaN</td>\n",
              "      <td>EROPS</td>\n",
              "      <td>NaN</td>\n",
              "      <td>NaN</td>\n",
              "      <td>NaN</td>\n",
              "      <td>NaN</td>\n",
              "      <td>NaN</td>\n",
              "      <td>NaN</td>\n",
              "      <td>NaN</td>\n",
              "      <td>NaN</td>\n",
              "      <td>NaN</td>\n",
              "      <td>NaN</td>\n",
              "      <td>Standard</td>\n",
              "      <td>NaN</td>\n",
              "      <td>NaN</td>\n",
              "      <td>NaN</td>\n",
              "      <td>NaN</td>\n",
              "      <td>NaN</td>\n",
              "      <td>None or Unspecified</td>\n",
              "      <td>NaN</td>\n",
              "      <td>NaN</td>\n",
              "      <td>NaN</td>\n",
              "      <td>Steel</td>\n",
              "      <td>None or Unspecified</td>\n",
              "      <td>None or Unspecified</td>\n",
              "      <td>None or Unspecified</td>\n",
              "      <td>None or Unspecified</td>\n",
              "      <td>Double</td>\n",
              "      <td>NaN</td>\n",
              "      <td>NaN</td>\n",
              "      <td>NaN</td>\n",
              "      <td>NaN</td>\n",
              "      <td>NaN</td>\n",
              "    </tr>\n",
              "    <tr>\n",
              "      <th>401124</th>\n",
              "      <td>6333342</td>\n",
              "      <td>7750</td>\n",
              "      <td>1926965</td>\n",
              "      <td>21435</td>\n",
              "      <td>149</td>\n",
              "      <td>2.0</td>\n",
              "      <td>2005</td>\n",
              "      <td>NaN</td>\n",
              "      <td>NaN</td>\n",
              "      <td>2011-10-25</td>\n",
              "      <td>30NX</td>\n",
              "      <td>30</td>\n",
              "      <td>NX</td>\n",
              "      <td>NaN</td>\n",
              "      <td>NaN</td>\n",
              "      <td>Mini</td>\n",
              "      <td>Hydraulic Excavator, Track - 2.0 to 3.0 Metric...</td>\n",
              "      <td>Florida</td>\n",
              "      <td>TEX</td>\n",
              "      <td>Track Excavators</td>\n",
              "      <td>NaN</td>\n",
              "      <td>EROPS</td>\n",
              "      <td>NaN</td>\n",
              "      <td>NaN</td>\n",
              "      <td>NaN</td>\n",
              "      <td>NaN</td>\n",
              "      <td>NaN</td>\n",
              "      <td>NaN</td>\n",
              "      <td>NaN</td>\n",
              "      <td>NaN</td>\n",
              "      <td>NaN</td>\n",
              "      <td>NaN</td>\n",
              "      <td>Standard</td>\n",
              "      <td>NaN</td>\n",
              "      <td>NaN</td>\n",
              "      <td>NaN</td>\n",
              "      <td>NaN</td>\n",
              "      <td>NaN</td>\n",
              "      <td>None or Unspecified</td>\n",
              "      <td>NaN</td>\n",
              "      <td>NaN</td>\n",
              "      <td>NaN</td>\n",
              "      <td>Steel</td>\n",
              "      <td>None or Unspecified</td>\n",
              "      <td>None or Unspecified</td>\n",
              "      <td>None or Unspecified</td>\n",
              "      <td>None or Unspecified</td>\n",
              "      <td>Double</td>\n",
              "      <td>NaN</td>\n",
              "      <td>NaN</td>\n",
              "      <td>NaN</td>\n",
              "      <td>NaN</td>\n",
              "      <td>NaN</td>\n",
              "    </tr>\n",
              "  </tbody>\n",
              "</table>\n",
              "</div>"
            ],
            "text/plain": [
              "        SalesID  SalePrice  MachineID  ModelID  datasource  auctioneerID  \\\n",
              "401120  6333336      10500    1840702    21439         149           1.0   \n",
              "401121  6333337      11000    1830472    21439         149           1.0   \n",
              "401122  6333338      11500    1887659    21439         149           1.0   \n",
              "401123  6333341       9000    1903570    21435         149           2.0   \n",
              "401124  6333342       7750    1926965    21435         149           2.0   \n",
              "\n",
              "        YearMade  MachineHoursCurrentMeter UsageBand   saledate fiModelDesc  \\\n",
              "401120      2005                       NaN       NaN 2011-11-02       35NX2   \n",
              "401121      2005                       NaN       NaN 2011-11-02       35NX2   \n",
              "401122      2005                       NaN       NaN 2011-11-02       35NX2   \n",
              "401123      2005                       NaN       NaN 2011-10-25        30NX   \n",
              "401124      2005                       NaN       NaN 2011-10-25        30NX   \n",
              "\n",
              "       fiBaseModel fiSecondaryDesc fiModelSeries fiModelDescriptor  \\\n",
              "401120          35              NX             2               NaN   \n",
              "401121          35              NX             2               NaN   \n",
              "401122          35              NX             2               NaN   \n",
              "401123          30              NX           NaN               NaN   \n",
              "401124          30              NX           NaN               NaN   \n",
              "\n",
              "       ProductSize                                 fiProductClassDesc  \\\n",
              "401120        Mini  Hydraulic Excavator, Track - 3.0 to 4.0 Metric...   \n",
              "401121        Mini  Hydraulic Excavator, Track - 3.0 to 4.0 Metric...   \n",
              "401122        Mini  Hydraulic Excavator, Track - 3.0 to 4.0 Metric...   \n",
              "401123        Mini  Hydraulic Excavator, Track - 2.0 to 3.0 Metric...   \n",
              "401124        Mini  Hydraulic Excavator, Track - 2.0 to 3.0 Metric...   \n",
              "\n",
              "           state ProductGroup  ProductGroupDesc Drive_System Enclosure Forks  \\\n",
              "401120  Maryland          TEX  Track Excavators          NaN     EROPS   NaN   \n",
              "401121  Maryland          TEX  Track Excavators          NaN     EROPS   NaN   \n",
              "401122  Maryland          TEX  Track Excavators          NaN     EROPS   NaN   \n",
              "401123   Florida          TEX  Track Excavators          NaN     EROPS   NaN   \n",
              "401124   Florida          TEX  Track Excavators          NaN     EROPS   NaN   \n",
              "\n",
              "       Pad_Type Ride_Control Stick Transmission Turbocharged Blade_Extension  \\\n",
              "401120      NaN          NaN   NaN          NaN          NaN             NaN   \n",
              "401121      NaN          NaN   NaN          NaN          NaN             NaN   \n",
              "401122      NaN          NaN   NaN          NaN          NaN             NaN   \n",
              "401123      NaN          NaN   NaN          NaN          NaN             NaN   \n",
              "401124      NaN          NaN   NaN          NaN          NaN             NaN   \n",
              "\n",
              "       Blade_Width Enclosure_Type Engine_Horsepower Hydraulics Pushblock  \\\n",
              "401120         NaN            NaN               NaN  Auxiliary       NaN   \n",
              "401121         NaN            NaN               NaN   Standard       NaN   \n",
              "401122         NaN            NaN               NaN  Auxiliary       NaN   \n",
              "401123         NaN            NaN               NaN   Standard       NaN   \n",
              "401124         NaN            NaN               NaN   Standard       NaN   \n",
              "\n",
              "       Ripper Scarifier Tip_Control Tire_Size              Coupler  \\\n",
              "401120    NaN       NaN         NaN       NaN  None or Unspecified   \n",
              "401121    NaN       NaN         NaN       NaN  None or Unspecified   \n",
              "401122    NaN       NaN         NaN       NaN  None or Unspecified   \n",
              "401123    NaN       NaN         NaN       NaN  None or Unspecified   \n",
              "401124    NaN       NaN         NaN       NaN  None or Unspecified   \n",
              "\n",
              "       Coupler_System Grouser_Tracks Hydraulics_Flow Track_Type  \\\n",
              "401120            NaN            NaN             NaN      Steel   \n",
              "401121            NaN            NaN             NaN      Steel   \n",
              "401122            NaN            NaN             NaN      Steel   \n",
              "401123            NaN            NaN             NaN      Steel   \n",
              "401124            NaN            NaN             NaN      Steel   \n",
              "\n",
              "       Undercarriage_Pad_Width         Stick_Length                Thumb  \\\n",
              "401120     None or Unspecified  None or Unspecified  None or Unspecified   \n",
              "401121     None or Unspecified  None or Unspecified  None or Unspecified   \n",
              "401122     None or Unspecified  None or Unspecified  None or Unspecified   \n",
              "401123     None or Unspecified  None or Unspecified  None or Unspecified   \n",
              "401124     None or Unspecified  None or Unspecified  None or Unspecified   \n",
              "\n",
              "            Pattern_Changer Grouser_Type Backhoe_Mounting Blade_Type  \\\n",
              "401120  None or Unspecified       Double              NaN        NaN   \n",
              "401121  None or Unspecified       Double              NaN        NaN   \n",
              "401122  None or Unspecified       Double              NaN        NaN   \n",
              "401123  None or Unspecified       Double              NaN        NaN   \n",
              "401124  None or Unspecified       Double              NaN        NaN   \n",
              "\n",
              "       Travel_Controls Differential_Type Steering_Controls  \n",
              "401120             NaN               NaN               NaN  \n",
              "401121             NaN               NaN               NaN  \n",
              "401122             NaN               NaN               NaN  \n",
              "401123             NaN               NaN               NaN  \n",
              "401124             NaN               NaN               NaN  "
            ]
          },
          "metadata": {
            "tags": []
          }
        }
      ]
    },
    {
      "cell_type": "markdown",
      "metadata": {
        "id": "PdpdlxzBZB5h",
        "colab_type": "text"
      },
      "source": [
        "Since we want to predict the price the column that matters the most to us is 'SalePrice'\n",
        "This is called our dependent variable\n",
        "\n",
        "Here the evaluation is evaluated on the **root mean squared log error** which means they will look at the difference between the log of the prediction of the price and the log of the actual price of the test set, they'll square that and add it up.\n",
        "https://medium.com/analytics-vidhya/root-mean-square-log-error-rmse-vs-rmlse-935c6cc1802a\n",
        "\n",
        "This is a very good measuement for prices since the error is meassured relative to the quantity due to logarithm properties."
      ]
    },
    {
      "cell_type": "code",
      "metadata": {
        "id": "_g7PLicTYAJ8",
        "colab_type": "code",
        "outputId": "7af3b15f-3357-445b-d83e-2fb5f35e9a1c",
        "colab": {
          "base_uri": "https://localhost:8080/",
          "height": 221
        }
      },
      "source": [
        "display(data_raw.SalePrice)"
      ],
      "execution_count": 0,
      "outputs": [
        {
          "output_type": "display_data",
          "data": {
            "text/plain": [
              "0         66000\n",
              "1         57000\n",
              "2         10000\n",
              "3         38500\n",
              "4         11000\n",
              "          ...  \n",
              "401120    10500\n",
              "401121    11000\n",
              "401122    11500\n",
              "401123     9000\n",
              "401124     7750\n",
              "Name: SalePrice, Length: 401125, dtype: int64"
            ]
          },
          "metadata": {
            "tags": []
          }
        }
      ]
    },
    {
      "cell_type": "code",
      "metadata": {
        "id": "QPTT_SX2bHFd",
        "colab_type": "code",
        "outputId": "18f217ea-fc82-4acb-a861-1c9851684a22",
        "colab": {
          "base_uri": "https://localhost:8080/",
          "height": 221
        }
      },
      "source": [
        "#since we are very interested in the logarithm of the data then we convert this price row to its logarithm using numpy\n",
        "data_raw.SalePrice = np.log(data_raw.SalePrice)\n",
        "display(data_raw.SalePrice)"
      ],
      "execution_count": 0,
      "outputs": [
        {
          "output_type": "display_data",
          "data": {
            "text/plain": [
              "0         11.097410\n",
              "1         10.950807\n",
              "2          9.210340\n",
              "3         10.558414\n",
              "4          9.305651\n",
              "            ...    \n",
              "401120     9.259131\n",
              "401121     9.305651\n",
              "401122     9.350102\n",
              "401123     9.104980\n",
              "401124     8.955448\n",
              "Name: SalePrice, Length: 401125, dtype: float64"
            ]
          },
          "metadata": {
            "tags": []
          }
        }
      ]
    },
    {
      "cell_type": "markdown",
      "metadata": {
        "id": "M-_Bny4ybsgx",
        "colab_type": "text"
      },
      "source": [
        "**Lest create a Random Forest!!!**\n",
        "\n",
        "A **Random Forest** is a kind of universal ML technique. It can predict categorical(discrete) or continious varioables (this is our case). In general it doesn't overfit and something cool is that it can tell you how well it generalizes without a validation set (test set). It has few if any statistical assumptions which is cool cause it's not very biased.\n",
        "\n",
        "Another important thing is that there are two predictor types:\n",
        "* Continious : Regressor **we are using this one**\n",
        "* Categorical : Classifier"
      ]
    },
    {
      "cell_type": "code",
      "metadata": {
        "id": "srtyMpP0bG13",
        "colab_type": "code",
        "colab": {}
      },
      "source": [
        "#This data set contains categorical and continious variabels and our model only likes numbers\n",
        "#Hence we have to change our data frame to use numbers\n",
        "\n",
        "#First thing to change is the dates.\n",
        "#For dates we can add more columns to our data since some stuff may add more meaning to our dependent variable\n",
        "#This will be categorical values represented as numbers about certain date facts that may be useful (also, it removes the original column)\n",
        "\n",
        "add_datepart(data_raw, 'saledate')"
      ],
      "execution_count": 0,
      "outputs": []
    },
    {
      "cell_type": "code",
      "metadata": {
        "id": "rqlga97TgcB1",
        "colab_type": "code",
        "outputId": "c7c601ea-e23a-4614-cf0b-521caa01995e",
        "colab": {
          "base_uri": "https://localhost:8080/",
          "height": 323
        }
      },
      "source": [
        "data_raw.columns #prints the colums of our data frame"
      ],
      "execution_count": 0,
      "outputs": [
        {
          "output_type": "execute_result",
          "data": {
            "text/plain": [
              "Index(['SalesID', 'SalePrice', 'MachineID', 'ModelID', 'datasource',\n",
              "       'auctioneerID', 'YearMade', 'MachineHoursCurrentMeter', 'UsageBand',\n",
              "       'fiModelDesc', 'fiBaseModel', 'fiSecondaryDesc', 'fiModelSeries',\n",
              "       'fiModelDescriptor', 'ProductSize', 'fiProductClassDesc', 'state',\n",
              "       'ProductGroup', 'ProductGroupDesc', 'Drive_System', 'Enclosure',\n",
              "       'Forks', 'Pad_Type', 'Ride_Control', 'Stick', 'Transmission',\n",
              "       'Turbocharged', 'Blade_Extension', 'Blade_Width', 'Enclosure_Type',\n",
              "       'Engine_Horsepower', 'Hydraulics', 'Pushblock', 'Ripper', 'Scarifier',\n",
              "       'Tip_Control', 'Tire_Size', 'Coupler', 'Coupler_System',\n",
              "       'Grouser_Tracks', 'Hydraulics_Flow', 'Track_Type',\n",
              "       'Undercarriage_Pad_Width', 'Stick_Length', 'Thumb', 'Pattern_Changer',\n",
              "       'Grouser_Type', 'Backhoe_Mounting', 'Blade_Type', 'Travel_Controls',\n",
              "       'Differential_Type', 'Steering_Controls', 'saleYear', 'saleMonth',\n",
              "       'saleWeek', 'saleDay', 'saleDayofweek', 'saleDayofyear',\n",
              "       'saleIs_month_end', 'saleIs_month_start', 'saleIs_quarter_end',\n",
              "       'saleIs_quarter_start', 'saleIs_year_end', 'saleIs_year_start',\n",
              "       'saleElapsed'],\n",
              "      dtype='object')"
            ]
          },
          "metadata": {
            "tags": []
          },
          "execution_count": 13
        }
      ]
    },
    {
      "cell_type": "code",
      "metadata": {
        "id": "42ryhyZDgnaN",
        "colab_type": "code",
        "colab": {}
      },
      "source": [
        "#We create a categorical value for everything that's a string (after changing the dates)\n",
        "#train_cats maps converts strings to categorical variables for all columns\n",
        "train_cats(data_raw)"
      ],
      "execution_count": 0,
      "outputs": []
    },
    {
      "cell_type": "code",
      "metadata": {
        "id": "AoleEYCX1Mce",
        "colab_type": "code",
        "colab": {}
      },
      "source": [
        "#For this column we should reorder this categorie from h l m to h m l this is due to the decision\n",
        "#tree formed by the random forest, also -1 are NA in the codes (we'll add one to normalize this)\n",
        "data_raw.UsageBand.cat.categories\n",
        "data_raw.UsageBand.cat.codes\n",
        "\n",
        "data_raw.UsageBand.cat.set_categories(['High', 'Medium', 'Low'], ordered=True, inplace=True)"
      ],
      "execution_count": 0,
      "outputs": []
    },
    {
      "cell_type": "code",
      "metadata": {
        "id": "N1WOpUfu4f_b",
        "colab_type": "code",
        "outputId": "6489dd99-6575-4b6d-be0f-dfb62feb90df",
        "colab": {
          "base_uri": "https://localhost:8080/",
          "height": 1000
        }
      },
      "source": [
        "#This function displays the percentage of null values in the dataset\n",
        "display_all(data_raw.isnull().sum().sort_index()/len(data_raw))"
      ],
      "execution_count": 0,
      "outputs": [
        {
          "output_type": "display_data",
          "data": {
            "text/plain": [
              "Backhoe_Mounting            0.803872\n",
              "Blade_Extension             0.937129\n",
              "Blade_Type                  0.800977\n",
              "Blade_Width                 0.937129\n",
              "Coupler                     0.466620\n",
              "Coupler_System              0.891660\n",
              "Differential_Type           0.826959\n",
              "Drive_System                0.739829\n",
              "Enclosure                   0.000810\n",
              "Enclosure_Type              0.937129\n",
              "Engine_Horsepower           0.937129\n",
              "Forks                       0.521154\n",
              "Grouser_Tracks              0.891899\n",
              "Grouser_Type                0.752813\n",
              "Hydraulics                  0.200823\n",
              "Hydraulics_Flow             0.891899\n",
              "MachineHoursCurrentMeter    0.644089\n",
              "MachineID                   0.000000\n",
              "ModelID                     0.000000\n",
              "Pad_Type                    0.802720\n",
              "Pattern_Changer             0.752651\n",
              "ProductGroup                0.000000\n",
              "ProductGroupDesc            0.000000\n",
              "ProductSize                 0.525460\n",
              "Pushblock                   0.937129\n",
              "Ride_Control                0.629527\n",
              "Ripper                      0.740388\n",
              "SalePrice                   0.000000\n",
              "SalesID                     0.000000\n",
              "Scarifier                   0.937102\n",
              "Steering_Controls           0.827064\n",
              "Stick                       0.802720\n",
              "Stick_Length                0.752651\n",
              "Thumb                       0.752476\n",
              "Tip_Control                 0.937129\n",
              "Tire_Size                   0.763869\n",
              "Track_Type                  0.752813\n",
              "Transmission                0.543210\n",
              "Travel_Controls             0.800975\n",
              "Turbocharged                0.802720\n",
              "Undercarriage_Pad_Width     0.751020\n",
              "UsageBand                   0.826391\n",
              "YearMade                    0.000000\n",
              "auctioneerID                0.050199\n",
              "datasource                  0.000000\n",
              "fiBaseModel                 0.000000\n",
              "fiModelDesc                 0.000000\n",
              "fiModelDescriptor           0.820707\n",
              "fiModelSeries               0.858129\n",
              "fiProductClassDesc          0.000000\n",
              "fiSecondaryDesc             0.342016\n",
              "saleDay                     0.000000\n",
              "saleDayofweek               0.000000\n",
              "saleDayofyear               0.000000\n",
              "saleElapsed                 0.000000\n",
              "saleIs_month_end            0.000000\n",
              "saleIs_month_start          0.000000\n",
              "saleIs_quarter_end          0.000000\n",
              "saleIs_quarter_start        0.000000\n",
              "saleIs_year_end             0.000000\n",
              "saleIs_year_start           0.000000\n",
              "saleMonth                   0.000000\n",
              "saleWeek                    0.000000\n",
              "saleYear                    0.000000\n",
              "state                       0.000000\n",
              "dtype: float64"
            ]
          },
          "metadata": {
            "tags": []
          }
        }
      ]
    },
    {
      "cell_type": "code",
      "metadata": {
        "id": "nQDCzkmI5C76",
        "colab_type": "code",
        "colab": {}
      },
      "source": [
        "#We can save the current table to disk with the follwing lines (it's stored efficently as the ram stores it)\n",
        "os.makedirs('tmp', exist_ok=True)\n",
        "data_raw.to_feather('tmp/raw')\n",
        "#We can now just read our data from there\n",
        "data_raw = pd.read_feather('tmp/raw')"
      ],
      "execution_count": 0,
      "outputs": []
    },
    {
      "cell_type": "code",
      "metadata": {
        "id": "LbZU1REe5yVC",
        "colab_type": "code",
        "colab": {}
      },
      "source": [
        "#Lest now normalize the whole table\n",
        "#This will basically first create a new column for all the columns which contain at least\n",
        "#one NA and then set to 1 or 0. Then for every NA it will set the median.\n",
        "\n",
        "#For the categories it will just add 1 and change it to it code(numerical) value we created in the past.\n",
        "\n",
        "df, y, nas = proc_df(data_raw, 'SalePrice')"
      ],
      "execution_count": 0,
      "outputs": []
    },
    {
      "cell_type": "code",
      "metadata": {
        "id": "HqURTo5n7wq4",
        "colab_type": "code",
        "outputId": "df85cad1-6e29-490c-b604-360c5b40f2c1",
        "colab": {
          "base_uri": "https://localhost:8080/",
          "height": 323
        }
      },
      "source": [
        "#SalePrice column is no longer there\n",
        "df.columns"
      ],
      "execution_count": 0,
      "outputs": [
        {
          "output_type": "execute_result",
          "data": {
            "text/plain": [
              "Index(['SalesID', 'MachineID', 'ModelID', 'datasource', 'auctioneerID',\n",
              "       'YearMade', 'MachineHoursCurrentMeter', 'UsageBand', 'fiModelDesc',\n",
              "       'fiBaseModel', 'fiSecondaryDesc', 'fiModelSeries', 'fiModelDescriptor',\n",
              "       'ProductSize', 'fiProductClassDesc', 'state', 'ProductGroup',\n",
              "       'ProductGroupDesc', 'Drive_System', 'Enclosure', 'Forks', 'Pad_Type',\n",
              "       'Ride_Control', 'Stick', 'Transmission', 'Turbocharged',\n",
              "       'Blade_Extension', 'Blade_Width', 'Enclosure_Type', 'Engine_Horsepower',\n",
              "       'Hydraulics', 'Pushblock', 'Ripper', 'Scarifier', 'Tip_Control',\n",
              "       'Tire_Size', 'Coupler', 'Coupler_System', 'Grouser_Tracks',\n",
              "       'Hydraulics_Flow', 'Track_Type', 'Undercarriage_Pad_Width',\n",
              "       'Stick_Length', 'Thumb', 'Pattern_Changer', 'Grouser_Type',\n",
              "       'Backhoe_Mounting', 'Blade_Type', 'Travel_Controls',\n",
              "       'Differential_Type', 'Steering_Controls', 'saleYear', 'saleMonth',\n",
              "       'saleWeek', 'saleDay', 'saleDayofweek', 'saleDayofyear',\n",
              "       'saleIs_month_end', 'saleIs_month_start', 'saleIs_quarter_end',\n",
              "       'saleIs_quarter_start', 'saleIs_year_end', 'saleIs_year_start',\n",
              "       'saleElapsed', 'auctioneerID_na', 'MachineHoursCurrentMeter_na'],\n",
              "      dtype='object')"
            ]
          },
          "metadata": {
            "tags": []
          },
          "execution_count": 19
        }
      ]
    },
    {
      "cell_type": "code",
      "metadata": {
        "id": "2bI_P9y392ND",
        "colab_type": "code",
        "outputId": "47fcf56e-dd87-47bc-a357-5ac424e6cff0",
        "colab": {
          "base_uri": "https://localhost:8080/",
          "height": 224
        }
      },
      "source": [
        "#Everything is a number now\n",
        "#Note we are not removing Ids as dimensions for our model, this is since Random Forests dont\n",
        "#React significantly regarding that kind of stuff\n",
        "df.head()"
      ],
      "execution_count": 0,
      "outputs": [
        {
          "output_type": "execute_result",
          "data": {
            "text/html": [
              "<div>\n",
              "<style scoped>\n",
              "    .dataframe tbody tr th:only-of-type {\n",
              "        vertical-align: middle;\n",
              "    }\n",
              "\n",
              "    .dataframe tbody tr th {\n",
              "        vertical-align: top;\n",
              "    }\n",
              "\n",
              "    .dataframe thead th {\n",
              "        text-align: right;\n",
              "    }\n",
              "</style>\n",
              "<table border=\"1\" class=\"dataframe\">\n",
              "  <thead>\n",
              "    <tr style=\"text-align: right;\">\n",
              "      <th></th>\n",
              "      <th>SalesID</th>\n",
              "      <th>MachineID</th>\n",
              "      <th>ModelID</th>\n",
              "      <th>datasource</th>\n",
              "      <th>auctioneerID</th>\n",
              "      <th>YearMade</th>\n",
              "      <th>MachineHoursCurrentMeter</th>\n",
              "      <th>UsageBand</th>\n",
              "      <th>fiModelDesc</th>\n",
              "      <th>fiBaseModel</th>\n",
              "      <th>fiSecondaryDesc</th>\n",
              "      <th>fiModelSeries</th>\n",
              "      <th>fiModelDescriptor</th>\n",
              "      <th>ProductSize</th>\n",
              "      <th>fiProductClassDesc</th>\n",
              "      <th>state</th>\n",
              "      <th>ProductGroup</th>\n",
              "      <th>ProductGroupDesc</th>\n",
              "      <th>Drive_System</th>\n",
              "      <th>Enclosure</th>\n",
              "      <th>Forks</th>\n",
              "      <th>Pad_Type</th>\n",
              "      <th>Ride_Control</th>\n",
              "      <th>Stick</th>\n",
              "      <th>Transmission</th>\n",
              "      <th>Turbocharged</th>\n",
              "      <th>Blade_Extension</th>\n",
              "      <th>Blade_Width</th>\n",
              "      <th>Enclosure_Type</th>\n",
              "      <th>Engine_Horsepower</th>\n",
              "      <th>Hydraulics</th>\n",
              "      <th>Pushblock</th>\n",
              "      <th>Ripper</th>\n",
              "      <th>Scarifier</th>\n",
              "      <th>Tip_Control</th>\n",
              "      <th>Tire_Size</th>\n",
              "      <th>Coupler</th>\n",
              "      <th>Coupler_System</th>\n",
              "      <th>Grouser_Tracks</th>\n",
              "      <th>Hydraulics_Flow</th>\n",
              "      <th>Track_Type</th>\n",
              "      <th>Undercarriage_Pad_Width</th>\n",
              "      <th>Stick_Length</th>\n",
              "      <th>Thumb</th>\n",
              "      <th>Pattern_Changer</th>\n",
              "      <th>Grouser_Type</th>\n",
              "      <th>Backhoe_Mounting</th>\n",
              "      <th>Blade_Type</th>\n",
              "      <th>Travel_Controls</th>\n",
              "      <th>Differential_Type</th>\n",
              "      <th>Steering_Controls</th>\n",
              "      <th>saleYear</th>\n",
              "      <th>saleMonth</th>\n",
              "      <th>saleWeek</th>\n",
              "      <th>saleDay</th>\n",
              "      <th>saleDayofweek</th>\n",
              "      <th>saleDayofyear</th>\n",
              "      <th>saleIs_month_end</th>\n",
              "      <th>saleIs_month_start</th>\n",
              "      <th>saleIs_quarter_end</th>\n",
              "      <th>saleIs_quarter_start</th>\n",
              "      <th>saleIs_year_end</th>\n",
              "      <th>saleIs_year_start</th>\n",
              "      <th>saleElapsed</th>\n",
              "      <th>auctioneerID_na</th>\n",
              "      <th>MachineHoursCurrentMeter_na</th>\n",
              "    </tr>\n",
              "  </thead>\n",
              "  <tbody>\n",
              "    <tr>\n",
              "      <th>0</th>\n",
              "      <td>1139246</td>\n",
              "      <td>999089</td>\n",
              "      <td>3157</td>\n",
              "      <td>121</td>\n",
              "      <td>3.0</td>\n",
              "      <td>2004</td>\n",
              "      <td>68.0</td>\n",
              "      <td>3</td>\n",
              "      <td>950</td>\n",
              "      <td>296</td>\n",
              "      <td>41</td>\n",
              "      <td>0</td>\n",
              "      <td>0</td>\n",
              "      <td>0</td>\n",
              "      <td>59</td>\n",
              "      <td>1</td>\n",
              "      <td>6</td>\n",
              "      <td>6</td>\n",
              "      <td>0</td>\n",
              "      <td>3</td>\n",
              "      <td>1</td>\n",
              "      <td>0</td>\n",
              "      <td>2</td>\n",
              "      <td>0</td>\n",
              "      <td>0</td>\n",
              "      <td>0</td>\n",
              "      <td>0</td>\n",
              "      <td>0</td>\n",
              "      <td>0</td>\n",
              "      <td>0</td>\n",
              "      <td>1</td>\n",
              "      <td>0</td>\n",
              "      <td>0</td>\n",
              "      <td>0</td>\n",
              "      <td>0</td>\n",
              "      <td>17</td>\n",
              "      <td>3</td>\n",
              "      <td>0</td>\n",
              "      <td>0</td>\n",
              "      <td>0</td>\n",
              "      <td>0</td>\n",
              "      <td>0</td>\n",
              "      <td>0</td>\n",
              "      <td>0</td>\n",
              "      <td>0</td>\n",
              "      <td>0</td>\n",
              "      <td>0</td>\n",
              "      <td>0</td>\n",
              "      <td>0</td>\n",
              "      <td>4</td>\n",
              "      <td>2</td>\n",
              "      <td>2006</td>\n",
              "      <td>11</td>\n",
              "      <td>46</td>\n",
              "      <td>16</td>\n",
              "      <td>3</td>\n",
              "      <td>320</td>\n",
              "      <td>False</td>\n",
              "      <td>False</td>\n",
              "      <td>False</td>\n",
              "      <td>False</td>\n",
              "      <td>False</td>\n",
              "      <td>False</td>\n",
              "      <td>1163635200</td>\n",
              "      <td>False</td>\n",
              "      <td>False</td>\n",
              "    </tr>\n",
              "    <tr>\n",
              "      <th>1</th>\n",
              "      <td>1139248</td>\n",
              "      <td>117657</td>\n",
              "      <td>77</td>\n",
              "      <td>121</td>\n",
              "      <td>3.0</td>\n",
              "      <td>1996</td>\n",
              "      <td>4640.0</td>\n",
              "      <td>3</td>\n",
              "      <td>1725</td>\n",
              "      <td>527</td>\n",
              "      <td>55</td>\n",
              "      <td>98</td>\n",
              "      <td>0</td>\n",
              "      <td>4</td>\n",
              "      <td>62</td>\n",
              "      <td>33</td>\n",
              "      <td>6</td>\n",
              "      <td>6</td>\n",
              "      <td>0</td>\n",
              "      <td>3</td>\n",
              "      <td>1</td>\n",
              "      <td>0</td>\n",
              "      <td>2</td>\n",
              "      <td>0</td>\n",
              "      <td>0</td>\n",
              "      <td>0</td>\n",
              "      <td>0</td>\n",
              "      <td>0</td>\n",
              "      <td>0</td>\n",
              "      <td>0</td>\n",
              "      <td>1</td>\n",
              "      <td>0</td>\n",
              "      <td>0</td>\n",
              "      <td>0</td>\n",
              "      <td>0</td>\n",
              "      <td>12</td>\n",
              "      <td>3</td>\n",
              "      <td>0</td>\n",
              "      <td>0</td>\n",
              "      <td>0</td>\n",
              "      <td>0</td>\n",
              "      <td>0</td>\n",
              "      <td>0</td>\n",
              "      <td>0</td>\n",
              "      <td>0</td>\n",
              "      <td>0</td>\n",
              "      <td>0</td>\n",
              "      <td>0</td>\n",
              "      <td>0</td>\n",
              "      <td>4</td>\n",
              "      <td>2</td>\n",
              "      <td>2004</td>\n",
              "      <td>3</td>\n",
              "      <td>13</td>\n",
              "      <td>26</td>\n",
              "      <td>4</td>\n",
              "      <td>86</td>\n",
              "      <td>False</td>\n",
              "      <td>False</td>\n",
              "      <td>False</td>\n",
              "      <td>False</td>\n",
              "      <td>False</td>\n",
              "      <td>False</td>\n",
              "      <td>1080259200</td>\n",
              "      <td>False</td>\n",
              "      <td>False</td>\n",
              "    </tr>\n",
              "    <tr>\n",
              "      <th>2</th>\n",
              "      <td>1139249</td>\n",
              "      <td>434808</td>\n",
              "      <td>7009</td>\n",
              "      <td>121</td>\n",
              "      <td>3.0</td>\n",
              "      <td>2001</td>\n",
              "      <td>2838.0</td>\n",
              "      <td>1</td>\n",
              "      <td>331</td>\n",
              "      <td>110</td>\n",
              "      <td>0</td>\n",
              "      <td>0</td>\n",
              "      <td>0</td>\n",
              "      <td>0</td>\n",
              "      <td>39</td>\n",
              "      <td>32</td>\n",
              "      <td>3</td>\n",
              "      <td>3</td>\n",
              "      <td>0</td>\n",
              "      <td>6</td>\n",
              "      <td>1</td>\n",
              "      <td>0</td>\n",
              "      <td>0</td>\n",
              "      <td>0</td>\n",
              "      <td>0</td>\n",
              "      <td>0</td>\n",
              "      <td>0</td>\n",
              "      <td>0</td>\n",
              "      <td>0</td>\n",
              "      <td>0</td>\n",
              "      <td>4</td>\n",
              "      <td>0</td>\n",
              "      <td>0</td>\n",
              "      <td>0</td>\n",
              "      <td>0</td>\n",
              "      <td>0</td>\n",
              "      <td>3</td>\n",
              "      <td>1</td>\n",
              "      <td>1</td>\n",
              "      <td>3</td>\n",
              "      <td>0</td>\n",
              "      <td>0</td>\n",
              "      <td>0</td>\n",
              "      <td>0</td>\n",
              "      <td>0</td>\n",
              "      <td>0</td>\n",
              "      <td>0</td>\n",
              "      <td>0</td>\n",
              "      <td>0</td>\n",
              "      <td>0</td>\n",
              "      <td>0</td>\n",
              "      <td>2004</td>\n",
              "      <td>2</td>\n",
              "      <td>9</td>\n",
              "      <td>26</td>\n",
              "      <td>3</td>\n",
              "      <td>57</td>\n",
              "      <td>False</td>\n",
              "      <td>False</td>\n",
              "      <td>False</td>\n",
              "      <td>False</td>\n",
              "      <td>False</td>\n",
              "      <td>False</td>\n",
              "      <td>1077753600</td>\n",
              "      <td>False</td>\n",
              "      <td>False</td>\n",
              "    </tr>\n",
              "    <tr>\n",
              "      <th>3</th>\n",
              "      <td>1139251</td>\n",
              "      <td>1026470</td>\n",
              "      <td>332</td>\n",
              "      <td>121</td>\n",
              "      <td>3.0</td>\n",
              "      <td>2001</td>\n",
              "      <td>3486.0</td>\n",
              "      <td>1</td>\n",
              "      <td>3674</td>\n",
              "      <td>1375</td>\n",
              "      <td>0</td>\n",
              "      <td>45</td>\n",
              "      <td>0</td>\n",
              "      <td>6</td>\n",
              "      <td>8</td>\n",
              "      <td>44</td>\n",
              "      <td>4</td>\n",
              "      <td>4</td>\n",
              "      <td>0</td>\n",
              "      <td>3</td>\n",
              "      <td>0</td>\n",
              "      <td>0</td>\n",
              "      <td>0</td>\n",
              "      <td>0</td>\n",
              "      <td>0</td>\n",
              "      <td>0</td>\n",
              "      <td>0</td>\n",
              "      <td>0</td>\n",
              "      <td>0</td>\n",
              "      <td>0</td>\n",
              "      <td>1</td>\n",
              "      <td>0</td>\n",
              "      <td>0</td>\n",
              "      <td>0</td>\n",
              "      <td>0</td>\n",
              "      <td>0</td>\n",
              "      <td>3</td>\n",
              "      <td>0</td>\n",
              "      <td>0</td>\n",
              "      <td>0</td>\n",
              "      <td>0</td>\n",
              "      <td>0</td>\n",
              "      <td>0</td>\n",
              "      <td>0</td>\n",
              "      <td>0</td>\n",
              "      <td>0</td>\n",
              "      <td>0</td>\n",
              "      <td>0</td>\n",
              "      <td>0</td>\n",
              "      <td>0</td>\n",
              "      <td>0</td>\n",
              "      <td>2011</td>\n",
              "      <td>5</td>\n",
              "      <td>20</td>\n",
              "      <td>19</td>\n",
              "      <td>3</td>\n",
              "      <td>139</td>\n",
              "      <td>False</td>\n",
              "      <td>False</td>\n",
              "      <td>False</td>\n",
              "      <td>False</td>\n",
              "      <td>False</td>\n",
              "      <td>False</td>\n",
              "      <td>1305763200</td>\n",
              "      <td>False</td>\n",
              "      <td>False</td>\n",
              "    </tr>\n",
              "    <tr>\n",
              "      <th>4</th>\n",
              "      <td>1139253</td>\n",
              "      <td>1057373</td>\n",
              "      <td>17311</td>\n",
              "      <td>121</td>\n",
              "      <td>3.0</td>\n",
              "      <td>2007</td>\n",
              "      <td>722.0</td>\n",
              "      <td>2</td>\n",
              "      <td>4208</td>\n",
              "      <td>1529</td>\n",
              "      <td>0</td>\n",
              "      <td>0</td>\n",
              "      <td>0</td>\n",
              "      <td>0</td>\n",
              "      <td>40</td>\n",
              "      <td>32</td>\n",
              "      <td>3</td>\n",
              "      <td>3</td>\n",
              "      <td>0</td>\n",
              "      <td>1</td>\n",
              "      <td>1</td>\n",
              "      <td>0</td>\n",
              "      <td>0</td>\n",
              "      <td>0</td>\n",
              "      <td>0</td>\n",
              "      <td>0</td>\n",
              "      <td>0</td>\n",
              "      <td>0</td>\n",
              "      <td>0</td>\n",
              "      <td>0</td>\n",
              "      <td>4</td>\n",
              "      <td>0</td>\n",
              "      <td>0</td>\n",
              "      <td>0</td>\n",
              "      <td>0</td>\n",
              "      <td>0</td>\n",
              "      <td>3</td>\n",
              "      <td>1</td>\n",
              "      <td>1</td>\n",
              "      <td>3</td>\n",
              "      <td>0</td>\n",
              "      <td>0</td>\n",
              "      <td>0</td>\n",
              "      <td>0</td>\n",
              "      <td>0</td>\n",
              "      <td>0</td>\n",
              "      <td>0</td>\n",
              "      <td>0</td>\n",
              "      <td>0</td>\n",
              "      <td>0</td>\n",
              "      <td>0</td>\n",
              "      <td>2009</td>\n",
              "      <td>7</td>\n",
              "      <td>30</td>\n",
              "      <td>23</td>\n",
              "      <td>3</td>\n",
              "      <td>204</td>\n",
              "      <td>False</td>\n",
              "      <td>False</td>\n",
              "      <td>False</td>\n",
              "      <td>False</td>\n",
              "      <td>False</td>\n",
              "      <td>False</td>\n",
              "      <td>1248307200</td>\n",
              "      <td>False</td>\n",
              "      <td>False</td>\n",
              "    </tr>\n",
              "  </tbody>\n",
              "</table>\n",
              "</div>"
            ],
            "text/plain": [
              "   SalesID  MachineID  ...  auctioneerID_na  MachineHoursCurrentMeter_na\n",
              "0  1139246     999089  ...            False                        False\n",
              "1  1139248     117657  ...            False                        False\n",
              "2  1139249     434808  ...            False                        False\n",
              "3  1139251    1026470  ...            False                        False\n",
              "4  1139253    1057373  ...            False                        False\n",
              "\n",
              "[5 rows x 66 columns]"
            ]
          },
          "metadata": {
            "tags": []
          },
          "execution_count": 20
        }
      ]
    },
    {
      "cell_type": "code",
      "metadata": {
        "id": "-hrLSOugbIDl",
        "colab_type": "code",
        "outputId": "dfbdd0bd-ef6b-4736-a846-4fff5ecdda55",
        "colab": {
          "base_uri": "https://localhost:8080/",
          "height": 88
        }
      },
      "source": [
        "#We create the FIRST but NOT last model, the parameter n_jobs is tellin this to create the model using as many cores as possible\n",
        "model = RandomForestRegressor(n_jobs=-1)\n",
        "#We fit the model the data we want. (independent, dependent) variables as parameters\n",
        "#model.fit(data_raw.drop('SalePrice', axis=1), data_raw.SalePrice)\n",
        "model.fit(df, y)\n",
        "model.score(df, y)"
      ],
      "execution_count": 0,
      "outputs": [
        {
          "output_type": "stream",
          "text": [
            "/usr/local/lib/python3.6/dist-packages/sklearn/ensemble/forest.py:245: FutureWarning: The default value of n_estimators will change from 10 in version 0.20 to 100 in 0.22.\n",
            "  \"10 in version 0.20 to 100 in 0.22.\", FutureWarning)\n"
          ],
          "name": "stderr"
        },
        {
          "output_type": "execute_result",
          "data": {
            "text/plain": [
              "0.9830787554785175"
            ]
          },
          "metadata": {
            "tags": []
          },
          "execution_count": 21
        }
      ]
    },
    {
      "cell_type": "markdown",
      "metadata": {
        "id": "F2zfSbad_04V",
        "colab_type": "text"
      },
      "source": [
        "This error is r^2 (the closer to 1 the better) [-oo, 1]"
      ]
    },
    {
      "cell_type": "code",
      "metadata": {
        "id": "ZzqC8PusAYuR",
        "colab_type": "code",
        "outputId": "e8bf0a61-5c5f-47f6-9497-a316f05ce3a6",
        "colab": {
          "base_uri": "https://localhost:8080/",
          "height": 34
        }
      },
      "source": [
        "#Here we will split into the last 12,000 rows of our table and use that for the validation set\n",
        "#And the rest for training\n",
        "\n",
        "def split_vals(a, n): return a[:n].copy(), a[n:].copy()\n",
        "\n",
        "n_valid = 12000\n",
        "n_trn = len(df)-n_valid\n",
        "raw_train, raw_valid = split_vals(data_raw, n_trn)\n",
        "X_train, X_valid = split_vals(df, n_trn)\n",
        "y_train, y_valid = split_vals(y, n_trn)\n",
        "\n",
        "X_train.shape, y_train.shape, X_valid.shape"
      ],
      "execution_count": 0,
      "outputs": [
        {
          "output_type": "execute_result",
          "data": {
            "text/plain": [
              "((389125, 66), (389125,), (12000, 66))"
            ]
          },
          "metadata": {
            "tags": []
          },
          "execution_count": 22
        }
      ]
    },
    {
      "cell_type": "code",
      "metadata": {
        "id": "zIueBt9pXA9K",
        "colab_type": "code",
        "colab": {}
      },
      "source": [
        "# lets define the RMSE root mean squeared error\n",
        "\n",
        "def rmse(x, y): return math.sqrt(((x-y)**2).mean())\n",
        "\n",
        "def print_score(m):\n",
        "  res = [rmse(m.predict(X_train), y_train), rmse(m.predict(X_valid), y_valid), m.score(X_train, y_train), m.score(X_valid, y_valid)]\n",
        "  if hasattr(m, 'oob_score_'): res.append(m.oob_score_)\n",
        "  pre = [\"RMSE training: \", \"RMSE validation: \", \"R^2 training: \", \"R^2 validation: \", \"OOB_SCORE: \"]\n",
        "\n",
        "  for i in range(len(res)):\n",
        "    print(pre[i] + str(res[i]))"
      ],
      "execution_count": 0,
      "outputs": []
    },
    {
      "cell_type": "code",
      "metadata": {
        "id": "hReYo9qjYNtx",
        "colab_type": "code",
        "outputId": "7a78ff63-7f8e-4e3e-c82b-310008a6c6fd",
        "colab": {
          "base_uri": "https://localhost:8080/",
          "height": 173
        }
      },
      "source": [
        "#We reset our model with our training data\n",
        "model = RandomForestRegressor(n_jobs=-1)\n",
        "%time model.fit(X_train, y_train)\n",
        "print_score(model)"
      ],
      "execution_count": 0,
      "outputs": [
        {
          "output_type": "stream",
          "text": [
            "/usr/local/lib/python3.6/dist-packages/sklearn/ensemble/forest.py:245: FutureWarning: The default value of n_estimators will change from 10 in version 0.20 to 100 in 0.22.\n",
            "  \"10 in version 0.20 to 100 in 0.22.\", FutureWarning)\n"
          ],
          "name": "stderr"
        },
        {
          "output_type": "stream",
          "text": [
            "CPU times: user 1min 46s, sys: 105 ms, total: 1min 46s\n",
            "Wall time: 54.1 s\n",
            "RMSE training: 0.09032210128500089\n",
            "RMSE validation: 0.24830794784041202\n",
            "R^2 training: 0.9829500585749953\n",
            "R^2 validation: 0.8898893781469469\n"
          ],
          "name": "stdout"
        }
      ]
    },
    {
      "cell_type": "markdown",
      "metadata": {
        "id": "gsKZTrGNCwcA",
        "colab_type": "text"
      },
      "source": [
        "## **Code from Lesson 2: Hyperparameters and tunning**"
      ]
    },
    {
      "cell_type": "markdown",
      "metadata": {
        "id": "AQYQlf_kDFGI",
        "colab_type": "text"
      },
      "source": [
        "### **Speed things up**\n",
        "Let's see how we can speed thing up for faster analysis."
      ]
    },
    {
      "cell_type": "code",
      "metadata": {
        "id": "fPLq_LMmDPS8",
        "colab_type": "code",
        "colab": {}
      },
      "source": [
        "#Lets take a smaller subset of only 30000 rows instead of all which area ~500,000\n",
        "#The reason we are doing this is to speedup the runs ~9 seconds\n",
        "df_trn, y_trn, nas = proc_df(data_raw, 'SalePrice', subset=30000, na_dict=nas)\n",
        "#Note we don't update our validation set, that one will still be the big one we created previously\n",
        "X_train, _ = split_vals(df_trn, 20000)\n",
        "y_train, _ = split_vals(y_trn, 20000)"
      ],
      "execution_count": 0,
      "outputs": []
    },
    {
      "cell_type": "code",
      "metadata": {
        "id": "wbzH__SED_8i",
        "colab_type": "code",
        "outputId": "523895d6-955d-41d2-a63e-2fce6d444d2d",
        "colab": {
          "base_uri": "https://localhost:8080/"
        }
      },
      "source": [
        "#Lets recreate our model\n",
        "model = RandomForestRegressor(n_jobs=-1)\n",
        "%time model.fit(X_train, y_train)\n",
        "print_score(model)"
      ],
      "execution_count": 0,
      "outputs": [
        {
          "output_type": "stream",
          "text": [
            "/usr/local/lib/python3.6/dist-packages/sklearn/ensemble/forest.py:245: FutureWarning: The default value of n_estimators will change from 10 in version 0.20 to 100 in 0.22.\n",
            "  \"10 in version 0.20 to 100 in 0.22.\", FutureWarning)\n"
          ],
          "name": "stderr"
        },
        {
          "output_type": "stream",
          "text": [
            "CPU times: user 4.23 s, sys: 14.8 ms, total: 4.24 s\n",
            "Wall time: 2.27 s\n",
            "RMSE training: 0.10992109813498722\n",
            "RMSE validation: 0.34388987583816194\n",
            "R^2 training: 0.9735533196881909\n",
            "R^2 validation: 0.788803481544668\n"
          ],
          "name": "stdout"
        }
      ]
    },
    {
      "cell_type": "markdown",
      "metadata": {
        "id": "3MeM2xNjfSyG",
        "colab_type": "text"
      },
      "source": [
        "### **Hyperparameters**\n",
        "\n",
        "Lets start adding hyperparameters and tunning our model.\n",
        "\n",
        "* n_estimators: how many trees we want our forest to have.\n",
        "* max_depth: the maximum depth of our tree, by default this is when each leaf node has exactly 1 giving us a perfect (extremely overfitted) model.\n",
        "* bootrstrap: true if there exists randomization in our estimators, false otherwise. What scikit-learn does by default is for n rows, it picks out n rows with replacement — which is called bootstrapping\n",
        "\n",
        "* n_jobs: if it's -1 we want to use several cores for our model\n"
      ]
    },
    {
      "cell_type": "code",
      "metadata": {
        "id": "RxMQCYZD12o3",
        "colab_type": "code",
        "outputId": "7e209ae3-d477-4e26-ecfa-1181c9d9f2ff",
        "colab": {
          "base_uri": "https://localhost:8080/"
        }
      },
      "source": [
        "model = RandomForestRegressor(n_estimators=1, max_depth=3, bootstrap=False, n_jobs=-1)\n",
        "model.fit(X_train, y_train)\n",
        "print_score(model)"
      ],
      "execution_count": 0,
      "outputs": [
        {
          "output_type": "stream",
          "text": [
            "RMSE training: 0.52082461997793\n",
            "RMSE validation: 0.5822157551485161\n",
            "R^2 training: 0.406265807867662\n",
            "R^2 validation: 0.39463698897347455\n"
          ],
          "name": "stdout"
        }
      ]
    },
    {
      "cell_type": "markdown",
      "metadata": {
        "id": "rSunoLQ0hhkI",
        "colab_type": "text"
      },
      "source": [
        "#### **Estimator (Tree) structure**\n",
        "Here we have 4 values per each desition note.\n",
        "\n",
        "* Splitting variable: This is the variable for which we are deciding to make our split (binary desition).\n",
        "</br>This is decided by trying to separate our 2 groups into groups as homogeneous as possible within themselves and heterogeneous as possible with each other. Matemathically we make this desition by testing all the possible split variables with all possible binary resolution values and evaluate them according to their weighted average on the MSE. Whichever has the lowest is the best split and we use that one.\n",
        "\n",
        "* MSE: Simply the MSE if we predict the value for all the samples in this node.\n",
        "* Samples: The number of samples that fit this citeria.\n",
        "* Value: The average value of all the samples in this node.\n",
        "\n",
        "We should note that in the first node is the most naive model possible (predicting the average) which causes an R^2 of 0."
      ]
    },
    {
      "cell_type": "code",
      "metadata": {
        "id": "nu0oGPFL-A8O",
        "colab_type": "code",
        "outputId": "eefa830f-5f88-46df-8c60-471e62f6da99",
        "colab": {
          "base_uri": "https://localhost:8080/"
        }
      },
      "source": [
        "#Lets make a drawing of this samll estimator (tree) from our random forest.\n",
        "draw_tree(model.estimators_[0], df_trn, precision=3)"
      ],
      "execution_count": 0,
      "outputs": [
        {
          "output_type": "display_data",
          "data": {
            "text/plain": [
              "<graphviz.files.Source at 0x7fb813923828>"
            ],
            "image/svg+xml": "<?xml version=\"1.0\" encoding=\"UTF-8\" standalone=\"no\"?>\n<!DOCTYPE svg PUBLIC \"-//W3C//DTD SVG 1.1//EN\"\n \"http://www.w3.org/Graphics/SVG/1.1/DTD/svg11.dtd\">\n<!-- Generated by graphviz version 2.40.1 (20161225.0304)\n -->\n<!-- Title: Tree Pages: 1 -->\n<svg width=\"720pt\" height=\"434pt\"\n viewBox=\"0.00 0.00 720.00 434.49\" xmlns=\"http://www.w3.org/2000/svg\" xmlns:xlink=\"http://www.w3.org/1999/xlink\">\n<g id=\"graph0\" class=\"graph\" transform=\"scale(.7787 .7787) rotate(0) translate(4 554)\">\n<title>Tree</title>\n<polygon fill=\"#ffffff\" stroke=\"transparent\" points=\"-4,4 -4,-554 920.6667,-554 920.6667,4 -4,4\"/>\n<!-- 0 -->\n<g id=\"node1\" class=\"node\">\n<title>0</title>\n<polygon fill=\"#eca36e\" stroke=\"#000000\" points=\"174.6667,-336.5 28.6667,-336.5 28.6667,-268.5 174.6667,-268.5 174.6667,-336.5\"/>\n<text text-anchor=\"start\" x=\"36.6667\" y=\"-321.3\" font-family=\"Times,serif\" font-size=\"14.00\" fill=\"#000000\">Coupler_System ≤ 0.5</text>\n<text text-anchor=\"start\" x=\"65.1667\" y=\"-306.3\" font-family=\"Times,serif\" font-size=\"14.00\" fill=\"#000000\">mse = 0.457</text>\n<text text-anchor=\"start\" x=\"52.1667\" y=\"-291.3\" font-family=\"Times,serif\" font-size=\"14.00\" fill=\"#000000\">samples = 20000</text>\n<text text-anchor=\"start\" x=\"57.6667\" y=\"-276.3\" font-family=\"Times,serif\" font-size=\"14.00\" fill=\"#000000\">value = 10.117</text>\n</g>\n<!-- 1 -->\n<g id=\"node2\" class=\"node\">\n<title>1</title>\n<polygon fill=\"#eb9c63\" stroke=\"#000000\" points=\"409.1667,-372.5 278.1667,-372.5 278.1667,-304.5 409.1667,-304.5 409.1667,-372.5\"/>\n<text text-anchor=\"start\" x=\"286.1667\" y=\"-357.3\" font-family=\"Times,serif\" font-size=\"14.00\" fill=\"#000000\">YearMade ≤ 1985.5</text>\n<text text-anchor=\"start\" x=\"314.6667\" y=\"-342.3\" font-family=\"Times,serif\" font-size=\"14.00\" fill=\"#000000\">mse = 0.4</text>\n<text text-anchor=\"start\" x=\"294.1667\" y=\"-327.3\" font-family=\"Times,serif\" font-size=\"14.00\" fill=\"#000000\">samples = 18284</text>\n<text text-anchor=\"start\" x=\"299.6667\" y=\"-312.3\" font-family=\"Times,serif\" font-size=\"14.00\" fill=\"#000000\">value = 10.204</text>\n</g>\n<!-- 0&#45;&gt;1 -->\n<g id=\"edge1\" class=\"edge\">\n<title>0&#45;&gt;1</title>\n<path fill=\"none\" stroke=\"#000000\" d=\"M174.9314,-313.3989C204.4281,-317.7868 238.4321,-322.8453 268.1515,-327.2663\"/>\n<polygon fill=\"#000000\" stroke=\"#000000\" points=\"267.6472,-330.7297 278.0533,-328.7393 268.6772,-323.8059 267.6472,-330.7297\"/>\n<text text-anchor=\"middle\" x=\"257.967\" y=\"-339.9235\" font-family=\"Times,serif\" font-size=\"14.00\" fill=\"#000000\">True</text>\n</g>\n<!-- 8 -->\n<g id=\"node9\" class=\"node\">\n<title>8</title>\n<polygon fill=\"#fcf1e9\" stroke=\"#000000\" points=\"409.1667,-245.5 278.1667,-245.5 278.1667,-177.5 409.1667,-177.5 409.1667,-245.5\"/>\n<text text-anchor=\"start\" x=\"286.1667\" y=\"-230.3\" font-family=\"Times,serif\" font-size=\"14.00\" fill=\"#000000\">YearMade ≤ 1998.5</text>\n<text text-anchor=\"start\" x=\"307.6667\" y=\"-215.3\" font-family=\"Times,serif\" font-size=\"14.00\" fill=\"#000000\">mse = 0.117</text>\n<text text-anchor=\"start\" x=\"298.1667\" y=\"-200.3\" font-family=\"Times,serif\" font-size=\"14.00\" fill=\"#000000\">samples = 1716</text>\n<text text-anchor=\"start\" x=\"303.1667\" y=\"-185.3\" font-family=\"Times,serif\" font-size=\"14.00\" fill=\"#000000\">value = 9.184</text>\n</g>\n<!-- 0&#45;&gt;8 -->\n<g id=\"edge8\" class=\"edge\">\n<title>0&#45;&gt;8</title>\n<path fill=\"none\" stroke=\"#000000\" d=\"M174.9314,-274.95C204.5563,-263.8101 238.7278,-250.9605 268.5389,-239.7505\"/>\n<polygon fill=\"#000000\" stroke=\"#000000\" points=\"269.9251,-242.9686 278.0533,-236.1728 267.4613,-236.4165 269.9251,-242.9686\"/>\n<text text-anchor=\"middle\" x=\"255.2848\" y=\"-222.1483\" font-family=\"Times,serif\" font-size=\"14.00\" fill=\"#000000\">False</text>\n</g>\n<!-- 2 -->\n<g id=\"node3\" class=\"node\">\n<title>2</title>\n<polygon fill=\"#f0b68d\" stroke=\"#000000\" points=\"664.1667,-486.5 539.1667,-486.5 539.1667,-418.5 664.1667,-418.5 664.1667,-486.5\"/>\n<text text-anchor=\"start\" x=\"547.1667\" y=\"-471.3\" font-family=\"Times,serif\" font-size=\"14.00\" fill=\"#000000\">ModelID ≤ 4418.0</text>\n<text text-anchor=\"start\" x=\"565.1667\" y=\"-456.3\" font-family=\"Times,serif\" font-size=\"14.00\" fill=\"#000000\">mse = 0.332</text>\n<text text-anchor=\"start\" x=\"556.1667\" y=\"-441.3\" font-family=\"Times,serif\" font-size=\"14.00\" fill=\"#000000\">samples = 5785</text>\n<text text-anchor=\"start\" x=\"561.1667\" y=\"-426.3\" font-family=\"Times,serif\" font-size=\"14.00\" fill=\"#000000\">value = 9.883</text>\n</g>\n<!-- 1&#45;&gt;2 -->\n<g id=\"edge2\" class=\"edge\">\n<title>1&#45;&gt;2</title>\n<path fill=\"none\" stroke=\"#000000\" d=\"M409.4385,-367.562C446.186,-383.7993 492.028,-404.055 529.7273,-420.7128\"/>\n<polygon fill=\"#000000\" stroke=\"#000000\" points=\"528.5644,-424.0254 539.1259,-424.8657 531.3936,-417.6226 528.5644,-424.0254\"/>\n</g>\n<!-- 5 -->\n<g id=\"node6\" class=\"node\">\n<title>5</title>\n<polygon fill=\"#e88f4f\" stroke=\"#000000\" points=\"682.1667,-372.5 521.1667,-372.5 521.1667,-304.5 682.1667,-304.5 682.1667,-372.5\"/>\n<text text-anchor=\"start\" x=\"529.1667\" y=\"-357.3\" font-family=\"Times,serif\" font-size=\"14.00\" fill=\"#000000\">fiProductClassDesc ≤ 7.5</text>\n<text text-anchor=\"start\" x=\"565.1667\" y=\"-342.3\" font-family=\"Times,serif\" font-size=\"14.00\" fill=\"#000000\">mse = 0.361</text>\n<text text-anchor=\"start\" x=\"552.1667\" y=\"-327.3\" font-family=\"Times,serif\" font-size=\"14.00\" fill=\"#000000\">samples = 12499</text>\n<text text-anchor=\"start\" x=\"557.6667\" y=\"-312.3\" font-family=\"Times,serif\" font-size=\"14.00\" fill=\"#000000\">value = 10.353</text>\n</g>\n<!-- 1&#45;&gt;5 -->\n<g id=\"edge5\" class=\"edge\">\n<title>1&#45;&gt;5</title>\n<path fill=\"none\" stroke=\"#000000\" d=\"M409.4385,-338.5C440.1513,-338.5 477.2167,-338.5 510.5716,-338.5\"/>\n<polygon fill=\"#000000\" stroke=\"#000000\" points=\"510.7929,-342.0001 520.7928,-338.5 510.7928,-335.0001 510.7929,-342.0001\"/>\n</g>\n<!-- 3 -->\n<g id=\"node4\" class=\"node\">\n<title>3</title>\n<polygon fill=\"#eca571\" stroke=\"#000000\" points=\"896.1667,-550 789.1667,-550 789.1667,-497 896.1667,-497 896.1667,-550\"/>\n<text text-anchor=\"start\" x=\"806.1667\" y=\"-534.8\" font-family=\"Times,serif\" font-size=\"14.00\" fill=\"#000000\">mse = 0.358</text>\n<text text-anchor=\"start\" x=\"797.1667\" y=\"-519.8\" font-family=\"Times,serif\" font-size=\"14.00\" fill=\"#000000\">samples = 2816</text>\n<text text-anchor=\"start\" x=\"798.6667\" y=\"-504.8\" font-family=\"Times,serif\" font-size=\"14.00\" fill=\"#000000\">value = 10.095</text>\n</g>\n<!-- 2&#45;&gt;3 -->\n<g id=\"edge3\" class=\"edge\">\n<title>2&#45;&gt;3</title>\n<path fill=\"none\" stroke=\"#000000\" d=\"M664.3575,-470.9691C699.6699,-481.3723 743.6627,-494.3328 779.1148,-504.7773\"/>\n<polygon fill=\"#000000\" stroke=\"#000000\" points=\"778.2918,-508.1835 788.8733,-507.6522 780.2701,-501.4688 778.2918,-508.1835\"/>\n</g>\n<!-- 4 -->\n<g id=\"node5\" class=\"node\">\n<title>4</title>\n<polygon fill=\"#f3c7a7\" stroke=\"#000000\" points=\"896.1667,-479 789.1667,-479 789.1667,-426 896.1667,-426 896.1667,-479\"/>\n<text text-anchor=\"start\" x=\"806.1667\" y=\"-463.8\" font-family=\"Times,serif\" font-size=\"14.00\" fill=\"#000000\">mse = 0.225</text>\n<text text-anchor=\"start\" x=\"797.1667\" y=\"-448.8\" font-family=\"Times,serif\" font-size=\"14.00\" fill=\"#000000\">samples = 2969</text>\n<text text-anchor=\"start\" x=\"802.1667\" y=\"-433.8\" font-family=\"Times,serif\" font-size=\"14.00\" fill=\"#000000\">value = 9.682</text>\n</g>\n<!-- 2&#45;&gt;4 -->\n<g id=\"edge4\" class=\"edge\">\n<title>2&#45;&gt;4</title>\n<path fill=\"none\" stroke=\"#000000\" d=\"M664.3575,-452.5C699.519,-452.5 743.2868,-452.5 778.6598,-452.5\"/>\n<polygon fill=\"#000000\" stroke=\"#000000\" points=\"778.8734,-456.0001 788.8733,-452.5 778.8733,-449.0001 778.8734,-456.0001\"/>\n</g>\n<!-- 6 -->\n<g id=\"node7\" class=\"node\">\n<title>6</title>\n<polygon fill=\"#efb286\" stroke=\"#000000\" points=\"896.1667,-408 789.1667,-408 789.1667,-355 896.1667,-355 896.1667,-408\"/>\n<text text-anchor=\"start\" x=\"806.1667\" y=\"-392.8\" font-family=\"Times,serif\" font-size=\"14.00\" fill=\"#000000\">mse = 0.124</text>\n<text text-anchor=\"start\" x=\"797.1667\" y=\"-377.8\" font-family=\"Times,serif\" font-size=\"14.00\" fill=\"#000000\">samples = 3652</text>\n<text text-anchor=\"start\" x=\"802.1667\" y=\"-362.8\" font-family=\"Times,serif\" font-size=\"14.00\" fill=\"#000000\">value = 9.937</text>\n</g>\n<!-- 5&#45;&gt;6 -->\n<g id=\"edge6\" class=\"edge\">\n<title>5&#45;&gt;6</title>\n<path fill=\"none\" stroke=\"#000000\" d=\"M682.2512,-352.8782C713.7093,-358.491 749.2589,-364.8339 778.8835,-370.1196\"/>\n<polygon fill=\"#000000\" stroke=\"#000000\" points=\"778.6392,-373.6312 789.0985,-371.9422 779.8688,-366.74 778.6392,-373.6312\"/>\n</g>\n<!-- 7 -->\n<g id=\"node8\" class=\"node\">\n<title>7</title>\n<polygon fill=\"#e58139\" stroke=\"#000000\" points=\"896.1667,-337 789.1667,-337 789.1667,-284 896.1667,-284 896.1667,-337\"/>\n<text text-anchor=\"start\" x=\"806.1667\" y=\"-321.8\" font-family=\"Times,serif\" font-size=\"14.00\" fill=\"#000000\">mse = 0.358</text>\n<text text-anchor=\"start\" x=\"797.1667\" y=\"-306.8\" font-family=\"Times,serif\" font-size=\"14.00\" fill=\"#000000\">samples = 8847</text>\n<text text-anchor=\"start\" x=\"798.6667\" y=\"-291.8\" font-family=\"Times,serif\" font-size=\"14.00\" fill=\"#000000\">value = 10.524</text>\n</g>\n<!-- 5&#45;&gt;7 -->\n<g id=\"edge7\" class=\"edge\">\n<title>5&#45;&gt;7</title>\n<path fill=\"none\" stroke=\"#000000\" d=\"M682.2512,-329.1375C713.7093,-325.4826 749.2589,-321.3524 778.8835,-317.9105\"/>\n<polygon fill=\"#000000\" stroke=\"#000000\" points=\"779.5693,-321.3544 789.0985,-316.7237 778.7614,-314.4012 779.5693,-321.3544\"/>\n</g>\n<!-- 9 -->\n<g id=\"node10\" class=\"node\">\n<title>9</title>\n<polygon fill=\"#fffefd\" stroke=\"#000000\" points=\"682.1667,-245.5 521.1667,-245.5 521.1667,-177.5 682.1667,-177.5 682.1667,-245.5\"/>\n<text text-anchor=\"start\" x=\"529.1667\" y=\"-230.3\" font-family=\"Times,serif\" font-size=\"14.00\" fill=\"#000000\">fiSecondaryDesc ≤ 113.0</text>\n<text text-anchor=\"start\" x=\"565.1667\" y=\"-215.3\" font-family=\"Times,serif\" font-size=\"14.00\" fill=\"#000000\">mse = 0.087</text>\n<text text-anchor=\"start\" x=\"559.6667\" y=\"-200.3\" font-family=\"Times,serif\" font-size=\"14.00\" fill=\"#000000\">samples = 965</text>\n<text text-anchor=\"start\" x=\"565.1667\" y=\"-185.3\" font-family=\"Times,serif\" font-size=\"14.00\" fill=\"#000000\">value = 9.03</text>\n</g>\n<!-- 8&#45;&gt;9 -->\n<g id=\"edge9\" class=\"edge\">\n<title>8&#45;&gt;9</title>\n<path fill=\"none\" stroke=\"#000000\" d=\"M409.4385,-211.5C440.1513,-211.5 477.2167,-211.5 510.5716,-211.5\"/>\n<polygon fill=\"#000000\" stroke=\"#000000\" points=\"510.7929,-215.0001 520.7928,-211.5 510.7928,-208.0001 510.7929,-215.0001\"/>\n</g>\n<!-- 12 -->\n<g id=\"node13\" class=\"node\">\n<title>12</title>\n<polygon fill=\"#f9e0cf\" stroke=\"#000000\" points=\"686.1667,-131.5 517.1667,-131.5 517.1667,-63.5 686.1667,-63.5 686.1667,-131.5\"/>\n<text text-anchor=\"start\" x=\"525.1667\" y=\"-116.3\" font-family=\"Times,serif\" font-size=\"14.00\" fill=\"#000000\">fiProductClassDesc ≤ 39.5</text>\n<text text-anchor=\"start\" x=\"565.1667\" y=\"-101.3\" font-family=\"Times,serif\" font-size=\"14.00\" fill=\"#000000\">mse = 0.086</text>\n<text text-anchor=\"start\" x=\"559.6667\" y=\"-86.3\" font-family=\"Times,serif\" font-size=\"14.00\" fill=\"#000000\">samples = 751</text>\n<text text-anchor=\"start\" x=\"561.1667\" y=\"-71.3\" font-family=\"Times,serif\" font-size=\"14.00\" fill=\"#000000\">value = 9.383</text>\n</g>\n<!-- 8&#45;&gt;12 -->\n<g id=\"edge12\" class=\"edge\">\n<title>8&#45;&gt;12</title>\n<path fill=\"none\" stroke=\"#000000\" d=\"M409.4385,-182.438C441.6448,-168.2073 480.8366,-150.89 515.4101,-135.6133\"/>\n<polygon fill=\"#000000\" stroke=\"#000000\" points=\"516.8276,-138.8135 524.5599,-131.5704 513.9984,-132.4107 516.8276,-138.8135\"/>\n</g>\n<!-- 10 -->\n<g id=\"node11\" class=\"node\">\n<title>10</title>\n<polygon fill=\"#ffffff\" stroke=\"#000000\" points=\"892.6667,-266 792.6667,-266 792.6667,-213 892.6667,-213 892.6667,-266\"/>\n<text text-anchor=\"start\" x=\"810.1667\" y=\"-250.8\" font-family=\"Times,serif\" font-size=\"14.00\" fill=\"#000000\">mse = 0.08</text>\n<text text-anchor=\"start\" x=\"800.6667\" y=\"-235.8\" font-family=\"Times,serif\" font-size=\"14.00\" fill=\"#000000\">samples = 931</text>\n<text text-anchor=\"start\" x=\"802.1667\" y=\"-220.8\" font-family=\"Times,serif\" font-size=\"14.00\" fill=\"#000000\">value = 9.013</text>\n</g>\n<!-- 9&#45;&gt;10 -->\n<g id=\"edge10\" class=\"edge\">\n<title>9&#45;&gt;10</title>\n<path fill=\"none\" stroke=\"#000000\" d=\"M682.2512,-220.8625C714.9531,-224.6619 752.0765,-228.975 782.3691,-232.4945\"/>\n<polygon fill=\"#000000\" stroke=\"#000000\" points=\"782.027,-235.9782 792.3641,-233.6557 782.8349,-229.025 782.027,-235.9782\"/>\n</g>\n<!-- 11 -->\n<g id=\"node12\" class=\"node\">\n<title>11</title>\n<polygon fill=\"#f7d6be\" stroke=\"#000000\" points=\"891.1667,-195 794.1667,-195 794.1667,-142 891.1667,-142 891.1667,-195\"/>\n<text text-anchor=\"start\" x=\"806.1667\" y=\"-179.8\" font-family=\"Times,serif\" font-size=\"14.00\" fill=\"#000000\">mse = 0.044</text>\n<text text-anchor=\"start\" x=\"804.6667\" y=\"-164.8\" font-family=\"Times,serif\" font-size=\"14.00\" fill=\"#000000\">samples = 34</text>\n<text text-anchor=\"start\" x=\"802.1667\" y=\"-149.8\" font-family=\"Times,serif\" font-size=\"14.00\" fill=\"#000000\">value = 9.507</text>\n</g>\n<!-- 9&#45;&gt;11 -->\n<g id=\"edge11\" class=\"edge\">\n<title>9&#45;&gt;11</title>\n<path fill=\"none\" stroke=\"#000000\" d=\"M682.2512,-197.1218C715.5678,-191.1774 753.4737,-184.4141 784.07,-178.955\"/>\n<polygon fill=\"#000000\" stroke=\"#000000\" points=\"784.919,-182.3589 794.1487,-177.1567 783.6894,-175.4677 784.919,-182.3589\"/>\n</g>\n<!-- 13 -->\n<g id=\"node14\" class=\"node\">\n<title>13</title>\n<polygon fill=\"#fbebe0\" stroke=\"#000000\" points=\"892.6667,-124 792.6667,-124 792.6667,-71 892.6667,-71 892.6667,-124\"/>\n<text text-anchor=\"start\" x=\"806.1667\" y=\"-108.8\" font-family=\"Times,serif\" font-size=\"14.00\" fill=\"#000000\">mse = 0.073</text>\n<text text-anchor=\"start\" x=\"800.6667\" y=\"-93.8\" font-family=\"Times,serif\" font-size=\"14.00\" fill=\"#000000\">samples = 274</text>\n<text text-anchor=\"start\" x=\"802.1667\" y=\"-78.8\" font-family=\"Times,serif\" font-size=\"14.00\" fill=\"#000000\">value = 9.248</text>\n</g>\n<!-- 12&#45;&gt;13 -->\n<g id=\"edge13\" class=\"edge\">\n<title>12&#45;&gt;13</title>\n<path fill=\"none\" stroke=\"#000000\" d=\"M686.2954,-97.5C718.0822,-97.5 753.5334,-97.5 782.6337,-97.5\"/>\n<polygon fill=\"#000000\" stroke=\"#000000\" points=\"782.6456,-101.0001 792.6456,-97.5 782.6456,-94.0001 782.6456,-101.0001\"/>\n</g>\n<!-- 14 -->\n<g id=\"node15\" class=\"node\">\n<title>14</title>\n<polygon fill=\"#f7dac4\" stroke=\"#000000\" points=\"892.6667,-53 792.6667,-53 792.6667,0 892.6667,0 892.6667,-53\"/>\n<text text-anchor=\"start\" x=\"806.1667\" y=\"-37.8\" font-family=\"Times,serif\" font-size=\"14.00\" fill=\"#000000\">mse = 0.076</text>\n<text text-anchor=\"start\" x=\"800.6667\" y=\"-22.8\" font-family=\"Times,serif\" font-size=\"14.00\" fill=\"#000000\">samples = 477</text>\n<text text-anchor=\"start\" x=\"806.1667\" y=\"-7.8\" font-family=\"Times,serif\" font-size=\"14.00\" fill=\"#000000\">value = 9.46</text>\n</g>\n<!-- 12&#45;&gt;14 -->\n<g id=\"edge14\" class=\"edge\">\n<title>12&#45;&gt;14</title>\n<path fill=\"none\" stroke=\"#000000\" d=\"M686.2954,-72.5679C718.221,-63.1624 753.843,-52.668 783.0146,-44.0739\"/>\n<polygon fill=\"#000000\" stroke=\"#000000\" points=\"784.0423,-47.4199 792.6456,-41.2365 782.0641,-40.7052 784.0423,-47.4199\"/>\n</g>\n</g>\n</svg>\n"
          },
          "metadata": {
            "tags": []
          }
        }
      ]
    },
    {
      "cell_type": "code",
      "metadata": {
        "id": "LQAK7BRwfkJj",
        "colab_type": "code",
        "colab": {}
      },
      "source": [
        "t_df = X_train.copy()\n",
        "t_df['value'] = y_train"
      ],
      "execution_count": 0,
      "outputs": []
    },
    {
      "cell_type": "code",
      "metadata": {
        "id": "u4nuYpsAsbZY",
        "colab_type": "code",
        "outputId": "9bafa5b0-b8ba-4988-b486-c89dd61772a9",
        "colab": {
          "base_uri": "https://localhost:8080/"
        }
      },
      "source": [
        "#Simple verification of values = mean of subset in predictor node\n",
        "a = t_df[t_df.Coupler_System<=0.5]\n",
        "a = a[a.YearMade<=1985.5]\n",
        "a = a[a.ModelID<=4157.5]\n",
        "a ['value'].mean()"
      ],
      "execution_count": 0,
      "outputs": [
        {
          "output_type": "execute_result",
          "data": {
            "text/plain": [
              "10.095255653661276"
            ]
          },
          "metadata": {
            "tags": []
          },
          "execution_count": 30
        }
      ]
    },
    {
      "cell_type": "code",
      "metadata": {
        "id": "_sdy9fqlriBf",
        "colab_type": "code",
        "outputId": "9da6ba36-0cea-4ddb-eb30-35cd50c979de",
        "colab": {
          "base_uri": "https://localhost:8080/"
        }
      },
      "source": [
        "#Simple bigger tree\n",
        "model = RandomForestRegressor(n_estimators=1, bootstrap=False, n_jobs=-1)\n",
        "model.fit(X_train, y_train)\n",
        "print_score(model)"
      ],
      "execution_count": 0,
      "outputs": [
        {
          "output_type": "stream",
          "text": [
            "RMSE training: 7.215595591812694e-17\n",
            "RMSE validation: 0.4748525912569235\n",
            "R^2 training: 1.0\n",
            "R^2 validation: 0.5973148645446026\n"
          ],
          "name": "stdout"
        }
      ]
    },
    {
      "cell_type": "markdown",
      "metadata": {
        "id": "F13u-B5dx767",
        "colab_type": "text"
      },
      "source": [
        "### **Bagging**\n",
        "\n",
        "Bagging helps us create a model using randomization.\n",
        "\n",
        "What if we created N different un-correlated models somewhat predictive?\n",
        "Each model will find different insights into the data and if we take the average (Ensemmbling) of all those overfitting predictors we will reduce our error to 0 as N increases (average of random errors) as long as all sets for predictors are picked randomly and their errors are unrelated.\n",
        "\n",
        "The way this works is that the model (in sklearn) takes a random number of rows of our data frame (with replacement) for every predictor (by default 10 predictors [the more we can use, the better]) and uses those. It's important to note that the sets of each predictor may overlap each predictor covering ~65% of the total data in average.\n",
        "\n",
        "Also recent research has shown that un-correlation is better than presition in the trees we create.\n",
        "\n",
        "Sklear has another class named \"ExtraTreesRegresor\" which is an extremely randomized trees model which does the same as the RandomForestRegressor but now instead of checking for all splits of all variables it only tries a few of randomly selected splits for every node in each tree (predictor).\n",
        "\n",
        "How much subsamples do we end up having per tree?\n",
        "\n",
        "According to sklearn's api:\n",
        "\"The sub-sample size is always the same as the original input sample size but the samples are drawn with replacement if bootstrap=True (default)\""
      ]
    },
    {
      "cell_type": "code",
      "metadata": {
        "id": "8rfdDpgkrSfz",
        "colab_type": "code",
        "outputId": "e46ee917-e22f-4df7-eacc-73e988bf386d",
        "colab": {
          "base_uri": "https://localhost:8080/",
          "height": 139
        }
      },
      "source": [
        "model = RandomForestRegressor(n_jobs=-1)\n",
        "model.fit(X_train, y_train)\n",
        "print_score(model)"
      ],
      "execution_count": 0,
      "outputs": [
        {
          "output_type": "stream",
          "text": [
            "/usr/local/lib/python3.6/dist-packages/sklearn/ensemble/forest.py:245: FutureWarning: The default value of n_estimators will change from 10 in version 0.20 to 100 in 0.22.\n",
            "  \"10 in version 0.20 to 100 in 0.22.\", FutureWarning)\n"
          ],
          "name": "stderr"
        },
        {
          "output_type": "stream",
          "text": [
            "RMSE training: 0.11161508135058257\n",
            "RMSE validation: 0.3452717487516193\n",
            "R^2 training: 0.9727319043401305\n",
            "R^2 validation: 0.7871027445280068\n"
          ],
          "name": "stdout"
        }
      ]
    },
    {
      "cell_type": "code",
      "metadata": {
        "id": "b2okqezSsImB",
        "colab_type": "code",
        "outputId": "0b8cfc8e-fdc9-4bb6-8845-f747a83ed1b4",
        "colab": {
          "base_uri": "https://localhost:8080/",
          "height": 68
        }
      },
      "source": [
        "#Here we are taking all trees and predicting the validation set on all of them.\n",
        "#And we store that as a matrix of 10 by 12000 (validation test rows) in preds.\n",
        "preds = np.stack([t.predict(X_valid) for t in model.estimators_])\n",
        "#We print the first 10 prediction, then their mean and finally the valid one\n",
        "preds[:, 0], np.mean(preds[:, 0]), y_valid[0]"
      ],
      "execution_count": 0,
      "outputs": [
        {
          "output_type": "execute_result",
          "data": {
            "text/plain": [
              "(array([9.047821, 9.159047, 9.305651, 9.546813, 9.047821, 9.159047, 9.680344, 9.305651, 9.259131, 8.922658]),\n",
              " 9.243398358918443,\n",
              " 9.104979856318357)"
            ]
          },
          "metadata": {
            "tags": []
          },
          "execution_count": 33
        }
      ]
    },
    {
      "cell_type": "code",
      "metadata": {
        "id": "njmSSK98srJW",
        "colab_type": "code",
        "outputId": "f29a7080-9340-45f1-d049-35427e4e1673",
        "colab": {
          "base_uri": "https://localhost:8080/",
          "height": 34
        }
      },
      "source": [
        "preds.shape"
      ],
      "execution_count": 0,
      "outputs": [
        {
          "output_type": "execute_result",
          "data": {
            "text/plain": [
              "(10, 12000)"
            ]
          },
          "metadata": {
            "tags": []
          },
          "execution_count": 34
        }
      ]
    },
    {
      "cell_type": "code",
      "metadata": {
        "id": "4zVWJu-LtdkZ",
        "colab_type": "code",
        "outputId": "954fc962-6f82-4b9e-9909-ec3f33262a26",
        "colab": {
          "base_uri": "https://localhost:8080/",
          "height": 286
        }
      },
      "source": [
        "#Here we go through each of the 10 trees, take the mean of all of the predictions up to the ith trees\n",
        "#finally we plot the r^2\n",
        "#We can see it significantly improving as the number of trees grows\n",
        "plt.plot([metrics.r2_score(y_valid, np.mean(preds[:i+1], axis=0)) for i in range(10)])"
      ],
      "execution_count": 0,
      "outputs": [
        {
          "output_type": "execute_result",
          "data": {
            "text/plain": [
              "[<matplotlib.lines.Line2D at 0x7fb809105710>]"
            ]
          },
          "metadata": {
            "tags": []
          },
          "execution_count": 35
        },
        {
          "output_type": "display_data",
          "data": {
            "image/png": "[encoded data removed]",
            "text/plain": [
              "<Figure size 432x288 with 1 Axes>"
            ]
          },
          "metadata": {
            "tags": []
          }
        }
      ]
    },
    {
      "cell_type": "markdown",
      "metadata": {
        "id": "S8rNBHcgvdFz",
        "colab_type": "text"
      },
      "source": [
        "###**Out-of-bag (OOB) score**\n",
        "Sometimes our data set will be a bit small and you dont want to pull out a validation set since that will mean our model with get crappier since the training data will be pretty small. WWYD? Theres a cool trick pretty much unique to random forests which is realizing that some of our rows didn't get used for some of our predictors so you can take those rows and pass it to the trees in which they don't appear and use that as your validation set. To calculate our preditction we will basically take every\n",
        "row, see where it doesn't appear and average those trees.\n"
      ]
    },
    {
      "cell_type": "code",
      "metadata": {
        "id": "shguhQb32Lqk",
        "colab_type": "code",
        "outputId": "1b3fb130-be2e-4462-8855-a4ed61995648",
        "colab": {
          "base_uri": "https://localhost:8080/"
        }
      },
      "source": [
        "model = RandomForestRegressor(n_estimators=40, n_jobs=-1, oob_score=True)\n",
        "model.fit(X_train, y_train)\n",
        "print_score(model)"
      ],
      "execution_count": 0,
      "outputs": [
        {
          "output_type": "stream",
          "text": [
            "RMSE training: 0.09628401017110143\n",
            "RMSE validation: 0.34015477136050964\n",
            "R^2 training: 0.9797083487849503\n",
            "R^2 validation: 0.7933663208826347\n",
            "OOB_SCORE: 0.8559266935016672\n"
          ],
          "name": "stdout"
        }
      ]
    },
    {
      "cell_type": "code",
      "metadata": {
        "id": "N7fCiMENxip6",
        "colab_type": "code",
        "outputId": "8ab3c448-8b25-4397-e11c-a2cde3727c02",
        "colab": {
          "base_uri": "https://localhost:8080/"
        }
      },
      "source": [
        "from random import randrange\n",
        "\n",
        "xd = []\n",
        "\n",
        "for i in range(1000):\n",
        "  xd.append(False)\n",
        "\n",
        "for i in range(1000):\n",
        "  x = randrange(1000)\n",
        "  xd[x] = True\n",
        "\n",
        "count = 0\n",
        "for i in range(1000):\n",
        "  if(xd[i]):\n",
        "    count = count+1\n",
        "\n",
        "print(count/1000)"
      ],
      "execution_count": 0,
      "outputs": [
        {
          "output_type": "stream",
          "text": [
            "0.614\n"
          ],
          "name": "stdout"
        }
      ]
    },
    {
      "cell_type": "markdown",
      "metadata": {
        "id": "1-Wvogk72-Hj",
        "colab_type": "text"
      },
      "source": [
        "###**Grid Search**\n",
        "\n",
        "Basically a Sklearn function that allows us to pass all the parameters we want to try with a list of all the values we want to choose. Then this GridSeatch will try all the combinations and with that it will choose the best combination model."
      ]
    },
    {
      "cell_type": "markdown",
      "metadata": {
        "id": "J0w30qkE1hUf",
        "colab_type": "text"
      },
      "source": [
        "### **Defined Sub-sampling**\n",
        "Previously we selected our data to be of size 30000 and we are bootstraping over such set but, why dont we just program our model to instead look into all the dataframe but just take 30000 samples per each predictor?"
      ]
    },
    {
      "cell_type": "code",
      "metadata": {
        "id": "Mo3i6wiW2KKL",
        "colab_type": "code",
        "outputId": "d9b7c5dc-b414-47ae-9523-a50b4be0b140",
        "colab": {
          "base_uri": "https://localhost:8080/",
          "height": 34
        }
      },
      "source": [
        "#Lets resample our data frame\n",
        "df_trn, y_trn, nas = proc_df(data_raw, 'SalePrice')\n",
        "X_train, X_valid = split_vals(df_trn, n_trn)\n",
        "y_train, y_valid = split_vals(y_trn, n_trn)\n",
        "df_trn.shape"
      ],
      "execution_count": 0,
      "outputs": [
        {
          "output_type": "execute_result",
          "data": {
            "text/plain": [
              "(401125, 66)"
            ]
          },
          "metadata": {
            "tags": []
          },
          "execution_count": 50
        }
      ]
    },
    {
      "cell_type": "code",
      "metadata": {
        "id": "OsQ8dtS62Ivj",
        "colab_type": "code",
        "colab": {}
      },
      "source": [
        "#Lets set the samples we want\n",
        "set_rf_samples(20000)"
      ],
      "execution_count": 0,
      "outputs": []
    },
    {
      "cell_type": "code",
      "metadata": {
        "id": "zqGc5dEW2DFI",
        "colab_type": "code",
        "outputId": "28b06349-cc76-40f1-9b31-e17b65a0af77",
        "colab": {
          "base_uri": "https://localhost:8080/",
          "height": 119
        }
      },
      "source": [
        "#Now it will run as fast as before but with a wider data set\n",
        "model = RandomForestRegressor(n_estimators=40, n_jobs=-1)\n",
        "%time model.fit(X_train, y_train)\n",
        "print_score(model)"
      ],
      "execution_count": 0,
      "outputs": [
        {
          "output_type": "stream",
          "text": [
            "CPU times: user 33.1 s, sys: 154 ms, total: 33.2 s\n",
            "Wall time: 17.4 s\n",
            "RMSE training: 0.2274881586764422\n",
            "RMSE validation: 0.2656612498185881\n",
            "R^2 training: 0.8918435517488923\n",
            "R^2 validation: 0.8739611601577757\n"
          ],
          "name": "stdout"
        }
      ]
    },
    {
      "cell_type": "code",
      "metadata": {
        "id": "VSKTdC6D2CG8",
        "colab_type": "code",
        "colab": {}
      },
      "source": [
        "#Lets reset it back to normal\n",
        "reset_rf_samples()"
      ],
      "execution_count": 0,
      "outputs": []
    },
    {
      "cell_type": "markdown",
      "metadata": {
        "id": "K4R3ZcJ04vOD",
        "colab_type": "text"
      },
      "source": [
        "###**Grow trees less deep**\n",
        "Another way to reduce overfitting is to reduce the deepness of our trees. We can do this by specifing min_samples_leaf"
      ]
    },
    {
      "cell_type": "code",
      "metadata": {
        "id": "iy1SC-OT19OZ",
        "colab_type": "code",
        "colab": {}
      },
      "source": [
        "#Go back to reduced data\n",
        "df_trn, y_trn, nas = proc_df(data_raw, 'SalePrice', subset=20000)\n",
        "X_train, _ = split_vals(df_trn, n_trn)\n",
        "y_train, _ = split_vals(y_trn, n_trn)"
      ],
      "execution_count": 0,
      "outputs": []
    },
    {
      "cell_type": "code",
      "metadata": {
        "id": "qiJLDMc617vn",
        "colab_type": "code",
        "outputId": "b321739d-3817-40d5-9c81-4620ffafd325",
        "colab": {
          "base_uri": "https://localhost:8080/",
          "height": 102
        }
      },
      "source": [
        "#Min_samples_leaf tells each predictor to stop a node when it has 3 or less samples in it (betweeen 1 and 25 usually)\n",
        "model = RandomForestRegressor(n_estimators=40, n_jobs=-1, min_samples_leaf=3, oob_score=True)\n",
        "model.fit(X_train, y_train)\n",
        "print_score(model)"
      ],
      "execution_count": 0,
      "outputs": [
        {
          "output_type": "stream",
          "text": [
            "RMSE training: 0.14372097621663701\n",
            "RMSE validation: 0.27162348097035416\n",
            "R^2 training: 0.9572357243602893\n",
            "R^2 validation: 0.8682403006603494\n",
            "OOB_SCORE: 0.8480940985354933\n"
          ],
          "name": "stdout"
        }
      ]
    },
    {
      "cell_type": "markdown",
      "metadata": {
        "id": "MyJCbc9t6IL9",
        "colab_type": "text"
      },
      "source": [
        "###**Setup maximum number of features**\n",
        "The less correlated your trees are, the better. Hence taking a different subset of columns every time we create a split will allow us to increase the un-correlation of the predictors."
      ]
    },
    {
      "cell_type": "code",
      "metadata": {
        "id": "ZmnDn4GA6z6x",
        "colab_type": "code",
        "outputId": "d3322a81-12bb-45e1-8611-341826ca035f",
        "colab": {
          "base_uri": "https://localhost:8080/",
          "height": 102
        }
      },
      "source": [
        "#Max_features is a precentage of how much features we are comparing when selecting a split in a node of our predictor\n",
        "model = RandomForestRegressor(n_estimators=40, n_jobs=-1, min_samples_leaf=3, max_features=0.5, oob_score=True)\n",
        "model.fit(X_train, y_train)\n",
        "print_score(model)"
      ],
      "execution_count": 0,
      "outputs": [
        {
          "output_type": "stream",
          "text": [
            "RMSE training: 0.1483671081768729\n",
            "RMSE validation: 0.26863059945980455\n",
            "R^2 training: 0.9544261134268992\n",
            "R^2 validation: 0.8711278908187969\n",
            "OOB_SCORE: 0.853512376722072\n"
          ],
          "name": "stdout"
        }
      ]
    },
    {
      "cell_type": "markdown",
      "metadata": {
        "id": "w8oNO2xVnTyd",
        "colab_type": "text"
      },
      "source": [
        "### **Interesting and useful errors**"
      ]
    },
    {
      "cell_type": "markdown",
      "metadata": {
        "id": "AmOW64OOnvCy",
        "colab_type": "text"
      },
      "source": [
        "#### **Common important errors**\n",
        "\n",
        "There are 4 very important errors discussed in this lecture which are:\n",
        "\n",
        "\n",
        "*   RMSE\n",
        "*   RMSLE\n",
        "*   MSE\n",
        "*   R^2\n",
        "\n",
        "---\n",
        "\n",
        "**RMSE:**\n",
        "\n",
        "The RMSE or Root Mean Squared Error is calculated with the following formula:\n",
        "\n",
        "![](https://images.squarespace-cdn.com/content/v1/58c95854c534a56689231265/1531152039771-PI1ZAS4DSZCCUBST3KEK/ke17ZwdGBToddI8pDm48kC1MXajuusIgG2-0QRxSgZpZw-zPPgdn4jUwVcJE1ZvWhcwhEtWJXoshNdA9f1qD7dso8WS9HrXe-DDzLfr_qHmdYaYQTvCmLudhQgTG6nPRZVy99kA3NNj9L0tcpT6_qQ/Formula.PNG?format=750w)\n",
        "\n",
        "\n",
        "Where *fi* is the predicted value and *oi* is the real value.\n",
        "This means that this error is basically relative to your model and the predctions it's making with the real value. This error tends to 0 however this may mean that we are overfitting with out model.\n",
        "\n",
        "The behind meaning of this formula is the standard deviation of the prediction errors.\n",
        "\n",
        "https://towardsdatascience.com/what-does-rmse-really-mean-806b65f2e48e\n",
        "\n",
        "---\n",
        "\n",
        "**RMSLE:**\n",
        "\n",
        "The RMSE or Root Mean Squared **Log** Error is calculated with the following formula:\n",
        "![](https://encrypted-tbn0.gstatic.com/images?q=tbn%3AANd9GcR4Gx-0QNjApH2LIsAckIiuIbmpDanv4hYVWdWd6kzw1HI8WOIB)\n",
        "\n",
        "Which is exactly the same as the RMSE but with the logarithms of the prediciton and real values. It's important to notice that this is used to consider proportionality in the error and is commonly used for measuring error in things like income or money related stuff among others.\n",
        "\n",
        "---\n",
        "\n",
        "\n",
        "**MSE:**\n",
        "\n",
        "\n",
        "The MSE is essentialy the RMSE^2 hence it has the following formula:\n",
        "![](https://encrypted-tbn0.gstatic.com/images?q=tbn%3AANd9GcSGz-xPE-mJ_Po1kyJic4B-gqyjqk3OsM6hTqGk8rqSZarLlBhn)\n",
        "\n",
        "And essentialy as the RMSE is a very good estimation of the standar deviation of the distribution of the errors in our model this is the variance.\n",
        "\n",
        "---\n",
        "\n",
        "**R^2**\n",
        "\n",
        "The R^2 error is extremly important since this is a very good measuerement of our model against itself. *We can obtain it by doing model.score* and it has the following formula:\n",
        "\n",
        "![](https://st4.ning.com/topology/rest/1.0/file/get/2853465446?profile=RESIZE_710x)\n",
        "\n",
        "The range of this formula is [-oo, 1] and is essentially 1 - the division of the MSE over the Variance of the model. Notice that if we just make a crappy prediction of the mean of our observations then we will get 0 as out R^2, in the other hand if we overfit the model as much as we can so that the prediciton is alwas the same as the actual value we will be getting an r^2 of 1 which is essentilay an interpolation of our data *not great for predigting*\n",
        "\n",
        "\n",
        "\n"
      ]
    },
    {
      "cell_type": "markdown",
      "metadata": {
        "id": "vUfCk08JOpzo",
        "colab_type": "text"
      },
      "source": [
        "#### **Test Sets**\n",
        "\n",
        "So in general a very important thing to note beforw entering the hyper parameters is that we need to have 3 sets for our models: the training, validation and test sets. We will use the training to train the model, the validation to modify the hyperparameters of the model an the test one just at the very end to test that our hyeperparameters aren't overfitting our validation set.\n",
        "\n",
        "\n",
        "Also an important thing to notice is that we should make our validation and tests sets according to what we are trying to predict. For instance if we want to predict the fututre sale prices of a company then we should use a validation and test set from the future of the training set.\n",
        "\n"
      ]
    },
    {
      "cell_type": "markdown",
      "metadata": {
        "id": "noJve9SmogH3",
        "colab_type": "text"
      },
      "source": [
        "##**Lesson 3: Inisghts and large data**"
      ]
    },
    {
      "cell_type": "markdown",
      "metadata": {
        "id": "JS7pk9qusGrQ",
        "colab_type": "text"
      },
      "source": [
        "###**Checking our condifence with our predictions**\n",
        "We wouldn't be very confident of a prediciton if we haven't seen rows similar to the one we are predicting, hence we can expect that none of our predictors will have a path leading to a good prediction on such row. We would expect that as passing this row as input to all our predictors and calculating it's average we will end up with a huege standard deviation which gives us a relative understanding of how sure we are about the predcition for this row."
      ]
    },
    {
      "cell_type": "code",
      "metadata": {
        "id": "HtA88S8apfie",
        "colab_type": "code",
        "colab": {}
      },
      "source": [
        "#Lets resample our data frame\n",
        "df_trn, y_trn, nas = proc_df(data_raw, 'SalePrice')\n",
        "X_train, X_valid = split_vals(df_trn, n_trn)\n",
        "y_train, y_valid = split_vals(y_trn, n_trn)"
      ],
      "execution_count": 0,
      "outputs": []
    },
    {
      "cell_type": "code",
      "metadata": {
        "id": "fh7b9U0LphGN",
        "colab_type": "code",
        "colab": {}
      },
      "source": [
        "#Sklearn doesn't have the functions needed to calculate the standard deviation\n",
        "#of a given row so lets create our own function.\n",
        "set_rf_samples(50000) #We can variate this number to as much as the results changes are non significant, 50k is a good number."
      ],
      "execution_count": 0,
      "outputs": []
    },
    {
      "cell_type": "code",
      "metadata": {
        "id": "JGV3HTNcvJpj",
        "colab_type": "code",
        "colab": {}
      },
      "source": [
        "data_raw"
      ],
      "execution_count": 0,
      "outputs": []
    },
    {
      "cell_type": "code",
      "metadata": {
        "id": "34T-deUYvUL5",
        "colab_type": "code",
        "outputId": "4f6d1620-bbf2-4cd3-ab52-e858f394dc7c",
        "colab": {
          "base_uri": "https://localhost:8080/",
          "height": 102
        }
      },
      "source": [
        "#creating our model\n",
        "model = RandomForestRegressor(n_estimators=40, min_samples_leaf=3, max_features=0.5, n_jobs=-1, oob_score=True)\n",
        "model.fit(X_train, y_train)\n",
        "print_score(model)"
      ],
      "execution_count": 0,
      "outputs": [
        {
          "output_type": "stream",
          "text": [
            "RMSE training: 0.20610179515332913\n",
            "RMSE validation: 0.2491875759158651\n",
            "R^2 training: 0.9112234272108879\n",
            "R^2 validation: 0.8891078650977828\n",
            "OOB_SCORE: 0.8941786972564224\n"
          ],
          "name": "stdout"
        }
      ]
    },
    {
      "cell_type": "markdown",
      "metadata": {
        "id": "NJXQHUPwwbLl",
        "colab_type": "text"
      },
      "source": [
        "Lets now add the part of calculating a row's standar deviation with the trees we have and our validation set."
      ]
    },
    {
      "cell_type": "code",
      "metadata": {
        "id": "G-nV9MruwRhd",
        "colab_type": "code",
        "outputId": "3c37510e-d0a5-4123-bddc-4813bbd19cfb",
        "colab": {
          "base_uri": "https://localhost:8080/",
          "height": 68
        }
      },
      "source": [
        "%time preds = np.stack([t.predict(X_valid) for t in model.estimators_])\n",
        "np.mean(preds[:,0]), np.std(preds[:,0])"
      ],
      "execution_count": 0,
      "outputs": [
        {
          "output_type": "stream",
          "text": [
            "CPU times: user 1.41 s, sys: 55.9 ms, total: 1.46 s\n",
            "Wall time: 1.47 s\n"
          ],
          "name": "stdout"
        },
        {
          "output_type": "execute_result",
          "data": {
            "text/plain": [
              "(9.242722515331973, 0.21803465463211869)"
            ]
          },
          "metadata": {
            "tags": []
          },
          "execution_count": 69
        }
      ]
    },
    {
      "cell_type": "code",
      "metadata": {
        "id": "6a2ZVQ6vxQ6F",
        "colab_type": "code",
        "outputId": "686909c7-253a-4a7f-c280-59882b588b55",
        "colab": {
          "base_uri": "https://localhost:8080/",
          "height": 68
        }
      },
      "source": [
        "#multi thread version\n",
        "def get_preds(t): return t.predict(X_valid)\n",
        "%time preds = np.stack(parallel_trees(model, get_preds, n_jobs=8))\n",
        "np.mean(preds[:,0]), np.std(preds[:,0])"
      ],
      "execution_count": 0,
      "outputs": [
        {
          "output_type": "stream",
          "text": [
            "CPU times: user 94.5 ms, sys: 136 ms, total: 231 ms\n",
            "Wall time: 1.63 s\n"
          ],
          "name": "stdout"
        },
        {
          "output_type": "execute_result",
          "data": {
            "text/plain": [
              "(9.242722515331973, 0.21803465463211869)"
            ]
          },
          "metadata": {
            "tags": []
          },
          "execution_count": 72
        }
      ]
    },
    {
      "cell_type": "markdown",
      "metadata": {
        "id": "NrnP2TtM2QEu",
        "colab_type": "text"
      },
      "source": [
        "Lets now add the standard deviation and prediction to our validation data."
      ]
    },
    {
      "cell_type": "code",
      "metadata": {
        "id": "Z0dvF_XSxQ8L",
        "colab_type": "code",
        "colab": {}
      },
      "source": [
        "raw_valid_cpy = raw_valid.copy()\n",
        "raw_valid_cpy['pred_std'] = np.std(preds, axis=0)\n",
        "raw_valid_cpy['pred'] = np.mean(preds, axis=0)"
      ],
      "execution_count": 0,
      "outputs": []
    },
    {
      "cell_type": "markdown",
      "metadata": {
        "id": "DBfU1rUL2XFd",
        "colab_type": "text"
      },
      "source": [
        "Lets now check how many times each value appeared for the Enclosure (this obviously may be any column). This time this gives us an insight that the first 3 don't really matter since they pretty much don't appear."
      ]
    },
    {
      "cell_type": "code",
      "metadata": {
        "id": "cOQa06b22WMT",
        "colab_type": "code",
        "outputId": "4ec0800d-9ff6-421f-d966-700606d42b7d",
        "colab": {
          "base_uri": "https://localhost:8080/",
          "height": 282
        }
      },
      "source": [
        "raw_valid.Enclosure.value_counts().plot.barh()"
      ],
      "execution_count": 0,
      "outputs": [
        {
          "output_type": "execute_result",
          "data": {
            "text/plain": [
              "<matplotlib.axes._subplots.AxesSubplot at 0x7fb80adc6c88>"
            ]
          },
          "metadata": {
            "tags": []
          },
          "execution_count": 77
        },
        {
          "output_type": "display_data",
          "data": {
            "image/png": "[encoded data removed]",
            "text/plain": [
              "<Figure size 432x288 with 1 Axes>"
            ]
          },
          "metadata": {
            "tags": []
          }
        }
      ]
    },
    {
      "cell_type": "markdown",
      "metadata": {
        "id": "ElOM7-r33UZe",
        "colab_type": "text"
      },
      "source": [
        "Now lets take the fields ['Enclosure', 'SalePrice', 'pred', 'pred_std'] and lets take filter our validation by that. Then let's just group by the enclosure types and take the mean of the sale price (actual value), the prediction and the standard deviation."
      ]
    },
    {
      "cell_type": "code",
      "metadata": {
        "id": "dQpWNx7M25vP",
        "colab_type": "code",
        "outputId": "810ddb09-955e-4001-c2c6-7898e830f380",
        "colab": {
          "base_uri": "https://localhost:8080/",
          "height": 235
        }
      },
      "source": [
        "flds = ['Enclosure', 'SalePrice', 'pred', 'pred_std']\n",
        "enc_summ = raw_valid_cpy[flds].groupby('Enclosure', as_index=False).mean()\n",
        "enc_summ"
      ],
      "execution_count": 0,
      "outputs": [
        {
          "output_type": "execute_result",
          "data": {
            "text/html": [
              "<div>\n",
              "<style scoped>\n",
              "    .dataframe tbody tr th:only-of-type {\n",
              "        vertical-align: middle;\n",
              "    }\n",
              "\n",
              "    .dataframe tbody tr th {\n",
              "        vertical-align: top;\n",
              "    }\n",
              "\n",
              "    .dataframe thead th {\n",
              "        text-align: right;\n",
              "    }\n",
              "</style>\n",
              "<table border=\"1\" class=\"dataframe\">\n",
              "  <thead>\n",
              "    <tr style=\"text-align: right;\">\n",
              "      <th></th>\n",
              "      <th>Enclosure</th>\n",
              "      <th>SalePrice</th>\n",
              "      <th>pred</th>\n",
              "      <th>pred_std</th>\n",
              "    </tr>\n",
              "  </thead>\n",
              "  <tbody>\n",
              "    <tr>\n",
              "      <th>0</th>\n",
              "      <td>EROPS</td>\n",
              "      <td>9.849178</td>\n",
              "      <td>9.836050</td>\n",
              "      <td>0.276019</td>\n",
              "    </tr>\n",
              "    <tr>\n",
              "      <th>1</th>\n",
              "      <td>EROPS AC</td>\n",
              "      <td>NaN</td>\n",
              "      <td>NaN</td>\n",
              "      <td>NaN</td>\n",
              "    </tr>\n",
              "    <tr>\n",
              "      <th>2</th>\n",
              "      <td>EROPS w AC</td>\n",
              "      <td>10.623971</td>\n",
              "      <td>10.579534</td>\n",
              "      <td>0.263422</td>\n",
              "    </tr>\n",
              "    <tr>\n",
              "      <th>3</th>\n",
              "      <td>NO ROPS</td>\n",
              "      <td>NaN</td>\n",
              "      <td>NaN</td>\n",
              "      <td>NaN</td>\n",
              "    </tr>\n",
              "    <tr>\n",
              "      <th>4</th>\n",
              "      <td>None or Unspecified</td>\n",
              "      <td>NaN</td>\n",
              "      <td>NaN</td>\n",
              "      <td>NaN</td>\n",
              "    </tr>\n",
              "    <tr>\n",
              "      <th>5</th>\n",
              "      <td>OROPS</td>\n",
              "      <td>9.682064</td>\n",
              "      <td>9.686654</td>\n",
              "      <td>0.223936</td>\n",
              "    </tr>\n",
              "  </tbody>\n",
              "</table>\n",
              "</div>"
            ],
            "text/plain": [
              "             Enclosure  SalePrice       pred  pred_std\n",
              "0                EROPS   9.849178   9.836050  0.276019\n",
              "1             EROPS AC        NaN        NaN       NaN\n",
              "2           EROPS w AC  10.623971  10.579534  0.263422\n",
              "3              NO ROPS        NaN        NaN       NaN\n",
              "4  None or Unspecified        NaN        NaN       NaN\n",
              "5                OROPS   9.682064   9.686654  0.223936"
            ]
          },
          "metadata": {
            "tags": []
          },
          "execution_count": 80
        }
      ]
    },
    {
      "cell_type": "code",
      "metadata": {
        "id": "e20FWl9425xa",
        "colab_type": "code",
        "outputId": "0d448a8f-041d-4c41-c781-2464a4a1b48a",
        "colab": {
          "base_uri": "https://localhost:8080/",
          "height": 282
        }
      },
      "source": [
        "#Plot Sale Price\n",
        "enc_summ = enc_summ[~pd.isnull(enc_summ.SalePrice)]\n",
        "enc_summ.plot('Enclosure', 'SalePrice', 'barh', xlim=(0, 11))"
      ],
      "execution_count": 0,
      "outputs": [
        {
          "output_type": "execute_result",
          "data": {
            "text/plain": [
              "<matplotlib.axes._subplots.AxesSubplot at 0x7fb80ac8bf28>"
            ]
          },
          "metadata": {
            "tags": []
          },
          "execution_count": 82
        },
        {
          "output_type": "display_data",
          "data": {
            "image/png": "[encoded data removed]",
            "text/plain": [
              "<Figure size 432x288 with 1 Axes>"
            ]
          },
          "metadata": {
            "tags": []
          }
        }
      ]
    },
    {
      "cell_type": "code",
      "metadata": {
        "id": "8b3fmXDe25zg",
        "colab_type": "code",
        "outputId": "5a88eebc-d025-4d16-ea65-2a0f2b2d110e",
        "colab": {
          "base_uri": "https://localhost:8080/",
          "height": 282
        }
      },
      "source": [
        "#Plot predictions\n",
        "enc_summ.plot('Enclosure', 'pred', 'barh', xerr='pred_std', alpha=0.6, xlim=(0, 11))"
      ],
      "execution_count": 0,
      "outputs": [
        {
          "output_type": "execute_result",
          "data": {
            "text/plain": [
              "<matplotlib.axes._subplots.AxesSubplot at 0x7fb81044bef0>"
            ]
          },
          "metadata": {
            "tags": []
          },
          "execution_count": 87
        },
        {
          "output_type": "display_data",
          "data": {
            "image/png": "[encoded data removed]",
            "text/plain": [
              "<Figure size 432x288 with 1 Axes>"
            ]
          },
          "metadata": {
            "tags": []
          }
        }
      ]
    },
    {
      "cell_type": "code",
      "metadata": {
        "id": "iGLqWdRm26Hq",
        "colab_type": "code",
        "outputId": "ecc75881-b7ca-4893-fad5-6fb4f84ca6eb",
        "colab": {
          "base_uri": "https://localhost:8080/",
          "height": 282
        }
      },
      "source": [
        "#Another example but with product sizes\n",
        "raw_valid.ProductSize.value_counts().plot.barh()"
      ],
      "execution_count": 0,
      "outputs": [
        {
          "output_type": "execute_result",
          "data": {
            "text/plain": [
              "<matplotlib.axes._subplots.AxesSubplot at 0x7fb80a22db70>"
            ]
          },
          "metadata": {
            "tags": []
          },
          "execution_count": 88
        },
        {
          "output_type": "display_data",
          "data": {
            "image/png": "[encoded data removed]",
            "text/plain": [
              "<Figure size 432x288 with 1 Axes>"
            ]
          },
          "metadata": {
            "tags": []
          }
        }
      ]
    },
    {
      "cell_type": "markdown",
      "metadata": {
        "id": "Av2fukgR5Vea",
        "colab_type": "text"
      },
      "source": [
        "When we try this one we see that there are less Compact rows than any other and their standard deviation is bigger. This totally makes sense since we expect our model not to be that good on prediction Compact types as it is predicting any other since we have less samples of it."
      ]
    },
    {
      "cell_type": "code",
      "metadata": {
        "id": "8M0lP3Yz4zPD",
        "colab_type": "code",
        "outputId": "a58a06eb-08c4-4c9c-9ec6-3a51e9417ddc",
        "colab": {
          "base_uri": "https://localhost:8080/",
          "height": 266
        }
      },
      "source": [
        "flds = ['ProductSize', 'SalePrice', 'pred', 'pred_std']\n",
        "summ = raw_valid_cpy[flds].groupby(flds[0]).mean()\n",
        "summ"
      ],
      "execution_count": 0,
      "outputs": [
        {
          "output_type": "execute_result",
          "data": {
            "text/html": [
              "<div>\n",
              "<style scoped>\n",
              "    .dataframe tbody tr th:only-of-type {\n",
              "        vertical-align: middle;\n",
              "    }\n",
              "\n",
              "    .dataframe tbody tr th {\n",
              "        vertical-align: top;\n",
              "    }\n",
              "\n",
              "    .dataframe thead th {\n",
              "        text-align: right;\n",
              "    }\n",
              "</style>\n",
              "<table border=\"1\" class=\"dataframe\">\n",
              "  <thead>\n",
              "    <tr style=\"text-align: right;\">\n",
              "      <th></th>\n",
              "      <th>SalePrice</th>\n",
              "      <th>pred</th>\n",
              "      <th>pred_std</th>\n",
              "    </tr>\n",
              "    <tr>\n",
              "      <th>ProductSize</th>\n",
              "      <th></th>\n",
              "      <th></th>\n",
              "      <th></th>\n",
              "    </tr>\n",
              "  </thead>\n",
              "  <tbody>\n",
              "    <tr>\n",
              "      <th>Compact</th>\n",
              "      <td>9.735093</td>\n",
              "      <td>9.865039</td>\n",
              "      <td>0.346347</td>\n",
              "    </tr>\n",
              "    <tr>\n",
              "      <th>Large</th>\n",
              "      <td>10.470589</td>\n",
              "      <td>10.387015</td>\n",
              "      <td>0.357155</td>\n",
              "    </tr>\n",
              "    <tr>\n",
              "      <th>Large / Medium</th>\n",
              "      <td>10.691871</td>\n",
              "      <td>10.645821</td>\n",
              "      <td>0.294539</td>\n",
              "    </tr>\n",
              "    <tr>\n",
              "      <th>Medium</th>\n",
              "      <td>10.681511</td>\n",
              "      <td>10.623656</td>\n",
              "      <td>0.284143</td>\n",
              "    </tr>\n",
              "    <tr>\n",
              "      <th>Mini</th>\n",
              "      <td>9.535147</td>\n",
              "      <td>9.564988</td>\n",
              "      <td>0.254937</td>\n",
              "    </tr>\n",
              "    <tr>\n",
              "      <th>Small</th>\n",
              "      <td>10.324448</td>\n",
              "      <td>10.330452</td>\n",
              "      <td>0.299728</td>\n",
              "    </tr>\n",
              "  </tbody>\n",
              "</table>\n",
              "</div>"
            ],
            "text/plain": [
              "                SalePrice       pred  pred_std\n",
              "ProductSize                                   \n",
              "Compact          9.735093   9.865039  0.346347\n",
              "Large           10.470589  10.387015  0.357155\n",
              "Large / Medium  10.691871  10.645821  0.294539\n",
              "Medium          10.681511  10.623656  0.284143\n",
              "Mini             9.535147   9.564988  0.254937\n",
              "Small           10.324448  10.330452  0.299728"
            ]
          },
          "metadata": {
            "tags": []
          },
          "execution_count": 91
        }
      ]
    },
    {
      "cell_type": "code",
      "metadata": {
        "id": "6GAj6Zu55mJu",
        "colab_type": "code",
        "outputId": "b00d60f2-49a0-457f-d9a2-8293e06be875",
        "colab": {
          "base_uri": "https://localhost:8080/",
          "height": 153
        }
      },
      "source": [
        "(summ.pred_std/summ.pred).sort_values(ascending=False)"
      ],
      "execution_count": 0,
      "outputs": [
        {
          "output_type": "execute_result",
          "data": {
            "text/plain": [
              "ProductSize\n",
              "Compact           0.035108\n",
              "Large             0.034385\n",
              "Small             0.029014\n",
              "Large / Medium    0.027667\n",
              "Medium            0.026746\n",
              "Mini              0.026653\n",
              "dtype: float64"
            ]
          },
          "metadata": {
            "tags": []
          },
          "execution_count": 92
        }
      ]
    },
    {
      "cell_type": "markdown",
      "metadata": {
        "id": "xKY867up6Ey0",
        "colab_type": "text"
      },
      "source": [
        "###**Feature Importance**\n",
        "Usually we also like to take a look into the importance of the features we have in our predictions."
      ]
    },
    {
      "cell_type": "markdown",
      "metadata": {
        "id": "QJX6BWi-6iqu",
        "colab_type": "text"
      },
      "source": [
        "Lets check whic ones have the most importance in this columns"
      ]
    },
    {
      "cell_type": "code",
      "metadata": {
        "id": "fobKTYCN5mLp",
        "colab_type": "code",
        "outputId": "cc8ed18e-088c-47d6-b8b8-7eaa03389c59",
        "colab": {
          "base_uri": "https://localhost:8080/",
          "height": 359
        }
      },
      "source": [
        "fi = rf_feat_importance(model, df_trn)\n",
        "fi[:10]"
      ],
      "execution_count": 0,
      "outputs": [
        {
          "output_type": "execute_result",
          "data": {
            "text/html": [
              "<div>\n",
              "<style scoped>\n",
              "    .dataframe tbody tr th:only-of-type {\n",
              "        vertical-align: middle;\n",
              "    }\n",
              "\n",
              "    .dataframe tbody tr th {\n",
              "        vertical-align: top;\n",
              "    }\n",
              "\n",
              "    .dataframe thead th {\n",
              "        text-align: right;\n",
              "    }\n",
              "</style>\n",
              "<table border=\"1\" class=\"dataframe\">\n",
              "  <thead>\n",
              "    <tr style=\"text-align: right;\">\n",
              "      <th></th>\n",
              "      <th>cols</th>\n",
              "      <th>imp</th>\n",
              "    </tr>\n",
              "  </thead>\n",
              "  <tbody>\n",
              "    <tr>\n",
              "      <th>5</th>\n",
              "      <td>YearMade</td>\n",
              "      <td>0.169126</td>\n",
              "    </tr>\n",
              "    <tr>\n",
              "      <th>37</th>\n",
              "      <td>Coupler_System</td>\n",
              "      <td>0.114464</td>\n",
              "    </tr>\n",
              "    <tr>\n",
              "      <th>13</th>\n",
              "      <td>ProductSize</td>\n",
              "      <td>0.093549</td>\n",
              "    </tr>\n",
              "    <tr>\n",
              "      <th>14</th>\n",
              "      <td>fiProductClassDesc</td>\n",
              "      <td>0.070221</td>\n",
              "    </tr>\n",
              "    <tr>\n",
              "      <th>2</th>\n",
              "      <td>ModelID</td>\n",
              "      <td>0.055520</td>\n",
              "    </tr>\n",
              "    <tr>\n",
              "      <th>63</th>\n",
              "      <td>saleElapsed</td>\n",
              "      <td>0.052626</td>\n",
              "    </tr>\n",
              "    <tr>\n",
              "      <th>38</th>\n",
              "      <td>Grouser_Tracks</td>\n",
              "      <td>0.051530</td>\n",
              "    </tr>\n",
              "    <tr>\n",
              "      <th>10</th>\n",
              "      <td>fiSecondaryDesc</td>\n",
              "      <td>0.046354</td>\n",
              "    </tr>\n",
              "    <tr>\n",
              "      <th>8</th>\n",
              "      <td>fiModelDesc</td>\n",
              "      <td>0.034760</td>\n",
              "    </tr>\n",
              "    <tr>\n",
              "      <th>19</th>\n",
              "      <td>Enclosure</td>\n",
              "      <td>0.034386</td>\n",
              "    </tr>\n",
              "  </tbody>\n",
              "</table>\n",
              "</div>"
            ],
            "text/plain": [
              "                  cols       imp\n",
              "5             YearMade  0.169126\n",
              "37      Coupler_System  0.114464\n",
              "13         ProductSize  0.093549\n",
              "14  fiProductClassDesc  0.070221\n",
              "2              ModelID  0.055520\n",
              "63         saleElapsed  0.052626\n",
              "38      Grouser_Tracks  0.051530\n",
              "10     fiSecondaryDesc  0.046354\n",
              "8          fiModelDesc  0.034760\n",
              "19           Enclosure  0.034386"
            ]
          },
          "metadata": {
            "tags": []
          },
          "execution_count": 97
        }
      ]
    },
    {
      "cell_type": "code",
      "metadata": {
        "id": "YlRNFlGD5mNw",
        "colab_type": "code",
        "outputId": "7a0d4fcb-9dd1-43d6-9bcc-3c054d2e627a",
        "colab": {
          "base_uri": "https://localhost:8080/",
          "height": 406
        }
      },
      "source": [
        "fi.plot('cols', 'imp', figsize=(10, 6), legend=False)"
      ],
      "execution_count": 0,
      "outputs": [
        {
          "output_type": "execute_result",
          "data": {
            "text/plain": [
              "<matplotlib.axes._subplots.AxesSubplot at 0x7fb80a164208>"
            ]
          },
          "metadata": {
            "tags": []
          },
          "execution_count": 99
        },
        {
          "output_type": "display_data",
          "data": {
            "image/png": "[encoded data removed]",
            "text/plain": [
              "<Figure size 720x432 with 1 Axes>"
            ]
          },
          "metadata": {
            "tags": []
          }
        }
      ]
    },
    {
      "cell_type": "markdown",
      "metadata": {
        "id": "JnKS9M027DSm",
        "colab_type": "text"
      },
      "source": [
        "From this plots we can see that the topo 30 see this way. A good thing to do with this is check with your source of information about this and verify whats going on."
      ]
    },
    {
      "cell_type": "code",
      "metadata": {
        "id": "H69UNxAi7HLl",
        "colab_type": "code",
        "outputId": "3e885be2-6794-4f36-8038-f75e5c8dae11",
        "colab": {
          "base_uri": "https://localhost:8080/",
          "height": 445
        }
      },
      "source": [
        "def plot_fi(fi): return fi.plot('cols', 'imp', 'barh', figsize=(12, 7), legend=False)\n",
        "plot_fi(fi[:30]) "
      ],
      "execution_count": 0,
      "outputs": [
        {
          "output_type": "execute_result",
          "data": {
            "text/plain": [
              "<matplotlib.axes._subplots.AxesSubplot at 0x7fb80a120f98>"
            ]
          },
          "metadata": {
            "tags": []
          },
          "execution_count": 100
        },
        {
          "output_type": "display_data",
          "data": {
            "image/png": "[encoded data removed]",
            "text/plain": [
              "<Figure size 864x504 with 1 Axes>"
            ]
          },
          "metadata": {
            "tags": []
          }
        }
      ]
    },
    {
      "cell_type": "markdown",
      "metadata": {
        "id": "nqDQCAvB6z1X",
        "colab_type": "text"
      },
      "source": [
        "This is how our feature importance looks like. Lets start removing the ones that may add noise to our trees. Worst case we don't improve it but we make it significantly faster."
      ]
    },
    {
      "cell_type": "code",
      "metadata": {
        "id": "j4NpQBsr8MJT",
        "colab_type": "code",
        "outputId": "732d1810-a8cb-4759-eeeb-854db208fa75",
        "colab": {
          "base_uri": "https://localhost:8080/",
          "height": 34
        }
      },
      "source": [
        "to_keep = fi[fi.imp>0.005].cols\n",
        "len(to_keep)"
      ],
      "execution_count": 0,
      "outputs": [
        {
          "output_type": "execute_result",
          "data": {
            "text/plain": [
              "24"
            ]
          },
          "metadata": {
            "tags": []
          },
          "execution_count": 112
        }
      ]
    },
    {
      "cell_type": "code",
      "metadata": {
        "id": "V9NaV4Sd8VFy",
        "colab_type": "code",
        "colab": {}
      },
      "source": [
        "df_keep = df_trn[to_keep].copy()\n",
        "X_train, X_valid = split_vals(df_keep, n_trn)"
      ],
      "execution_count": 0,
      "outputs": []
    },
    {
      "cell_type": "code",
      "metadata": {
        "id": "tzhm2OVB8eKy",
        "colab_type": "code",
        "outputId": "c86ca3d8-e55a-4d00-991b-f0c100d6d2d2",
        "colab": {
          "base_uri": "https://localhost:8080/",
          "height": 102
        }
      },
      "source": [
        "model = RandomForestRegressor(n_estimators=40, min_samples_leaf=3, max_features=0.5, n_jobs=-1, oob_score=True)\n",
        "model.fit(X_train, y_train)\n",
        "print_score(model)"
      ],
      "execution_count": 0,
      "outputs": [
        {
          "output_type": "stream",
          "text": [
            "RMSE training: 0.20684094837607045\n",
            "RMSE validation: 0.24540888117654444\n",
            "R^2 training: 0.9105855176083172\n",
            "R^2 validation: 0.8924455150307317\n",
            "OOB_SCORE: 0.8942210169558495\n"
          ],
          "name": "stdout"
        }
      ]
    },
    {
      "cell_type": "markdown",
      "metadata": {
        "id": "3-oAJElJ82U-",
        "colab_type": "text"
      },
      "source": [
        "Removing redundant columns usually is cool for our data and our model, we see a slight improvement of 1% here for instance. An important thing to note is that when we remove important colums we are also removing **sources of colinearity**. Colinearity doesn't make your random forest less predictive but if you have 2 related columns and one of them is a strong driver of the dependent variable then the importance will sort of split between the 2 colinear columns. By removing some of those columns with very little impact it makes the feature importance clearer. By instance Year made was very close to Coupler System before but there must have been a bunch of colinear stuff correlated to year made since now it's importance is bigger. This new model is now better since there's less confussing colinearity in it."
      ]
    },
    {
      "cell_type": "code",
      "metadata": {
        "id": "-wuzKulL9WJc",
        "colab_type": "code",
        "outputId": "6771aef2-6326-4aae-bbf7-174f2398f5dc",
        "colab": {
          "base_uri": "https://localhost:8080/",
          "height": 445
        }
      },
      "source": [
        "fi = rf_feat_importance(model, df_keep)\n",
        "plot_fi(fi)"
      ],
      "execution_count": 0,
      "outputs": [
        {
          "output_type": "execute_result",
          "data": {
            "text/plain": [
              "<matplotlib.axes._subplots.AxesSubplot at 0x7fb809b99940>"
            ]
          },
          "metadata": {
            "tags": []
          },
          "execution_count": 116
        },
        {
          "output_type": "display_data",
          "data": {
            "image/png": "[encoded data removed]",
            "text/plain": [
              "<Figure size 864x504 with 1 Axes>"
            ]
          },
          "metadata": {
            "tags": []
          }
        }
      ]
    },
    {
      "cell_type": "markdown",
      "metadata": {
        "id": "8m7uBJ4vCBFe",
        "colab_type": "text"
      },
      "source": [
        "###**Feature Importance Tecnhique**\n",
        "One very cool tecnhique we can use is to take our validation set and start to make random shuffles in the colums for which we want to check their importance. This previous step will usually make\n",
        "this column pretty much useless and now we can just check how our RMSE changes when we do this to each column."
      ]
    },
    {
      "cell_type": "markdown",
      "metadata": {
        "id": "DpPYnFaVX4Ib",
        "colab_type": "text"
      },
      "source": [
        "###**How to deal with large data sets advice**\n",
        "We might find ourselves dealing with huge datasets of maybe about 100 million rows. Creaing Models this big often is very time consumming so we should seek to speed things up keeping our model as effective as possible.\n",
        "\n",
        "**When to use Random Forests?**\n",
        "\n",
        "It's always worth trying at least at the beginning to have a better understanding of our data. A better question is when to try something else and that's for structured data (images, sounds, etc.) you most certainly try deep learing for those.\n",
        "</br> </br>\n",
        "**How to save data to memory?**\n",
        "\n",
        "```\n",
        "types = {'id': 'int64',\n",
        "         'item_nbr': 'int32',\n",
        "         'store_nbr': 'int8',\n",
        "         'unit_sales': 'float32',\n",
        "         'onpromotion': 'object'}\n",
        "%%time\n",
        "df_all = pd.read_csv(f'{PATH}train.csv', parse_dates=['date'], \n",
        "                     dtype=types, infer_datetime_format=True)\n",
        "```\n",
        "Here we are setting up our types to just the neccesary.\n",
        "By using a UNIX command shuf, you can get a random sample of data at the command prompt and then you can just read that. This is a good way, for example, to find out what data types to use — read in a random sample and let Pandas figure it out for you. In general, t's good to do as much work as possible on a sample until you feel confident that you understand the sample before you move on.\n",
        "\n",
        "```\n",
        "shuf -n 5 -o sample_training.csv train.csv\n",
        "```\n",
        "</br> </br>\n",
        "**Handling date related data (most of it usually)**\n",
        "\n",
        "Let's say for instance, in this case we need to predict the last 2 weeks of a sale related variable for a store and we are given as our training set 4 years of data. If we are picking a smaller set of data to start training our model we must pick the most recent one, maybe the las year or so. It is not that there is no useful information from four years ago so we do not want to entirely throw it away. But as a first step, if you were to submit the mean, you would not submit the mean of the whole year sales, but probably want to submit the mean of last month’s sale.And later on, we might want to weight more recent dates more highly since they are probably more relevant. But we should do bunch of exploratory data analysis to check that.\n",
        "\n",
        "**How to make training models faster?**\n",
        "When training a model this big there is stuff we can optimize. For random forest applying the \"set_rf_samples\" is great. Also doing this:\n",
        "```\n",
        "x = np.array(trn, dtype=np.float32)\n",
        "```\n",
        "helps a lot when tweaking the hyperparameters of our model since this is a very time consumming operation that's always done when training our model. If we are using the same data over and over again then we can do this and it will save us a lot of time while tweaking our model.\n",
        "```\n",
        "%prun m.fit(x, y)\n",
        "```\n",
        "will give us this insight.\n",
        "\n",
        "</br> </br>\n",
        "**What if the RMSE is a bit high?**\n",
        "\n",
        "Well  this is probably a common situation, most of the insight around how much of something you expec to sell tomorrow is likely wrapped up in the details about where the store is, what kind of thins they tend to sell at the store, for a give item, what category of item it is etc. RandomForests don't have the ability to do anything other than create binary splits on the features we provided it. It's agnostic to details such type of items or location of stores. Since this ability is limited then increasing the range of our data frame to more years would probably help to get us some useful inisghts; the only disadvantage is that some of the data can be pretty old. Also pulling data from external datasets is really useful and a very common practice.\n",
        "\n",
        "</br> </br>\n",
        "**Improving our validation set**\n",
        "\n",
        "If we don't have a validation set then it's very hard to create a good model. Try to find the best model with similar rows to the ones you want to predict. Also normally you don't want to use your test set for anything other than right at the end of the competition or right at the end of the project to find out how you did but there's something you can do with your test set and that is to calibrate your validation set:\n",
        "\n",
        "![](https://miro.medium.com/max/600/1*1SKL7RKLaXwD7J4BDKJoHQ.png)\n",
        "\n",
        "What this person did was to create several models and submited them to kahhle to fin their score. X-axis is the score Kaggle told us on the leaderboard, and y-axis he plotted the score on a particular validation set he was trying out to see whether the validation set was going to be any good. If your validation set is good, then the relationship between the leaderboards score (i.e. the test set score) should lie in a straight line. Ideally, it will lie on the y = x line, but honestly that does not matter too much as long as relatively speaking it tells you which models are better than which other models, then you know which model is the best. In this case, Terrance has managed to come up with a validation set which looks like it is going to predict the Kaggle leaderboard score well. That is really cool because he can go away and try a hundred different types of models, feature engineering, weighting, tweaks, hyper parameters, whatever else, see how they go on the validation set, and not have to submit to Kaggle. So you will get a lot more iterations, a lot more feedback. This is not just true for Kaggle but every machine learning project you do. In general, if your validation set is not showing nice fit line, you need think carefully [48:02]. How is the test set constructed? How is my validation set different? You will have to draw lots of charts and so forth to find out.\n",
        "\n",
        "</br> </br>\n",
        "**Tips for validation sets:**\n",
        "\n",
        "* Close by date (i.e. most recent)\n",
        "*First looked at the date range of the test set (16 days), then looked at the date range of the kernel which described how to get 0.58 on the leaderboard by taking an average (14 days).\n",
        "* Test set begins on the day after pay day and ends on a pay day.\n",
        "* Plot lots of pictures. Even if you did not know it was pay day, you want to draw the time series chart and hopefully see that every two weeks there is a spike and make sure that you have the same number of spikes in the validation set as the test set."
      ]
    }
  ]
}